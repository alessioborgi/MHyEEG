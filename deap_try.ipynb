{
  "cells": [
    {
      "cell_type": "markdown",
      "source": [
        "# MHyEEG: DEAP DATASET"
      ],
      "metadata": {
        "id": "7FdD24yd6zBt"
      }
    },
    {
      "cell_type": "markdown",
      "source": [
        "### 0: IMPORTING DEAP DATASET AND UNZIPPING"
      ],
      "metadata": {
        "id": "YwMlxgFW2kYn"
      }
    },
    {
      "cell_type": "code",
      "source": [
        "!pip install mne"
      ],
      "metadata": {
        "id": "pIaPhhLgbO0Q",
        "outputId": "1b26c935-c067-4481-cad9-7d30e77afe31",
        "colab": {
          "base_uri": "https://localhost:8080/"
        }
      },
      "execution_count": 6,
      "outputs": [
        {
          "output_type": "stream",
          "name": "stdout",
          "text": [
            "Collecting mne\n",
            "  Downloading mne-1.9.0-py3-none-any.whl.metadata (20 kB)\n",
            "Requirement already satisfied: decorator in /usr/local/lib/python3.10/dist-packages (from mne) (4.4.2)\n",
            "Requirement already satisfied: jinja2 in /usr/local/lib/python3.10/dist-packages (from mne) (3.1.4)\n",
            "Requirement already satisfied: lazy-loader>=0.3 in /usr/local/lib/python3.10/dist-packages (from mne) (0.4)\n",
            "Requirement already satisfied: matplotlib>=3.6 in /usr/local/lib/python3.10/dist-packages (from mne) (3.8.0)\n",
            "Requirement already satisfied: numpy<3,>=1.23 in /usr/local/lib/python3.10/dist-packages (from mne) (1.26.4)\n",
            "Requirement already satisfied: packaging in /usr/local/lib/python3.10/dist-packages (from mne) (24.2)\n",
            "Requirement already satisfied: pooch>=1.5 in /usr/local/lib/python3.10/dist-packages (from mne) (1.8.2)\n",
            "Requirement already satisfied: scipy>=1.9 in /usr/local/lib/python3.10/dist-packages (from mne) (1.13.1)\n",
            "Requirement already satisfied: tqdm in /usr/local/lib/python3.10/dist-packages (from mne) (4.67.1)\n",
            "Requirement already satisfied: contourpy>=1.0.1 in /usr/local/lib/python3.10/dist-packages (from matplotlib>=3.6->mne) (1.3.1)\n",
            "Requirement already satisfied: cycler>=0.10 in /usr/local/lib/python3.10/dist-packages (from matplotlib>=3.6->mne) (0.12.1)\n",
            "Requirement already satisfied: fonttools>=4.22.0 in /usr/local/lib/python3.10/dist-packages (from matplotlib>=3.6->mne) (4.55.3)\n",
            "Requirement already satisfied: kiwisolver>=1.0.1 in /usr/local/lib/python3.10/dist-packages (from matplotlib>=3.6->mne) (1.4.7)\n",
            "Requirement already satisfied: pillow>=6.2.0 in /usr/local/lib/python3.10/dist-packages (from matplotlib>=3.6->mne) (11.0.0)\n",
            "Requirement already satisfied: pyparsing>=2.3.1 in /usr/local/lib/python3.10/dist-packages (from matplotlib>=3.6->mne) (3.2.0)\n",
            "Requirement already satisfied: python-dateutil>=2.7 in /usr/local/lib/python3.10/dist-packages (from matplotlib>=3.6->mne) (2.8.2)\n",
            "Requirement already satisfied: platformdirs>=2.5.0 in /usr/local/lib/python3.10/dist-packages (from pooch>=1.5->mne) (4.3.6)\n",
            "Requirement already satisfied: requests>=2.19.0 in /usr/local/lib/python3.10/dist-packages (from pooch>=1.5->mne) (2.32.3)\n",
            "Requirement already satisfied: MarkupSafe>=2.0 in /usr/local/lib/python3.10/dist-packages (from jinja2->mne) (3.0.2)\n",
            "Requirement already satisfied: six>=1.5 in /usr/local/lib/python3.10/dist-packages (from python-dateutil>=2.7->matplotlib>=3.6->mne) (1.17.0)\n",
            "Requirement already satisfied: charset-normalizer<4,>=2 in /usr/local/lib/python3.10/dist-packages (from requests>=2.19.0->pooch>=1.5->mne) (3.4.0)\n",
            "Requirement already satisfied: idna<4,>=2.5 in /usr/local/lib/python3.10/dist-packages (from requests>=2.19.0->pooch>=1.5->mne) (3.10)\n",
            "Requirement already satisfied: urllib3<3,>=1.21.1 in /usr/local/lib/python3.10/dist-packages (from requests>=2.19.0->pooch>=1.5->mne) (2.2.3)\n",
            "Requirement already satisfied: certifi>=2017.4.17 in /usr/local/lib/python3.10/dist-packages (from requests>=2.19.0->pooch>=1.5->mne) (2024.12.14)\n",
            "Downloading mne-1.9.0-py3-none-any.whl (7.4 MB)\n",
            "\u001b[2K   \u001b[90m━━━━━━━━━━━━━━━━━━━━━━━━━━━━━━━━━━━━━━━━\u001b[0m \u001b[32m7.4/7.4 MB\u001b[0m \u001b[31m39.3 MB/s\u001b[0m eta \u001b[36m0:00:00\u001b[0m\n",
            "\u001b[?25hInstalling collected packages: mne\n",
            "Successfully installed mne-1.9.0\n"
          ]
        }
      ]
    },
    {
      "cell_type": "code",
      "source": [
        "from google.colab import drive\n",
        "\n",
        "# Mount the Google Drive\n",
        "drive.mount('/content/drive')\n",
        "\n",
        "# Verify the drive is mounted\n",
        "!ls /content/drive/My\\ Drive\n"
      ],
      "metadata": {
        "id": "dnrRofGAojkx",
        "outputId": "7b0b3c5a-ce06-45ba-c1ea-28e245091db3",
        "colab": {
          "base_uri": "https://localhost:8080/"
        }
      },
      "execution_count": 1,
      "outputs": [
        {
          "output_type": "stream",
          "name": "stdout",
          "text": [
            "Mounted at /content/drive\n",
            "'ACSAI_Marks&Recommendations.pdf'  'MasterThesis_Proposal_(A.Borgi).gslides'\n",
            " Alessio_Borgi_CV.pdf\t\t    nano-imagenet-30-Original\n",
            " Alessio_Borgi_CV_Short.pdf\t    NN\n",
            "'Colab Notebooks'\t\t    open_window.py\n",
            " data\t\t\t\t    Open_Window.traj\n",
            " DEAP.zip\t\t\t    problem.txt\n",
            " HW2\t\t\t\t    sapienza-ppt-template_dark.gslides\n",
            " identita.pdf\t\t\t    StyleAligned\n",
            " Iscrizione.pdf\t\t\t    StyleAligned_M2L.gslides\n",
            " KAN-GAT_EAI.gslides\t\t   'Tony Starks Concentration Mix.mp3'\n",
            " Linz\t\t\t\t    XGNNs_RL.gslides\n"
          ]
        }
      ]
    },
    {
      "cell_type": "code",
      "source": [
        "import zipfile\n",
        "import os\n",
        "\n",
        "def unzip_file(zip_path, extract_to):\n",
        "    \"\"\"\n",
        "    Unzips a file to a specified directory.\n",
        "\n",
        "    Args:\n",
        "    - zip_path (str): The path to the zip file.\n",
        "    - extract_to (str): The directory where files should be extracted.\n",
        "    \"\"\"\n",
        "    # Ensure the extraction directory exists\n",
        "    os.makedirs(extract_to, exist_ok=True)\n",
        "\n",
        "    # Open and extract the zip file\n",
        "    with zipfile.ZipFile(zip_path, 'r') as zip_ref:\n",
        "        zip_ref.extractall(extract_to)\n",
        "        print(f\"Extracted all files to: {extract_to}\")\n",
        "\n",
        "# Example usage\n",
        "zip_path = \"/content/drive/MyDrive/DEAP.zip\"  # Replace with your zip file path\n",
        "extract_to = \"/content/MHyEEG/data/\"  # Replace with your target extraction folder\n",
        "unzip_file(zip_path, extract_to)\n"
      ],
      "metadata": {
        "id": "Erc6UmIXl1WJ",
        "outputId": "c55a8c42-aa42-4f11-cf5b-6d42e33543bc",
        "colab": {
          "base_uri": "https://localhost:8080/"
        }
      },
      "execution_count": 2,
      "outputs": [
        {
          "output_type": "stream",
          "name": "stdout",
          "text": [
            "Extracted all files to: /content/MHyEEG/data/\n"
          ]
        }
      ]
    },
    {
      "cell_type": "code",
      "source": [
        "import os\n",
        "import zipfile\n",
        "\n",
        "def unzip_all_in_directory(directory):\n",
        "    \"\"\"\n",
        "    Unzips all zip files in the given directory and its subdirectories.\n",
        "\n",
        "    Args:\n",
        "    - directory (str): The directory to search for zip files.\n",
        "    \"\"\"\n",
        "    for root, _, files in os.walk(directory):\n",
        "        for file in files:\n",
        "            if file.endswith('.zip'):\n",
        "                zip_path = os.path.join(root, file)\n",
        "                extract_to = os.path.join(root, file.replace('.zip', ''))\n",
        "                os.makedirs(extract_to, exist_ok=True)\n",
        "                print(f\"Unzipping: {zip_path} to {extract_to}\")\n",
        "                with zipfile.ZipFile(zip_path, 'r') as zip_ref:\n",
        "                    zip_ref.extractall(extract_to)\n",
        "                print(f\"Extracted: {zip_path} to {extract_to}\")\n",
        "\n",
        "# Directory containing the DEAP dataset\n",
        "deap_data_dir = \"/content/MHyEEG/data/DEAP\"\n",
        "unzip_all_in_directory(deap_data_dir)\n"
      ],
      "metadata": {
        "id": "OmTjBqGK3i-9",
        "outputId": "3bbfc722-0150-42bb-df41-904fa46a43c9",
        "colab": {
          "base_uri": "https://localhost:8080/"
        }
      },
      "execution_count": 3,
      "outputs": [
        {
          "output_type": "stream",
          "name": "stdout",
          "text": [
            "Unzipping: /content/MHyEEG/data/DEAP/metadata_csv.zip to /content/MHyEEG/data/DEAP/metadata_csv\n",
            "Extracted: /content/MHyEEG/data/DEAP/metadata_csv.zip to /content/MHyEEG/data/DEAP/metadata_csv\n",
            "Unzipping: /content/MHyEEG/data/DEAP/face_video.zip to /content/MHyEEG/data/DEAP/face_video\n",
            "Extracted: /content/MHyEEG/data/DEAP/face_video.zip to /content/MHyEEG/data/DEAP/face_video\n",
            "Unzipping: /content/MHyEEG/data/DEAP/data_original.zip to /content/MHyEEG/data/DEAP/data_original\n",
            "Extracted: /content/MHyEEG/data/DEAP/data_original.zip to /content/MHyEEG/data/DEAP/data_original\n",
            "Unzipping: /content/MHyEEG/data/DEAP/data_preprocessed_python.zip to /content/MHyEEG/data/DEAP/data_preprocessed_python\n",
            "Extracted: /content/MHyEEG/data/DEAP/data_preprocessed_python.zip to /content/MHyEEG/data/DEAP/data_preprocessed_python\n"
          ]
        }
      ]
    },
    {
      "cell_type": "markdown",
      "source": [
        "\n",
        "\n",
        "### 1: PRE-PROCESSING DEAP EEG DATA\n",
        "\n",
        "This section describes the preprocessing pipeline for the DEAP EEG dataset. Each step is explained in detail, including the purpose and reasoning behind the operations, updated to handle mismatched channels and improve resilience.\n",
        "\n",
        "---\n",
        "\n",
        "##### **1. Set Channel Types for Non-EEG Channels**\n",
        "The DEAP dataset contains non-EEG channels such as:\n",
        "- **External electrodes (EXG1–EXG8):** Measure eye movements.\n",
        "- **Galvanic Skin Response (GSR1, GSR2):** Tracks skin conductance.\n",
        "- **Respiratory (Resp):** Monitors breathing patterns.\n",
        "- **Temperature (Temp):** Records skin temperature.\n",
        "\n",
        "To avoid interference in EEG-specific steps, these channels are assigned the type `'misc'` (miscellaneous). This allows them to remain in the dataset without being used in operations specific to EEG data.\n",
        "\n",
        "---\n",
        "\n",
        "##### **2. Set Montage for EEG Channels**\n",
        "A montage defines the electrode positions on the scalp, mapping signals to specific physical locations. The DEAP dataset uses the Biosemi 32-channel system. The montage ensures that:\n",
        "- EEG channels are properly represented in the analysis.\n",
        "- Non-EEG channels (e.g., GSR, Respiration) are ignored during this step.\n",
        "\n",
        "###### **Handling Mismatched Channels:**\n",
        "- If channels in the raw data are missing or do not match the Biosemi32 montage, they are logged, and the processing continues.\n",
        "- The parameter `on_missing='ignore'` ensures that unmatched channels do not interrupt the pipeline.\n",
        "- This approach allows the processing of data for all subjects, even if specific channels are missing or mislabeled.\n",
        "\n",
        "---\n",
        "\n",
        "##### **3. Apply Bandpass Filter**\n",
        "A bandpass filter is used to retain only the relevant EEG frequencies (1–45 Hz):\n",
        "- **Low cutoff (1 Hz):** Removes slow drifts and baseline noise.\n",
        "- **High cutoff (45 Hz):** Removes high-frequency artifacts such as muscle activity.\n",
        "\n",
        "The filtered signal \\( X(t) \\) can be represented as:\n",
        "$$\n",
        "X_{\\text{filtered}}(t) = \\int_{1\\,\\text{Hz}}^{45\\,\\text{Hz}} X(f) e^{j2\\pi ft} \\, df\n",
        "$$\n",
        "where \\( X(f) \\) is the Fourier transform of the raw signal.\n",
        "\n",
        "---\n",
        "\n",
        "##### **4. Resample the Data**\n",
        "The original sampling rate of the DEAP dataset is 512 Hz. Resampling reduces the rate to 128 Hz:\n",
        "- **Purpose:** Lower computational requirements while preserving the signal's temporal and spectral integrity.\n",
        "\n",
        "---\n",
        "\n",
        "##### **5. Apply ICA for Artifact Removal**\n",
        "Independent Component Analysis (ICA) decomposes the EEG signal into independent components, separating brain activity from artifacts (e.g., eye blinks, muscle movements). The process involves:\n",
        "1. Estimating independent sources \\( S \\) from the observed signals \\( X \\):\n",
        "   $$\n",
        "   X = A S\n",
        "   $$\n",
        "   where \\( A \\) is the mixing matrix.\n",
        "2. Applying the inverse of \\( A \\) to remove unwanted components:\n",
        "   $$\n",
        "   S_{\\text{cleaned}} = A^{-1} X\n",
        "   $$\n",
        "\n",
        "Artifacts are identified and removed based on their statistical properties (e.g., amplitude and frequency patterns).\n",
        "\n",
        "---\n",
        "\n",
        "##### **Summary of Workflow**\n",
        "1. **Handle Non-EEG Channels:** Assign non-EEG channels to the `'misc'` type to prevent errors.\n",
        "2. **Apply Montage:** Map EEG signals to their standard scalp positions using the Biosemi 32-channel system.\n",
        "   - **Updated Handling for Mismatched Channels:** If channels are missing or unmatched, they are ignored using `on_missing='ignore'`.\n",
        "3. **Filter Data:** Isolate the EEG frequency range (1–45 Hz) to improve signal quality.\n",
        "4. **Resample Data:** Downsample to 128 Hz to reduce computational complexity.\n",
        "5. **Remove Artifacts:** Use ICA to clean the EEG signals from noise such as eye blinks and muscle artifacts.\n",
        "\n",
        "This updated preprocessing pipeline ensures compatibility with the DEAP dataset, handling potential mismatches and improving robustness for high-quality analysis.\n"
      ],
      "metadata": {
        "id": "s8qExWYD645k"
      }
    },
    {
      "cell_type": "code",
      "source": [
        "import os\n",
        "import mne\n",
        "from mne.preprocessing import ICA\n",
        "\n",
        "def load_raw_data(data_dir, subject_id):\n",
        "    \"\"\"\n",
        "    Load raw DEAP EEG data from the unzipped directory structure.\n",
        "    Args:\n",
        "        data_dir (str): Path to the `data_original` directory.\n",
        "        subject_id (int): Subject ID (1-32).\n",
        "    Returns:\n",
        "        raw (mne.io.Raw): Raw EEG data.\n",
        "    \"\"\"\n",
        "    file_path = os.path.join(data_dir, f\"s{str(subject_id).zfill(2)}.bdf\")\n",
        "    if not os.path.exists(file_path):\n",
        "        raise FileNotFoundError(f\"File not found: {file_path}\")\n",
        "    print(f\"Loading data for Subject {subject_id} from {file_path}\")\n",
        "    raw = mne.io.read_raw_bdf(file_path, preload=True)\n",
        "    return raw\n",
        "\n",
        "def preprocess_raw_data(raw):\n",
        "    \"\"\"\n",
        "    Preprocess raw EEG data: set montage, filter, resample, and apply ICA.\n",
        "    Args:\n",
        "        raw (mne.io.Raw): Raw EEG data.\n",
        "    Returns:\n",
        "        preprocessed_raw (mne.io.Raw): Preprocessed EEG data.\n",
        "    \"\"\"\n",
        "    # Set channel types for non-EEG channels\n",
        "    non_eeg_channels = ['EXG1', 'EXG2', 'EXG3', 'EXG4', 'EXG5', 'EXG6', 'EXG7', 'EXG8',\n",
        "                        'GSR1', 'GSR2', 'Erg1', 'Erg2', 'Resp', 'Plet', 'Temp']\n",
        "    raw.set_channel_types({ch: 'misc' for ch in non_eeg_channels})\n",
        "\n",
        "    # Match channel names to Biosemi32 montage (if possible)\n",
        "    montage = mne.channels.make_standard_montage(\"biosemi32\")\n",
        "    raw_channels = raw.info['ch_names']\n",
        "    montage_channels = montage.ch_names\n",
        "\n",
        "    # Identify mismatched channels\n",
        "    missing_channels = [ch for ch in raw_channels if ch not in montage_channels]\n",
        "    print(f\"Missing or unmatched channels: {missing_channels}\")\n",
        "\n",
        "    # Attempt to set montage, allowing for missing channels\n",
        "    raw.pick_types(eeg=True)  # Select only EEG channels for montage\n",
        "    try:\n",
        "        raw.set_montage(montage, on_missing='ignore')\n",
        "    except ValueError as e:\n",
        "        print(f\"Error setting montage: {e}. Proceeding without strict mapping.\")\n",
        "\n",
        "    # Filter data (band-pass 1-45 Hz)\n",
        "    raw.filter(l_freq=1.0, h_freq=45.0)\n",
        "\n",
        "    # Downsample to 128 Hz\n",
        "    raw.resample(128)\n",
        "\n",
        "    # Apply ICA for artifact removal\n",
        "    ica = ICA(n_components=15, random_state=97, max_iter=800)\n",
        "    ica.fit(raw)\n",
        "    raw = ica.apply(raw)\n",
        "\n",
        "    return raw\n",
        "\n",
        "def save_preprocessed_data(raw, output_dir, subject_id):\n",
        "    \"\"\"\n",
        "    Save preprocessed EEG data to FIF file format.\n",
        "    Args:\n",
        "        raw (mne.io.Raw): Preprocessed EEG data.\n",
        "        output_dir (str): Directory to save the preprocessed data.\n",
        "        subject_id (int): Subject ID (1-32).\n",
        "    \"\"\"\n",
        "    os.makedirs(output_dir, exist_ok=True)\n",
        "    file_path = os.path.join(output_dir, f\"preprocessed_s{str(subject_id).zfill(2)}.raw.fif\")\n",
        "    raw.save(file_path, overwrite=True)\n",
        "    print(f\"Saved preprocessed data for Subject {subject_id} to {file_path}\")\n",
        "\n",
        "if __name__ == \"__main__\":\n",
        "    # Define paths\n",
        "    data_dir = \"/content/MHyEEG/data/DEAP/data_original\"\n",
        "    output_dir = \"/content/MHyEEG/data/DEAP/preprocessed\"\n",
        "\n",
        "    # Process each subject\n",
        "    for subject_id in range(1, 33):\n",
        "        print(f\"Processing Subject {subject_id}...\")\n",
        "        try:\n",
        "            raw = load_raw_data(data_dir, subject_id)\n",
        "            preprocessed_raw = preprocess_raw_data(raw)\n",
        "            save_preprocessed_data(preprocessed_raw, output_dir, subject_id)\n",
        "        except Exception as e:\n",
        "            print(f\"An error occurred for Subject {subject_id}: {e}\")\n"
      ],
      "metadata": {
        "id": "gojhaIMSbKoY",
        "outputId": "3ffbefc2-a3a9-429c-a8a1-78d4a8377ba9",
        "colab": {
          "base_uri": "https://localhost:8080/"
        }
      },
      "execution_count": 9,
      "outputs": [
        {
          "output_type": "stream",
          "name": "stdout",
          "text": [
            "Processing Subject 1...\n",
            "Loading data for Subject 1 from /content/MHyEEG/data/DEAP/data_original/s01.bdf\n",
            "Extracting EDF parameters from /content/MHyEEG/data/DEAP/data_original/s01.bdf...\n",
            "BDF file detected\n",
            "Setting channel info structure...\n",
            "Creating raw.info structure...\n",
            "Reading 0 ... 1980927  =      0.000 ...  3868.998 secs...\n",
            "Missing or unmatched channels: ['EXG1', 'EXG2', 'EXG3', 'EXG4', 'EXG5', 'EXG6', 'EXG7', 'EXG8', 'GSR1', 'GSR2', 'Erg1', 'Erg2', 'Resp', 'Plet', 'Temp', 'Status']\n",
            "NOTE: pick_types() is a legacy function. New code should use inst.pick(...).\n"
          ]
        },
        {
          "output_type": "stream",
          "name": "stderr",
          "text": [
            "<ipython-input-9-d8f647c8f685>:32: RuntimeWarning: The unit for channel(s) EXG1, EXG2, EXG3, EXG4, EXG5, EXG6, EXG7, EXG8, Erg1, Erg2, GSR1, GSR2, Plet, Resp, Temp has changed from V to NA.\n",
            "  raw.set_channel_types({ch: 'misc' for ch in non_eeg_channels})\n"
          ]
        },
        {
          "output_type": "stream",
          "name": "stdout",
          "text": [
            "Filtering raw data in 1 contiguous segment\n",
            "Setting up band-pass filter from 1 - 45 Hz\n",
            "\n",
            "FIR filter parameters\n",
            "---------------------\n",
            "Designing a one-pass, zero-phase, non-causal bandpass filter:\n",
            "- Windowed time-domain design (firwin) method\n",
            "- Hamming window with 0.0194 passband ripple and 53 dB stopband attenuation\n",
            "- Lower passband edge: 1.00\n",
            "- Lower transition bandwidth: 1.00 Hz (-6 dB cutoff frequency: 0.50 Hz)\n",
            "- Upper passband edge: 45.00 Hz\n",
            "- Upper transition bandwidth: 11.25 Hz (-6 dB cutoff frequency: 50.62 Hz)\n",
            "- Filter length: 1691 samples (3.303 s)\n",
            "\n"
          ]
        },
        {
          "output_type": "stream",
          "name": "stderr",
          "text": [
            "[Parallel(n_jobs=1)]: Done  17 tasks      | elapsed:    2.0s\n"
          ]
        },
        {
          "output_type": "stream",
          "name": "stdout",
          "text": [
            "Fitting ICA to data using 32 channels (please be patient, this may take a while)\n",
            "Selecting by number: 15 components\n",
            "Fitting ICA took 24.2s.\n",
            "Applying ICA to Raw instance\n",
            "    Transforming to ICA space (15 components)\n",
            "    Zeroing out 0 ICA components\n",
            "    Projecting back using 32 PCA components\n",
            "Writing /content/MHyEEG/data/DEAP/preprocessed/preprocessed_s01.raw.fif\n",
            "Closing /content/MHyEEG/data/DEAP/preprocessed/preprocessed_s01.raw.fif\n",
            "[done]\n",
            "Saved preprocessed data for Subject 1 to /content/MHyEEG/data/DEAP/preprocessed/preprocessed_s01.raw.fif\n",
            "Processing Subject 2...\n",
            "Loading data for Subject 2 from /content/MHyEEG/data/DEAP/data_original/s02.bdf\n",
            "Extracting EDF parameters from /content/MHyEEG/data/DEAP/data_original/s02.bdf...\n",
            "BDF file detected\n",
            "Setting channel info structure...\n",
            "Creating raw.info structure...\n",
            "Reading 0 ... 1895935  =      0.000 ...  3702.998 secs...\n",
            "Missing or unmatched channels: ['EXG1', 'EXG2', 'EXG3', 'EXG4', 'EXG5', 'EXG6', 'EXG7', 'EXG8', 'GSR1', 'GSR2', 'Erg1', 'Erg2', 'Resp', 'Plet', 'Temp', 'Status']\n",
            "NOTE: pick_types() is a legacy function. New code should use inst.pick(...).\n"
          ]
        },
        {
          "output_type": "stream",
          "name": "stderr",
          "text": [
            "<ipython-input-9-d8f647c8f685>:32: RuntimeWarning: The unit for channel(s) EXG1, EXG2, EXG3, EXG4, EXG5, EXG6, EXG7, EXG8, Erg1, Erg2, GSR1, GSR2, Plet, Resp, Temp has changed from V to NA.\n",
            "  raw.set_channel_types({ch: 'misc' for ch in non_eeg_channels})\n"
          ]
        },
        {
          "output_type": "stream",
          "name": "stdout",
          "text": [
            "Filtering raw data in 1 contiguous segment\n",
            "Setting up band-pass filter from 1 - 45 Hz\n",
            "\n",
            "FIR filter parameters\n",
            "---------------------\n",
            "Designing a one-pass, zero-phase, non-causal bandpass filter:\n",
            "- Windowed time-domain design (firwin) method\n",
            "- Hamming window with 0.0194 passband ripple and 53 dB stopband attenuation\n",
            "- Lower passband edge: 1.00\n",
            "- Lower transition bandwidth: 1.00 Hz (-6 dB cutoff frequency: 0.50 Hz)\n",
            "- Upper passband edge: 45.00 Hz\n",
            "- Upper transition bandwidth: 11.25 Hz (-6 dB cutoff frequency: 50.62 Hz)\n",
            "- Filter length: 1691 samples (3.303 s)\n",
            "\n"
          ]
        },
        {
          "output_type": "stream",
          "name": "stderr",
          "text": [
            "[Parallel(n_jobs=1)]: Done  17 tasks      | elapsed:    1.3s\n"
          ]
        },
        {
          "output_type": "stream",
          "name": "stdout",
          "text": [
            "Fitting ICA to data using 32 channels (please be patient, this may take a while)\n",
            "Selecting by number: 15 components\n"
          ]
        },
        {
          "output_type": "stream",
          "name": "stderr",
          "text": [
            "<ipython-input-9-d8f647c8f685>:58: RuntimeWarning: Using n_components=15 (resulting in n_components_=15) may lead to an unstable mixing matrix estimation because the ratio between the largest (31) and smallest (7.9e-06) variances is too large (> 1e6); consider setting n_components=0.999999 or an integer <= 12\n",
            "  ica.fit(raw)\n"
          ]
        },
        {
          "output_type": "stream",
          "name": "stdout",
          "text": [
            "Fitting ICA took 36.0s.\n",
            "Applying ICA to Raw instance\n",
            "    Transforming to ICA space (15 components)\n",
            "    Zeroing out 0 ICA components\n",
            "    Projecting back using 32 PCA components\n",
            "Writing /content/MHyEEG/data/DEAP/preprocessed/preprocessed_s02.raw.fif\n",
            "Closing /content/MHyEEG/data/DEAP/preprocessed/preprocessed_s02.raw.fif\n",
            "[done]\n",
            "Saved preprocessed data for Subject 2 to /content/MHyEEG/data/DEAP/preprocessed/preprocessed_s02.raw.fif\n",
            "Processing Subject 3...\n",
            "Loading data for Subject 3 from /content/MHyEEG/data/DEAP/data_original/s03.bdf\n",
            "Extracting EDF parameters from /content/MHyEEG/data/DEAP/data_original/s03.bdf...\n",
            "BDF file detected\n",
            "Setting channel info structure...\n",
            "Creating raw.info structure...\n",
            "Reading 0 ... 1989119  =      0.000 ...  3884.998 secs...\n",
            "Missing or unmatched channels: ['EXG1', 'EXG2', 'EXG3', 'EXG4', 'EXG5', 'EXG6', 'EXG7', 'EXG8', 'GSR1', 'GSR2', 'Erg1', 'Erg2', 'Resp', 'Plet', 'Temp', 'Status']\n",
            "NOTE: pick_types() is a legacy function. New code should use inst.pick(...).\n"
          ]
        },
        {
          "output_type": "stream",
          "name": "stderr",
          "text": [
            "<ipython-input-9-d8f647c8f685>:32: RuntimeWarning: The unit for channel(s) EXG1, EXG2, EXG3, EXG4, EXG5, EXG6, EXG7, EXG8, Erg1, Erg2, GSR1, GSR2, Plet, Resp, Temp has changed from V to NA.\n",
            "  raw.set_channel_types({ch: 'misc' for ch in non_eeg_channels})\n"
          ]
        },
        {
          "output_type": "stream",
          "name": "stdout",
          "text": [
            "Filtering raw data in 1 contiguous segment\n",
            "Setting up band-pass filter from 1 - 45 Hz\n",
            "\n",
            "FIR filter parameters\n",
            "---------------------\n",
            "Designing a one-pass, zero-phase, non-causal bandpass filter:\n",
            "- Windowed time-domain design (firwin) method\n",
            "- Hamming window with 0.0194 passband ripple and 53 dB stopband attenuation\n",
            "- Lower passband edge: 1.00\n",
            "- Lower transition bandwidth: 1.00 Hz (-6 dB cutoff frequency: 0.50 Hz)\n",
            "- Upper passband edge: 45.00 Hz\n",
            "- Upper transition bandwidth: 11.25 Hz (-6 dB cutoff frequency: 50.62 Hz)\n",
            "- Filter length: 1691 samples (3.303 s)\n",
            "\n"
          ]
        },
        {
          "output_type": "stream",
          "name": "stderr",
          "text": [
            "[Parallel(n_jobs=1)]: Done  17 tasks      | elapsed:    1.4s\n"
          ]
        },
        {
          "output_type": "stream",
          "name": "stdout",
          "text": [
            "Fitting ICA to data using 32 channels (please be patient, this may take a while)\n",
            "Selecting by number: 15 components\n",
            "Fitting ICA took 45.6s.\n",
            "Applying ICA to Raw instance\n",
            "    Transforming to ICA space (15 components)\n",
            "    Zeroing out 0 ICA components\n",
            "    Projecting back using 32 PCA components\n",
            "Writing /content/MHyEEG/data/DEAP/preprocessed/preprocessed_s03.raw.fif\n",
            "Closing /content/MHyEEG/data/DEAP/preprocessed/preprocessed_s03.raw.fif\n",
            "[done]\n",
            "Saved preprocessed data for Subject 3 to /content/MHyEEG/data/DEAP/preprocessed/preprocessed_s03.raw.fif\n",
            "Processing Subject 4...\n",
            "Loading data for Subject 4 from /content/MHyEEG/data/DEAP/data_original/s04.bdf\n",
            "Extracting EDF parameters from /content/MHyEEG/data/DEAP/data_original/s04.bdf...\n",
            "BDF file detected\n",
            "Setting channel info structure...\n",
            "Creating raw.info structure...\n",
            "Reading 0 ... 1690111  =      0.000 ...  3300.998 secs...\n",
            "Missing or unmatched channels: ['EXG1', 'EXG2', 'EXG3', 'EXG4', 'EXG5', 'EXG6', 'EXG7', 'EXG8', 'GSR1', 'GSR2', 'Erg1', 'Erg2', 'Resp', 'Plet', 'Temp', 'Status']\n",
            "NOTE: pick_types() is a legacy function. New code should use inst.pick(...).\n"
          ]
        },
        {
          "output_type": "stream",
          "name": "stderr",
          "text": [
            "<ipython-input-9-d8f647c8f685>:32: RuntimeWarning: The unit for channel(s) EXG1, EXG2, EXG3, EXG4, EXG5, EXG6, EXG7, EXG8, Erg1, Erg2, GSR1, GSR2, Plet, Resp, Temp has changed from V to NA.\n",
            "  raw.set_channel_types({ch: 'misc' for ch in non_eeg_channels})\n"
          ]
        },
        {
          "output_type": "stream",
          "name": "stdout",
          "text": [
            "Filtering raw data in 1 contiguous segment\n",
            "Setting up band-pass filter from 1 - 45 Hz\n",
            "\n",
            "FIR filter parameters\n",
            "---------------------\n",
            "Designing a one-pass, zero-phase, non-causal bandpass filter:\n",
            "- Windowed time-domain design (firwin) method\n",
            "- Hamming window with 0.0194 passband ripple and 53 dB stopband attenuation\n",
            "- Lower passband edge: 1.00\n",
            "- Lower transition bandwidth: 1.00 Hz (-6 dB cutoff frequency: 0.50 Hz)\n",
            "- Upper passband edge: 45.00 Hz\n",
            "- Upper transition bandwidth: 11.25 Hz (-6 dB cutoff frequency: 50.62 Hz)\n",
            "- Filter length: 1691 samples (3.303 s)\n",
            "\n"
          ]
        },
        {
          "output_type": "stream",
          "name": "stderr",
          "text": [
            "[Parallel(n_jobs=1)]: Done  17 tasks      | elapsed:    1.1s\n"
          ]
        },
        {
          "output_type": "stream",
          "name": "stdout",
          "text": [
            "Fitting ICA to data using 32 channels (please be patient, this may take a while)\n",
            "Selecting by number: 15 components\n",
            "Fitting ICA took 19.8s.\n",
            "Applying ICA to Raw instance\n",
            "    Transforming to ICA space (15 components)\n",
            "    Zeroing out 0 ICA components\n",
            "    Projecting back using 32 PCA components\n",
            "Writing /content/MHyEEG/data/DEAP/preprocessed/preprocessed_s04.raw.fif\n",
            "Closing /content/MHyEEG/data/DEAP/preprocessed/preprocessed_s04.raw.fif\n",
            "[done]\n",
            "Saved preprocessed data for Subject 4 to /content/MHyEEG/data/DEAP/preprocessed/preprocessed_s04.raw.fif\n",
            "Processing Subject 5...\n",
            "Loading data for Subject 5 from /content/MHyEEG/data/DEAP/data_original/s05.bdf\n",
            "Extracting EDF parameters from /content/MHyEEG/data/DEAP/data_original/s05.bdf...\n",
            "BDF file detected\n",
            "Setting channel info structure...\n",
            "Creating raw.info structure...\n",
            "Reading 0 ... 2004991  =      0.000 ...  3915.998 secs...\n",
            "Missing or unmatched channels: ['EXG1', 'EXG2', 'EXG3', 'EXG4', 'EXG5', 'EXG6', 'EXG7', 'EXG8', 'GSR1', 'GSR2', 'Erg1', 'Erg2', 'Resp', 'Plet', 'Temp', 'Status']\n",
            "NOTE: pick_types() is a legacy function. New code should use inst.pick(...).\n"
          ]
        },
        {
          "output_type": "stream",
          "name": "stderr",
          "text": [
            "<ipython-input-9-d8f647c8f685>:32: RuntimeWarning: The unit for channel(s) EXG1, EXG2, EXG3, EXG4, EXG5, EXG6, EXG7, EXG8, Erg1, Erg2, GSR1, GSR2, Plet, Resp, Temp has changed from V to NA.\n",
            "  raw.set_channel_types({ch: 'misc' for ch in non_eeg_channels})\n"
          ]
        },
        {
          "output_type": "stream",
          "name": "stdout",
          "text": [
            "Filtering raw data in 1 contiguous segment\n",
            "Setting up band-pass filter from 1 - 45 Hz\n",
            "\n",
            "FIR filter parameters\n",
            "---------------------\n",
            "Designing a one-pass, zero-phase, non-causal bandpass filter:\n",
            "- Windowed time-domain design (firwin) method\n",
            "- Hamming window with 0.0194 passband ripple and 53 dB stopband attenuation\n",
            "- Lower passband edge: 1.00\n",
            "- Lower transition bandwidth: 1.00 Hz (-6 dB cutoff frequency: 0.50 Hz)\n",
            "- Upper passband edge: 45.00 Hz\n",
            "- Upper transition bandwidth: 11.25 Hz (-6 dB cutoff frequency: 50.62 Hz)\n",
            "- Filter length: 1691 samples (3.303 s)\n",
            "\n"
          ]
        },
        {
          "output_type": "stream",
          "name": "stderr",
          "text": [
            "[Parallel(n_jobs=1)]: Done  17 tasks      | elapsed:    1.3s\n"
          ]
        },
        {
          "output_type": "stream",
          "name": "stdout",
          "text": [
            "Fitting ICA to data using 32 channels (please be patient, this may take a while)\n",
            "Selecting by number: 15 components\n",
            "Fitting ICA took 29.8s.\n",
            "Applying ICA to Raw instance\n",
            "    Transforming to ICA space (15 components)\n",
            "    Zeroing out 0 ICA components\n",
            "    Projecting back using 32 PCA components\n",
            "Writing /content/MHyEEG/data/DEAP/preprocessed/preprocessed_s05.raw.fif\n",
            "Closing /content/MHyEEG/data/DEAP/preprocessed/preprocessed_s05.raw.fif\n",
            "[done]\n",
            "Saved preprocessed data for Subject 5 to /content/MHyEEG/data/DEAP/preprocessed/preprocessed_s05.raw.fif\n",
            "Processing Subject 6...\n",
            "Loading data for Subject 6 from /content/MHyEEG/data/DEAP/data_original/s06.bdf\n",
            "Extracting EDF parameters from /content/MHyEEG/data/DEAP/data_original/s06.bdf...\n",
            "BDF file detected\n",
            "Setting channel info structure...\n",
            "Creating raw.info structure...\n",
            "Reading 0 ... 1836031  =      0.000 ...  3585.998 secs...\n",
            "Missing or unmatched channels: ['EXG1', 'EXG2', 'EXG3', 'EXG4', 'EXG5', 'EXG6', 'EXG7', 'EXG8', 'GSR1', 'GSR2', 'Erg1', 'Erg2', 'Resp', 'Plet', 'Temp', 'Status']\n",
            "NOTE: pick_types() is a legacy function. New code should use inst.pick(...).\n"
          ]
        },
        {
          "output_type": "stream",
          "name": "stderr",
          "text": [
            "<ipython-input-9-d8f647c8f685>:32: RuntimeWarning: The unit for channel(s) EXG1, EXG2, EXG3, EXG4, EXG5, EXG6, EXG7, EXG8, Erg1, Erg2, GSR1, GSR2, Plet, Resp, Temp has changed from V to NA.\n",
            "  raw.set_channel_types({ch: 'misc' for ch in non_eeg_channels})\n"
          ]
        },
        {
          "output_type": "stream",
          "name": "stdout",
          "text": [
            "Filtering raw data in 1 contiguous segment\n",
            "Setting up band-pass filter from 1 - 45 Hz\n",
            "\n",
            "FIR filter parameters\n",
            "---------------------\n",
            "Designing a one-pass, zero-phase, non-causal bandpass filter:\n",
            "- Windowed time-domain design (firwin) method\n",
            "- Hamming window with 0.0194 passband ripple and 53 dB stopband attenuation\n",
            "- Lower passband edge: 1.00\n",
            "- Lower transition bandwidth: 1.00 Hz (-6 dB cutoff frequency: 0.50 Hz)\n",
            "- Upper passband edge: 45.00 Hz\n",
            "- Upper transition bandwidth: 11.25 Hz (-6 dB cutoff frequency: 50.62 Hz)\n",
            "- Filter length: 1691 samples (3.303 s)\n",
            "\n"
          ]
        },
        {
          "output_type": "stream",
          "name": "stderr",
          "text": [
            "[Parallel(n_jobs=1)]: Done  17 tasks      | elapsed:    1.9s\n"
          ]
        },
        {
          "output_type": "stream",
          "name": "stdout",
          "text": [
            "Fitting ICA to data using 32 channels (please be patient, this may take a while)\n",
            "Selecting by number: 15 components\n",
            "Fitting ICA took 25.9s.\n",
            "Applying ICA to Raw instance\n",
            "    Transforming to ICA space (15 components)\n",
            "    Zeroing out 0 ICA components\n",
            "    Projecting back using 32 PCA components\n",
            "Writing /content/MHyEEG/data/DEAP/preprocessed/preprocessed_s06.raw.fif\n",
            "Closing /content/MHyEEG/data/DEAP/preprocessed/preprocessed_s06.raw.fif\n",
            "[done]\n",
            "Saved preprocessed data for Subject 6 to /content/MHyEEG/data/DEAP/preprocessed/preprocessed_s06.raw.fif\n",
            "Processing Subject 7...\n",
            "Loading data for Subject 7 from /content/MHyEEG/data/DEAP/data_original/s07.bdf\n",
            "Extracting EDF parameters from /content/MHyEEG/data/DEAP/data_original/s07.bdf...\n",
            "BDF file detected\n",
            "Setting channel info structure...\n",
            "Creating raw.info structure...\n",
            "Reading 0 ... 1828351  =      0.000 ...  3570.998 secs...\n",
            "Missing or unmatched channels: ['EXG1', 'EXG2', 'EXG3', 'EXG4', 'EXG5', 'EXG6', 'EXG7', 'EXG8', 'GSR1', 'GSR2', 'Erg1', 'Erg2', 'Resp', 'Plet', 'Temp', 'Status']\n",
            "NOTE: pick_types() is a legacy function. New code should use inst.pick(...).\n"
          ]
        },
        {
          "output_type": "stream",
          "name": "stderr",
          "text": [
            "<ipython-input-9-d8f647c8f685>:32: RuntimeWarning: The unit for channel(s) EXG1, EXG2, EXG3, EXG4, EXG5, EXG6, EXG7, EXG8, Erg1, Erg2, GSR1, GSR2, Plet, Resp, Temp has changed from V to NA.\n",
            "  raw.set_channel_types({ch: 'misc' for ch in non_eeg_channels})\n"
          ]
        },
        {
          "output_type": "stream",
          "name": "stdout",
          "text": [
            "Filtering raw data in 1 contiguous segment\n",
            "Setting up band-pass filter from 1 - 45 Hz\n",
            "\n",
            "FIR filter parameters\n",
            "---------------------\n",
            "Designing a one-pass, zero-phase, non-causal bandpass filter:\n",
            "- Windowed time-domain design (firwin) method\n",
            "- Hamming window with 0.0194 passband ripple and 53 dB stopband attenuation\n",
            "- Lower passband edge: 1.00\n",
            "- Lower transition bandwidth: 1.00 Hz (-6 dB cutoff frequency: 0.50 Hz)\n",
            "- Upper passband edge: 45.00 Hz\n",
            "- Upper transition bandwidth: 11.25 Hz (-6 dB cutoff frequency: 50.62 Hz)\n",
            "- Filter length: 1691 samples (3.303 s)\n",
            "\n"
          ]
        },
        {
          "output_type": "stream",
          "name": "stderr",
          "text": [
            "[Parallel(n_jobs=1)]: Done  17 tasks      | elapsed:    1.1s\n"
          ]
        },
        {
          "output_type": "stream",
          "name": "stdout",
          "text": [
            "Fitting ICA to data using 32 channels (please be patient, this may take a while)\n",
            "Selecting by number: 15 components\n",
            "Fitting ICA took 26.7s.\n",
            "Applying ICA to Raw instance\n",
            "    Transforming to ICA space (15 components)\n",
            "    Zeroing out 0 ICA components\n",
            "    Projecting back using 32 PCA components\n",
            "Writing /content/MHyEEG/data/DEAP/preprocessed/preprocessed_s07.raw.fif\n",
            "Closing /content/MHyEEG/data/DEAP/preprocessed/preprocessed_s07.raw.fif\n",
            "[done]\n",
            "Saved preprocessed data for Subject 7 to /content/MHyEEG/data/DEAP/preprocessed/preprocessed_s07.raw.fif\n",
            "Processing Subject 8...\n",
            "Loading data for Subject 8 from /content/MHyEEG/data/DEAP/data_original/s08.bdf\n",
            "Extracting EDF parameters from /content/MHyEEG/data/DEAP/data_original/s08.bdf...\n",
            "BDF file detected\n",
            "Setting channel info structure...\n",
            "Creating raw.info structure...\n",
            "Reading 0 ... 1800703  =      0.000 ...  3516.998 secs...\n",
            "Missing or unmatched channels: ['EXG1', 'EXG2', 'EXG3', 'EXG4', 'EXG5', 'EXG6', 'EXG7', 'EXG8', 'GSR1', 'GSR2', 'Erg1', 'Erg2', 'Resp', 'Plet', 'Temp', 'Status']\n",
            "NOTE: pick_types() is a legacy function. New code should use inst.pick(...).\n"
          ]
        },
        {
          "output_type": "stream",
          "name": "stderr",
          "text": [
            "<ipython-input-9-d8f647c8f685>:32: RuntimeWarning: The unit for channel(s) EXG1, EXG2, EXG3, EXG4, EXG5, EXG6, EXG7, EXG8, Erg1, Erg2, GSR1, GSR2, Plet, Resp, Temp has changed from V to NA.\n",
            "  raw.set_channel_types({ch: 'misc' for ch in non_eeg_channels})\n"
          ]
        },
        {
          "output_type": "stream",
          "name": "stdout",
          "text": [
            "Filtering raw data in 1 contiguous segment\n",
            "Setting up band-pass filter from 1 - 45 Hz\n",
            "\n",
            "FIR filter parameters\n",
            "---------------------\n",
            "Designing a one-pass, zero-phase, non-causal bandpass filter:\n",
            "- Windowed time-domain design (firwin) method\n",
            "- Hamming window with 0.0194 passband ripple and 53 dB stopband attenuation\n",
            "- Lower passband edge: 1.00\n",
            "- Lower transition bandwidth: 1.00 Hz (-6 dB cutoff frequency: 0.50 Hz)\n",
            "- Upper passband edge: 45.00 Hz\n",
            "- Upper transition bandwidth: 11.25 Hz (-6 dB cutoff frequency: 50.62 Hz)\n",
            "- Filter length: 1691 samples (3.303 s)\n",
            "\n"
          ]
        },
        {
          "output_type": "stream",
          "name": "stderr",
          "text": [
            "[Parallel(n_jobs=1)]: Done  17 tasks      | elapsed:    1.2s\n"
          ]
        },
        {
          "output_type": "stream",
          "name": "stdout",
          "text": [
            "Fitting ICA to data using 32 channels (please be patient, this may take a while)\n",
            "Selecting by number: 15 components\n",
            "Fitting ICA took 15.3s.\n",
            "Applying ICA to Raw instance\n",
            "    Transforming to ICA space (15 components)\n",
            "    Zeroing out 0 ICA components\n",
            "    Projecting back using 32 PCA components\n",
            "Writing /content/MHyEEG/data/DEAP/preprocessed/preprocessed_s08.raw.fif\n",
            "Closing /content/MHyEEG/data/DEAP/preprocessed/preprocessed_s08.raw.fif\n",
            "[done]\n",
            "Saved preprocessed data for Subject 8 to /content/MHyEEG/data/DEAP/preprocessed/preprocessed_s08.raw.fif\n",
            "Processing Subject 9...\n",
            "Loading data for Subject 9 from /content/MHyEEG/data/DEAP/data_original/s09.bdf\n",
            "Extracting EDF parameters from /content/MHyEEG/data/DEAP/data_original/s09.bdf...\n",
            "BDF file detected\n",
            "Setting channel info structure...\n",
            "Creating raw.info structure...\n",
            "Reading 0 ... 1928703  =      0.000 ...  3766.998 secs...\n",
            "Missing or unmatched channels: ['EXG1', 'EXG2', 'EXG3', 'EXG4', 'EXG5', 'EXG6', 'EXG7', 'EXG8', 'GSR1', 'GSR2', 'Erg1', 'Erg2', 'Resp', 'Plet', 'Temp', 'Status']\n",
            "NOTE: pick_types() is a legacy function. New code should use inst.pick(...).\n"
          ]
        },
        {
          "output_type": "stream",
          "name": "stderr",
          "text": [
            "<ipython-input-9-d8f647c8f685>:32: RuntimeWarning: The unit for channel(s) EXG1, EXG2, EXG3, EXG4, EXG5, EXG6, EXG7, EXG8, Erg1, Erg2, GSR1, GSR2, Plet, Resp, Temp has changed from V to NA.\n",
            "  raw.set_channel_types({ch: 'misc' for ch in non_eeg_channels})\n"
          ]
        },
        {
          "output_type": "stream",
          "name": "stdout",
          "text": [
            "Filtering raw data in 1 contiguous segment\n",
            "Setting up band-pass filter from 1 - 45 Hz\n",
            "\n",
            "FIR filter parameters\n",
            "---------------------\n",
            "Designing a one-pass, zero-phase, non-causal bandpass filter:\n",
            "- Windowed time-domain design (firwin) method\n",
            "- Hamming window with 0.0194 passband ripple and 53 dB stopband attenuation\n",
            "- Lower passband edge: 1.00\n",
            "- Lower transition bandwidth: 1.00 Hz (-6 dB cutoff frequency: 0.50 Hz)\n",
            "- Upper passband edge: 45.00 Hz\n",
            "- Upper transition bandwidth: 11.25 Hz (-6 dB cutoff frequency: 50.62 Hz)\n",
            "- Filter length: 1691 samples (3.303 s)\n",
            "\n"
          ]
        },
        {
          "output_type": "stream",
          "name": "stderr",
          "text": [
            "[Parallel(n_jobs=1)]: Done  17 tasks      | elapsed:    2.0s\n"
          ]
        },
        {
          "output_type": "stream",
          "name": "stdout",
          "text": [
            "Fitting ICA to data using 32 channels (please be patient, this may take a while)\n",
            "Selecting by number: 15 components\n",
            "Fitting ICA took 17.1s.\n",
            "Applying ICA to Raw instance\n",
            "    Transforming to ICA space (15 components)\n",
            "    Zeroing out 0 ICA components\n",
            "    Projecting back using 32 PCA components\n",
            "Writing /content/MHyEEG/data/DEAP/preprocessed/preprocessed_s09.raw.fif\n",
            "Closing /content/MHyEEG/data/DEAP/preprocessed/preprocessed_s09.raw.fif\n",
            "[done]\n",
            "Saved preprocessed data for Subject 9 to /content/MHyEEG/data/DEAP/preprocessed/preprocessed_s09.raw.fif\n",
            "Processing Subject 10...\n",
            "Loading data for Subject 10 from /content/MHyEEG/data/DEAP/data_original/s10.bdf\n",
            "Extracting EDF parameters from /content/MHyEEG/data/DEAP/data_original/s10.bdf...\n",
            "BDF file detected\n",
            "Setting channel info structure...\n",
            "Creating raw.info structure...\n",
            "Reading 0 ... 1798143  =      0.000 ...  3511.998 secs...\n",
            "Missing or unmatched channels: ['EXG1', 'EXG2', 'EXG3', 'EXG4', 'EXG5', 'EXG6', 'EXG7', 'EXG8', 'GSR1', 'GSR2', 'Erg1', 'Erg2', 'Resp', 'Plet', 'Temp', 'Status']\n",
            "NOTE: pick_types() is a legacy function. New code should use inst.pick(...).\n"
          ]
        },
        {
          "output_type": "stream",
          "name": "stderr",
          "text": [
            "<ipython-input-9-d8f647c8f685>:32: RuntimeWarning: The unit for channel(s) EXG1, EXG2, EXG3, EXG4, EXG5, EXG6, EXG7, EXG8, Erg1, Erg2, GSR1, GSR2, Plet, Resp, Temp has changed from V to NA.\n",
            "  raw.set_channel_types({ch: 'misc' for ch in non_eeg_channels})\n"
          ]
        },
        {
          "output_type": "stream",
          "name": "stdout",
          "text": [
            "Filtering raw data in 1 contiguous segment\n",
            "Setting up band-pass filter from 1 - 45 Hz\n",
            "\n",
            "FIR filter parameters\n",
            "---------------------\n",
            "Designing a one-pass, zero-phase, non-causal bandpass filter:\n",
            "- Windowed time-domain design (firwin) method\n",
            "- Hamming window with 0.0194 passband ripple and 53 dB stopband attenuation\n",
            "- Lower passband edge: 1.00\n",
            "- Lower transition bandwidth: 1.00 Hz (-6 dB cutoff frequency: 0.50 Hz)\n",
            "- Upper passband edge: 45.00 Hz\n",
            "- Upper transition bandwidth: 11.25 Hz (-6 dB cutoff frequency: 50.62 Hz)\n",
            "- Filter length: 1691 samples (3.303 s)\n",
            "\n"
          ]
        },
        {
          "output_type": "stream",
          "name": "stderr",
          "text": [
            "[Parallel(n_jobs=1)]: Done  17 tasks      | elapsed:    1.7s\n"
          ]
        },
        {
          "output_type": "stream",
          "name": "stdout",
          "text": [
            "Fitting ICA to data using 32 channels (please be patient, this may take a while)\n",
            "Selecting by number: 15 components\n",
            "Fitting ICA took 26.6s.\n",
            "Applying ICA to Raw instance\n",
            "    Transforming to ICA space (15 components)\n",
            "    Zeroing out 0 ICA components\n",
            "    Projecting back using 32 PCA components\n",
            "Writing /content/MHyEEG/data/DEAP/preprocessed/preprocessed_s10.raw.fif\n",
            "Closing /content/MHyEEG/data/DEAP/preprocessed/preprocessed_s10.raw.fif\n",
            "[done]\n",
            "Saved preprocessed data for Subject 10 to /content/MHyEEG/data/DEAP/preprocessed/preprocessed_s10.raw.fif\n",
            "Processing Subject 11...\n",
            "Loading data for Subject 11 from /content/MHyEEG/data/DEAP/data_original/s11.bdf\n",
            "Extracting EDF parameters from /content/MHyEEG/data/DEAP/data_original/s11.bdf...\n",
            "BDF file detected\n",
            "Setting channel info structure...\n",
            "Creating raw.info structure...\n",
            "Reading 0 ... 2130431  =      0.000 ...  4160.998 secs...\n",
            "Missing or unmatched channels: ['EXG1', 'EXG2', 'EXG3', 'EXG4', 'EXG5', 'EXG6', 'EXG7', 'EXG8', 'GSR1', 'GSR2', 'Erg1', 'Erg2', 'Resp', 'Plet', 'Temp', 'Status']\n",
            "NOTE: pick_types() is a legacy function. New code should use inst.pick(...).\n"
          ]
        },
        {
          "output_type": "stream",
          "name": "stderr",
          "text": [
            "<ipython-input-9-d8f647c8f685>:32: RuntimeWarning: The unit for channel(s) EXG1, EXG2, EXG3, EXG4, EXG5, EXG6, EXG7, EXG8, Erg1, Erg2, GSR1, GSR2, Plet, Resp, Temp has changed from V to NA.\n",
            "  raw.set_channel_types({ch: 'misc' for ch in non_eeg_channels})\n"
          ]
        },
        {
          "output_type": "stream",
          "name": "stdout",
          "text": [
            "Filtering raw data in 1 contiguous segment\n",
            "Setting up band-pass filter from 1 - 45 Hz\n",
            "\n",
            "FIR filter parameters\n",
            "---------------------\n",
            "Designing a one-pass, zero-phase, non-causal bandpass filter:\n",
            "- Windowed time-domain design (firwin) method\n",
            "- Hamming window with 0.0194 passband ripple and 53 dB stopband attenuation\n",
            "- Lower passband edge: 1.00\n",
            "- Lower transition bandwidth: 1.00 Hz (-6 dB cutoff frequency: 0.50 Hz)\n",
            "- Upper passband edge: 45.00 Hz\n",
            "- Upper transition bandwidth: 11.25 Hz (-6 dB cutoff frequency: 50.62 Hz)\n",
            "- Filter length: 1691 samples (3.303 s)\n",
            "\n"
          ]
        },
        {
          "output_type": "stream",
          "name": "stderr",
          "text": [
            "[Parallel(n_jobs=1)]: Done  17 tasks      | elapsed:    2.3s\n"
          ]
        },
        {
          "output_type": "stream",
          "name": "stdout",
          "text": [
            "Fitting ICA to data using 32 channels (please be patient, this may take a while)\n",
            "Selecting by number: 15 components\n",
            "Fitting ICA took 21.4s.\n",
            "Applying ICA to Raw instance\n",
            "    Transforming to ICA space (15 components)\n",
            "    Zeroing out 0 ICA components\n",
            "    Projecting back using 32 PCA components\n",
            "Writing /content/MHyEEG/data/DEAP/preprocessed/preprocessed_s11.raw.fif\n",
            "Closing /content/MHyEEG/data/DEAP/preprocessed/preprocessed_s11.raw.fif\n",
            "[done]\n",
            "Saved preprocessed data for Subject 11 to /content/MHyEEG/data/DEAP/preprocessed/preprocessed_s11.raw.fif\n",
            "Processing Subject 12...\n",
            "Loading data for Subject 12 from /content/MHyEEG/data/DEAP/data_original/s12.bdf\n",
            "Extracting EDF parameters from /content/MHyEEG/data/DEAP/data_original/s12.bdf...\n",
            "BDF file detected\n",
            "Setting channel info structure...\n",
            "Creating raw.info structure...\n",
            "Reading 0 ... 1790975  =      0.000 ...  3497.998 secs...\n",
            "Missing or unmatched channels: ['EXG1', 'EXG2', 'EXG3', 'EXG4', 'EXG5', 'EXG6', 'EXG7', 'EXG8', 'GSR1', 'GSR2', 'Erg1', 'Erg2', 'Resp', 'Plet', 'Temp', 'Status']\n",
            "NOTE: pick_types() is a legacy function. New code should use inst.pick(...).\n"
          ]
        },
        {
          "output_type": "stream",
          "name": "stderr",
          "text": [
            "<ipython-input-9-d8f647c8f685>:32: RuntimeWarning: The unit for channel(s) EXG1, EXG2, EXG3, EXG4, EXG5, EXG6, EXG7, EXG8, Erg1, Erg2, GSR1, GSR2, Plet, Resp, Temp has changed from V to NA.\n",
            "  raw.set_channel_types({ch: 'misc' for ch in non_eeg_channels})\n"
          ]
        },
        {
          "output_type": "stream",
          "name": "stdout",
          "text": [
            "Filtering raw data in 1 contiguous segment\n",
            "Setting up band-pass filter from 1 - 45 Hz\n",
            "\n",
            "FIR filter parameters\n",
            "---------------------\n",
            "Designing a one-pass, zero-phase, non-causal bandpass filter:\n",
            "- Windowed time-domain design (firwin) method\n",
            "- Hamming window with 0.0194 passband ripple and 53 dB stopband attenuation\n",
            "- Lower passband edge: 1.00\n",
            "- Lower transition bandwidth: 1.00 Hz (-6 dB cutoff frequency: 0.50 Hz)\n",
            "- Upper passband edge: 45.00 Hz\n",
            "- Upper transition bandwidth: 11.25 Hz (-6 dB cutoff frequency: 50.62 Hz)\n",
            "- Filter length: 1691 samples (3.303 s)\n",
            "\n"
          ]
        },
        {
          "output_type": "stream",
          "name": "stderr",
          "text": [
            "[Parallel(n_jobs=1)]: Done  17 tasks      | elapsed:    1.1s\n"
          ]
        },
        {
          "output_type": "stream",
          "name": "stdout",
          "text": [
            "Fitting ICA to data using 32 channels (please be patient, this may take a while)\n",
            "Selecting by number: 15 components\n",
            "Fitting ICA took 32.5s.\n",
            "Applying ICA to Raw instance\n",
            "    Transforming to ICA space (15 components)\n",
            "    Zeroing out 0 ICA components\n",
            "    Projecting back using 32 PCA components\n",
            "Writing /content/MHyEEG/data/DEAP/preprocessed/preprocessed_s12.raw.fif\n",
            "Closing /content/MHyEEG/data/DEAP/preprocessed/preprocessed_s12.raw.fif\n",
            "[done]\n",
            "Saved preprocessed data for Subject 12 to /content/MHyEEG/data/DEAP/preprocessed/preprocessed_s12.raw.fif\n",
            "Processing Subject 13...\n",
            "Loading data for Subject 13 from /content/MHyEEG/data/DEAP/data_original/s13.bdf\n",
            "Extracting EDF parameters from /content/MHyEEG/data/DEAP/data_original/s13.bdf...\n",
            "BDF file detected\n",
            "Setting channel info structure...\n",
            "Creating raw.info structure...\n",
            "Reading 0 ... 1900031  =      0.000 ...  3710.998 secs...\n",
            "Missing or unmatched channels: ['EXG1', 'EXG2', 'EXG3', 'EXG4', 'EXG5', 'EXG6', 'EXG7', 'EXG8', 'GSR1', 'GSR2', 'Erg1', 'Erg2', 'Resp', 'Plet', 'Temp', 'Status']\n",
            "NOTE: pick_types() is a legacy function. New code should use inst.pick(...).\n"
          ]
        },
        {
          "output_type": "stream",
          "name": "stderr",
          "text": [
            "<ipython-input-9-d8f647c8f685>:32: RuntimeWarning: The unit for channel(s) EXG1, EXG2, EXG3, EXG4, EXG5, EXG6, EXG7, EXG8, Erg1, Erg2, GSR1, GSR2, Plet, Resp, Temp has changed from V to NA.\n",
            "  raw.set_channel_types({ch: 'misc' for ch in non_eeg_channels})\n"
          ]
        },
        {
          "output_type": "stream",
          "name": "stdout",
          "text": [
            "Filtering raw data in 1 contiguous segment\n",
            "Setting up band-pass filter from 1 - 45 Hz\n",
            "\n",
            "FIR filter parameters\n",
            "---------------------\n",
            "Designing a one-pass, zero-phase, non-causal bandpass filter:\n",
            "- Windowed time-domain design (firwin) method\n",
            "- Hamming window with 0.0194 passband ripple and 53 dB stopband attenuation\n",
            "- Lower passband edge: 1.00\n",
            "- Lower transition bandwidth: 1.00 Hz (-6 dB cutoff frequency: 0.50 Hz)\n",
            "- Upper passband edge: 45.00 Hz\n",
            "- Upper transition bandwidth: 11.25 Hz (-6 dB cutoff frequency: 50.62 Hz)\n",
            "- Filter length: 1691 samples (3.303 s)\n",
            "\n"
          ]
        },
        {
          "output_type": "stream",
          "name": "stderr",
          "text": [
            "[Parallel(n_jobs=1)]: Done  17 tasks      | elapsed:    1.8s\n"
          ]
        },
        {
          "output_type": "stream",
          "name": "stdout",
          "text": [
            "Fitting ICA to data using 32 channels (please be patient, this may take a while)\n",
            "Selecting by number: 15 components\n",
            "Fitting ICA took 28.5s.\n",
            "Applying ICA to Raw instance\n",
            "    Transforming to ICA space (15 components)\n",
            "    Zeroing out 0 ICA components\n",
            "    Projecting back using 32 PCA components\n",
            "Writing /content/MHyEEG/data/DEAP/preprocessed/preprocessed_s13.raw.fif\n",
            "Closing /content/MHyEEG/data/DEAP/preprocessed/preprocessed_s13.raw.fif\n",
            "[done]\n",
            "Saved preprocessed data for Subject 13 to /content/MHyEEG/data/DEAP/preprocessed/preprocessed_s13.raw.fif\n",
            "Processing Subject 14...\n",
            "Loading data for Subject 14 from /content/MHyEEG/data/DEAP/data_original/s14.bdf\n",
            "Extracting EDF parameters from /content/MHyEEG/data/DEAP/data_original/s14.bdf...\n",
            "BDF file detected\n",
            "Setting channel info structure...\n",
            "Creating raw.info structure...\n",
            "Reading 0 ... 2015743  =      0.000 ...  3936.998 secs...\n",
            "Missing or unmatched channels: ['EXG1', 'EXG2', 'EXG3', 'EXG4', 'EXG5', 'EXG6', 'EXG7', 'EXG8', 'GSR1', 'GSR2', 'Erg1', 'Erg2', 'Resp', 'Plet', 'Temp', 'Status']\n",
            "NOTE: pick_types() is a legacy function. New code should use inst.pick(...).\n"
          ]
        },
        {
          "output_type": "stream",
          "name": "stderr",
          "text": [
            "<ipython-input-9-d8f647c8f685>:32: RuntimeWarning: The unit for channel(s) EXG1, EXG2, EXG3, EXG4, EXG5, EXG6, EXG7, EXG8, Erg1, Erg2, GSR1, GSR2, Plet, Resp, Temp has changed from V to NA.\n",
            "  raw.set_channel_types({ch: 'misc' for ch in non_eeg_channels})\n"
          ]
        },
        {
          "output_type": "stream",
          "name": "stdout",
          "text": [
            "Filtering raw data in 1 contiguous segment\n",
            "Setting up band-pass filter from 1 - 45 Hz\n",
            "\n",
            "FIR filter parameters\n",
            "---------------------\n",
            "Designing a one-pass, zero-phase, non-causal bandpass filter:\n",
            "- Windowed time-domain design (firwin) method\n",
            "- Hamming window with 0.0194 passband ripple and 53 dB stopband attenuation\n",
            "- Lower passband edge: 1.00\n",
            "- Lower transition bandwidth: 1.00 Hz (-6 dB cutoff frequency: 0.50 Hz)\n",
            "- Upper passband edge: 45.00 Hz\n",
            "- Upper transition bandwidth: 11.25 Hz (-6 dB cutoff frequency: 50.62 Hz)\n",
            "- Filter length: 1691 samples (3.303 s)\n",
            "\n"
          ]
        },
        {
          "output_type": "stream",
          "name": "stderr",
          "text": [
            "[Parallel(n_jobs=1)]: Done  17 tasks      | elapsed:    1.3s\n"
          ]
        },
        {
          "output_type": "stream",
          "name": "stdout",
          "text": [
            "Fitting ICA to data using 32 channels (please be patient, this may take a while)\n",
            "Selecting by number: 15 components\n"
          ]
        },
        {
          "output_type": "stream",
          "name": "stderr",
          "text": [
            "<ipython-input-9-d8f647c8f685>:58: RuntimeWarning: Using n_components=15 (resulting in n_components_=15) may lead to an unstable mixing matrix estimation because the ratio between the largest (19) and smallest (1.5e-05) variances is too large (> 1e6); consider setting n_components=0.999999 or an integer <= 13\n",
            "  ica.fit(raw)\n"
          ]
        },
        {
          "output_type": "stream",
          "name": "stdout",
          "text": [
            "Fitting ICA took 61.3s.\n",
            "Applying ICA to Raw instance\n",
            "    Transforming to ICA space (15 components)\n",
            "    Zeroing out 0 ICA components\n",
            "    Projecting back using 32 PCA components\n",
            "Writing /content/MHyEEG/data/DEAP/preprocessed/preprocessed_s14.raw.fif\n",
            "Closing /content/MHyEEG/data/DEAP/preprocessed/preprocessed_s14.raw.fif\n",
            "[done]\n",
            "Saved preprocessed data for Subject 14 to /content/MHyEEG/data/DEAP/preprocessed/preprocessed_s14.raw.fif\n",
            "Processing Subject 15...\n",
            "Loading data for Subject 15 from /content/MHyEEG/data/DEAP/data_original/s15.bdf\n",
            "Extracting EDF parameters from /content/MHyEEG/data/DEAP/data_original/s15.bdf...\n",
            "BDF file detected\n",
            "Setting channel info structure...\n",
            "Creating raw.info structure...\n",
            "Reading 0 ... 2084863  =      0.000 ...  4071.998 secs...\n",
            "Missing or unmatched channels: ['EXG1', 'EXG2', 'EXG3', 'EXG4', 'EXG5', 'EXG6', 'EXG7', 'EXG8', 'GSR1', 'GSR2', 'Erg1', 'Erg2', 'Resp', 'Plet', 'Temp', 'Status']\n",
            "NOTE: pick_types() is a legacy function. New code should use inst.pick(...).\n"
          ]
        },
        {
          "output_type": "stream",
          "name": "stderr",
          "text": [
            "<ipython-input-9-d8f647c8f685>:32: RuntimeWarning: The unit for channel(s) EXG1, EXG2, EXG3, EXG4, EXG5, EXG6, EXG7, EXG8, Erg1, Erg2, GSR1, GSR2, Plet, Resp, Temp has changed from V to NA.\n",
            "  raw.set_channel_types({ch: 'misc' for ch in non_eeg_channels})\n"
          ]
        },
        {
          "output_type": "stream",
          "name": "stdout",
          "text": [
            "Filtering raw data in 1 contiguous segment\n",
            "Setting up band-pass filter from 1 - 45 Hz\n",
            "\n",
            "FIR filter parameters\n",
            "---------------------\n",
            "Designing a one-pass, zero-phase, non-causal bandpass filter:\n",
            "- Windowed time-domain design (firwin) method\n",
            "- Hamming window with 0.0194 passband ripple and 53 dB stopband attenuation\n",
            "- Lower passband edge: 1.00\n",
            "- Lower transition bandwidth: 1.00 Hz (-6 dB cutoff frequency: 0.50 Hz)\n",
            "- Upper passband edge: 45.00 Hz\n",
            "- Upper transition bandwidth: 11.25 Hz (-6 dB cutoff frequency: 50.62 Hz)\n",
            "- Filter length: 1691 samples (3.303 s)\n",
            "\n"
          ]
        },
        {
          "output_type": "stream",
          "name": "stderr",
          "text": [
            "[Parallel(n_jobs=1)]: Done  17 tasks      | elapsed:    1.4s\n"
          ]
        },
        {
          "output_type": "stream",
          "name": "stdout",
          "text": [
            "Fitting ICA to data using 32 channels (please be patient, this may take a while)\n",
            "Selecting by number: 15 components\n",
            "Fitting ICA took 53.5s.\n",
            "Applying ICA to Raw instance\n",
            "    Transforming to ICA space (15 components)\n",
            "    Zeroing out 0 ICA components\n",
            "    Projecting back using 32 PCA components\n",
            "Writing /content/MHyEEG/data/DEAP/preprocessed/preprocessed_s15.raw.fif\n",
            "Closing /content/MHyEEG/data/DEAP/preprocessed/preprocessed_s15.raw.fif\n",
            "[done]\n",
            "Saved preprocessed data for Subject 15 to /content/MHyEEG/data/DEAP/preprocessed/preprocessed_s15.raw.fif\n",
            "Processing Subject 16...\n",
            "Loading data for Subject 16 from /content/MHyEEG/data/DEAP/data_original/s16.bdf\n",
            "Extracting EDF parameters from /content/MHyEEG/data/DEAP/data_original/s16.bdf...\n",
            "BDF file detected\n",
            "Setting channel info structure...\n",
            "Creating raw.info structure...\n",
            "Reading 0 ... 1885695  =      0.000 ...  3682.998 secs...\n",
            "Missing or unmatched channels: ['EXG1', 'EXG2', 'EXG3', 'EXG4', 'EXG5', 'EXG6', 'EXG7', 'EXG8', 'GSR1', 'GSR2', 'Erg1', 'Erg2', 'Resp', 'Plet', 'Temp', 'Status']\n",
            "NOTE: pick_types() is a legacy function. New code should use inst.pick(...).\n"
          ]
        },
        {
          "output_type": "stream",
          "name": "stderr",
          "text": [
            "<ipython-input-9-d8f647c8f685>:32: RuntimeWarning: The unit for channel(s) EXG1, EXG2, EXG3, EXG4, EXG5, EXG6, EXG7, EXG8, Erg1, Erg2, GSR1, GSR2, Plet, Resp, Temp has changed from V to NA.\n",
            "  raw.set_channel_types({ch: 'misc' for ch in non_eeg_channels})\n"
          ]
        },
        {
          "output_type": "stream",
          "name": "stdout",
          "text": [
            "Filtering raw data in 1 contiguous segment\n",
            "Setting up band-pass filter from 1 - 45 Hz\n",
            "\n",
            "FIR filter parameters\n",
            "---------------------\n",
            "Designing a one-pass, zero-phase, non-causal bandpass filter:\n",
            "- Windowed time-domain design (firwin) method\n",
            "- Hamming window with 0.0194 passband ripple and 53 dB stopband attenuation\n",
            "- Lower passband edge: 1.00\n",
            "- Lower transition bandwidth: 1.00 Hz (-6 dB cutoff frequency: 0.50 Hz)\n",
            "- Upper passband edge: 45.00 Hz\n",
            "- Upper transition bandwidth: 11.25 Hz (-6 dB cutoff frequency: 50.62 Hz)\n",
            "- Filter length: 1691 samples (3.303 s)\n",
            "\n"
          ]
        },
        {
          "output_type": "stream",
          "name": "stderr",
          "text": [
            "[Parallel(n_jobs=1)]: Done  17 tasks      | elapsed:    1.8s\n"
          ]
        },
        {
          "output_type": "stream",
          "name": "stdout",
          "text": [
            "Fitting ICA to data using 32 channels (please be patient, this may take a while)\n",
            "Selecting by number: 15 components\n",
            "Fitting ICA took 20.8s.\n",
            "Applying ICA to Raw instance\n",
            "    Transforming to ICA space (15 components)\n",
            "    Zeroing out 0 ICA components\n",
            "    Projecting back using 32 PCA components\n",
            "Writing /content/MHyEEG/data/DEAP/preprocessed/preprocessed_s16.raw.fif\n",
            "Closing /content/MHyEEG/data/DEAP/preprocessed/preprocessed_s16.raw.fif\n",
            "[done]\n",
            "Saved preprocessed data for Subject 16 to /content/MHyEEG/data/DEAP/preprocessed/preprocessed_s16.raw.fif\n",
            "Processing Subject 17...\n",
            "Loading data for Subject 17 from /content/MHyEEG/data/DEAP/data_original/s17.bdf\n",
            "Extracting EDF parameters from /content/MHyEEG/data/DEAP/data_original/s17.bdf...\n",
            "BDF file detected\n",
            "Setting channel info structure...\n",
            "Creating raw.info structure...\n",
            "Reading 0 ... 1764351  =      0.000 ...  3445.998 secs...\n",
            "Missing or unmatched channels: ['EXG1', 'EXG2', 'EXG3', 'EXG4', 'EXG5', 'EXG6', 'EXG7', 'EXG8', 'GSR1', 'GSR2', 'Erg1', 'Erg2', 'Resp', 'Plet', 'Temp', 'Status']\n",
            "NOTE: pick_types() is a legacy function. New code should use inst.pick(...).\n"
          ]
        },
        {
          "output_type": "stream",
          "name": "stderr",
          "text": [
            "<ipython-input-9-d8f647c8f685>:32: RuntimeWarning: The unit for channel(s) EXG1, EXG2, EXG3, EXG4, EXG5, EXG6, EXG7, EXG8, Erg1, Erg2, GSR1, GSR2, Plet, Resp, Temp has changed from V to NA.\n",
            "  raw.set_channel_types({ch: 'misc' for ch in non_eeg_channels})\n"
          ]
        },
        {
          "output_type": "stream",
          "name": "stdout",
          "text": [
            "Filtering raw data in 1 contiguous segment\n",
            "Setting up band-pass filter from 1 - 45 Hz\n",
            "\n",
            "FIR filter parameters\n",
            "---------------------\n",
            "Designing a one-pass, zero-phase, non-causal bandpass filter:\n",
            "- Windowed time-domain design (firwin) method\n",
            "- Hamming window with 0.0194 passband ripple and 53 dB stopband attenuation\n",
            "- Lower passband edge: 1.00\n",
            "- Lower transition bandwidth: 1.00 Hz (-6 dB cutoff frequency: 0.50 Hz)\n",
            "- Upper passband edge: 45.00 Hz\n",
            "- Upper transition bandwidth: 11.25 Hz (-6 dB cutoff frequency: 50.62 Hz)\n",
            "- Filter length: 1691 samples (3.303 s)\n",
            "\n"
          ]
        },
        {
          "output_type": "stream",
          "name": "stderr",
          "text": [
            "[Parallel(n_jobs=1)]: Done  17 tasks      | elapsed:    1.1s\n"
          ]
        },
        {
          "output_type": "stream",
          "name": "stdout",
          "text": [
            "Fitting ICA to data using 32 channels (please be patient, this may take a while)\n",
            "Selecting by number: 15 components\n",
            "Fitting ICA took 35.5s.\n",
            "Applying ICA to Raw instance\n",
            "    Transforming to ICA space (15 components)\n",
            "    Zeroing out 0 ICA components\n",
            "    Projecting back using 32 PCA components\n",
            "Writing /content/MHyEEG/data/DEAP/preprocessed/preprocessed_s17.raw.fif\n",
            "Closing /content/MHyEEG/data/DEAP/preprocessed/preprocessed_s17.raw.fif\n",
            "[done]\n",
            "Saved preprocessed data for Subject 17 to /content/MHyEEG/data/DEAP/preprocessed/preprocessed_s17.raw.fif\n",
            "Processing Subject 18...\n",
            "Loading data for Subject 18 from /content/MHyEEG/data/DEAP/data_original/s18.bdf\n",
            "Extracting EDF parameters from /content/MHyEEG/data/DEAP/data_original/s18.bdf...\n",
            "BDF file detected\n",
            "Setting channel info structure...\n",
            "Creating raw.info structure...\n",
            "Reading 0 ... 1857535  =      0.000 ...  3627.998 secs...\n",
            "Missing or unmatched channels: ['EXG1', 'EXG2', 'EXG3', 'EXG4', 'EXG5', 'EXG6', 'EXG7', 'EXG8', 'GSR1', 'GSR2', 'Erg1', 'Erg2', 'Resp', 'Plet', 'Temp', 'Status']\n",
            "NOTE: pick_types() is a legacy function. New code should use inst.pick(...).\n"
          ]
        },
        {
          "output_type": "stream",
          "name": "stderr",
          "text": [
            "<ipython-input-9-d8f647c8f685>:32: RuntimeWarning: The unit for channel(s) EXG1, EXG2, EXG3, EXG4, EXG5, EXG6, EXG7, EXG8, Erg1, Erg2, GSR1, GSR2, Plet, Resp, Temp has changed from V to NA.\n",
            "  raw.set_channel_types({ch: 'misc' for ch in non_eeg_channels})\n"
          ]
        },
        {
          "output_type": "stream",
          "name": "stdout",
          "text": [
            "Filtering raw data in 1 contiguous segment\n",
            "Setting up band-pass filter from 1 - 45 Hz\n",
            "\n",
            "FIR filter parameters\n",
            "---------------------\n",
            "Designing a one-pass, zero-phase, non-causal bandpass filter:\n",
            "- Windowed time-domain design (firwin) method\n",
            "- Hamming window with 0.0194 passband ripple and 53 dB stopband attenuation\n",
            "- Lower passband edge: 1.00\n",
            "- Lower transition bandwidth: 1.00 Hz (-6 dB cutoff frequency: 0.50 Hz)\n",
            "- Upper passband edge: 45.00 Hz\n",
            "- Upper transition bandwidth: 11.25 Hz (-6 dB cutoff frequency: 50.62 Hz)\n",
            "- Filter length: 1691 samples (3.303 s)\n",
            "\n"
          ]
        },
        {
          "output_type": "stream",
          "name": "stderr",
          "text": [
            "[Parallel(n_jobs=1)]: Done  17 tasks      | elapsed:    1.3s\n"
          ]
        },
        {
          "output_type": "stream",
          "name": "stdout",
          "text": [
            "Fitting ICA to data using 32 channels (please be patient, this may take a while)\n",
            "Selecting by number: 15 components\n",
            "Fitting ICA took 36.4s.\n",
            "Applying ICA to Raw instance\n",
            "    Transforming to ICA space (15 components)\n",
            "    Zeroing out 0 ICA components\n",
            "    Projecting back using 32 PCA components\n",
            "Writing /content/MHyEEG/data/DEAP/preprocessed/preprocessed_s18.raw.fif\n",
            "Closing /content/MHyEEG/data/DEAP/preprocessed/preprocessed_s18.raw.fif\n",
            "[done]\n",
            "Saved preprocessed data for Subject 18 to /content/MHyEEG/data/DEAP/preprocessed/preprocessed_s18.raw.fif\n",
            "Processing Subject 19...\n",
            "Loading data for Subject 19 from /content/MHyEEG/data/DEAP/data_original/s19.bdf\n",
            "Extracting EDF parameters from /content/MHyEEG/data/DEAP/data_original/s19.bdf...\n",
            "BDF file detected\n",
            "Setting channel info structure...\n",
            "Creating raw.info structure...\n",
            "Reading 0 ... 1917951  =      0.000 ...  3745.998 secs...\n",
            "Missing or unmatched channels: ['EXG1', 'EXG2', 'EXG3', 'EXG4', 'EXG5', 'EXG6', 'EXG7', 'EXG8', 'GSR1', 'GSR2', 'Erg1', 'Erg2', 'Resp', 'Plet', 'Temp', 'Status']\n",
            "NOTE: pick_types() is a legacy function. New code should use inst.pick(...).\n"
          ]
        },
        {
          "output_type": "stream",
          "name": "stderr",
          "text": [
            "<ipython-input-9-d8f647c8f685>:32: RuntimeWarning: The unit for channel(s) EXG1, EXG2, EXG3, EXG4, EXG5, EXG6, EXG7, EXG8, Erg1, Erg2, GSR1, GSR2, Plet, Resp, Temp has changed from V to NA.\n",
            "  raw.set_channel_types({ch: 'misc' for ch in non_eeg_channels})\n"
          ]
        },
        {
          "output_type": "stream",
          "name": "stdout",
          "text": [
            "Filtering raw data in 1 contiguous segment\n",
            "Setting up band-pass filter from 1 - 45 Hz\n",
            "\n",
            "FIR filter parameters\n",
            "---------------------\n",
            "Designing a one-pass, zero-phase, non-causal bandpass filter:\n",
            "- Windowed time-domain design (firwin) method\n",
            "- Hamming window with 0.0194 passband ripple and 53 dB stopband attenuation\n",
            "- Lower passband edge: 1.00\n",
            "- Lower transition bandwidth: 1.00 Hz (-6 dB cutoff frequency: 0.50 Hz)\n",
            "- Upper passband edge: 45.00 Hz\n",
            "- Upper transition bandwidth: 11.25 Hz (-6 dB cutoff frequency: 50.62 Hz)\n",
            "- Filter length: 1691 samples (3.303 s)\n",
            "\n"
          ]
        },
        {
          "output_type": "stream",
          "name": "stderr",
          "text": [
            "[Parallel(n_jobs=1)]: Done  17 tasks      | elapsed:    1.3s\n"
          ]
        },
        {
          "output_type": "stream",
          "name": "stdout",
          "text": [
            "Fitting ICA to data using 32 channels (please be patient, this may take a while)\n",
            "Selecting by number: 15 components\n",
            "Fitting ICA took 42.1s.\n",
            "Applying ICA to Raw instance\n",
            "    Transforming to ICA space (15 components)\n",
            "    Zeroing out 0 ICA components\n",
            "    Projecting back using 32 PCA components\n",
            "Writing /content/MHyEEG/data/DEAP/preprocessed/preprocessed_s19.raw.fif\n",
            "Closing /content/MHyEEG/data/DEAP/preprocessed/preprocessed_s19.raw.fif\n",
            "[done]\n",
            "Saved preprocessed data for Subject 19 to /content/MHyEEG/data/DEAP/preprocessed/preprocessed_s19.raw.fif\n",
            "Processing Subject 20...\n",
            "Loading data for Subject 20 from /content/MHyEEG/data/DEAP/data_original/s20.bdf\n",
            "Extracting EDF parameters from /content/MHyEEG/data/DEAP/data_original/s20.bdf...\n",
            "BDF file detected\n",
            "Setting channel info structure...\n",
            "Creating raw.info structure...\n",
            "Reading 0 ... 1796607  =      0.000 ...  3508.998 secs...\n",
            "Missing or unmatched channels: ['EXG1', 'EXG2', 'EXG3', 'EXG4', 'EXG5', 'EXG6', 'EXG7', 'EXG8', 'GSR1', 'GSR2', 'Erg1', 'Erg2', 'Resp', 'Plet', 'Temp', 'Status']\n",
            "NOTE: pick_types() is a legacy function. New code should use inst.pick(...).\n"
          ]
        },
        {
          "output_type": "stream",
          "name": "stderr",
          "text": [
            "<ipython-input-9-d8f647c8f685>:32: RuntimeWarning: The unit for channel(s) EXG1, EXG2, EXG3, EXG4, EXG5, EXG6, EXG7, EXG8, Erg1, Erg2, GSR1, GSR2, Plet, Resp, Temp has changed from V to NA.\n",
            "  raw.set_channel_types({ch: 'misc' for ch in non_eeg_channels})\n"
          ]
        },
        {
          "output_type": "stream",
          "name": "stdout",
          "text": [
            "Filtering raw data in 1 contiguous segment\n",
            "Setting up band-pass filter from 1 - 45 Hz\n",
            "\n",
            "FIR filter parameters\n",
            "---------------------\n",
            "Designing a one-pass, zero-phase, non-causal bandpass filter:\n",
            "- Windowed time-domain design (firwin) method\n",
            "- Hamming window with 0.0194 passband ripple and 53 dB stopband attenuation\n",
            "- Lower passband edge: 1.00\n",
            "- Lower transition bandwidth: 1.00 Hz (-6 dB cutoff frequency: 0.50 Hz)\n",
            "- Upper passband edge: 45.00 Hz\n",
            "- Upper transition bandwidth: 11.25 Hz (-6 dB cutoff frequency: 50.62 Hz)\n",
            "- Filter length: 1691 samples (3.303 s)\n",
            "\n"
          ]
        },
        {
          "output_type": "stream",
          "name": "stderr",
          "text": [
            "[Parallel(n_jobs=1)]: Done  17 tasks      | elapsed:    1.6s\n"
          ]
        },
        {
          "output_type": "stream",
          "name": "stdout",
          "text": [
            "Fitting ICA to data using 32 channels (please be patient, this may take a while)\n",
            "Selecting by number: 15 components\n",
            "Fitting ICA took 20.5s.\n",
            "Applying ICA to Raw instance\n",
            "    Transforming to ICA space (15 components)\n",
            "    Zeroing out 0 ICA components\n",
            "    Projecting back using 32 PCA components\n",
            "Writing /content/MHyEEG/data/DEAP/preprocessed/preprocessed_s20.raw.fif\n",
            "Closing /content/MHyEEG/data/DEAP/preprocessed/preprocessed_s20.raw.fif\n",
            "[done]\n",
            "Saved preprocessed data for Subject 20 to /content/MHyEEG/data/DEAP/preprocessed/preprocessed_s20.raw.fif\n",
            "Processing Subject 21...\n",
            "Loading data for Subject 21 from /content/MHyEEG/data/DEAP/data_original/s21.bdf\n",
            "Extracting EDF parameters from /content/MHyEEG/data/DEAP/data_original/s21.bdf...\n",
            "BDF file detected\n",
            "Setting channel info structure...\n",
            "Creating raw.info structure...\n",
            "Reading 0 ... 1818111  =      0.000 ...  3550.998 secs...\n",
            "Missing or unmatched channels: ['EXG1', 'EXG2', 'EXG3', 'EXG4', 'EXG5', 'EXG6', 'EXG7', 'EXG8', 'GSR1', 'GSR2', 'Erg1', 'Erg2', 'Resp', 'Plet', 'Temp', 'Status']\n",
            "NOTE: pick_types() is a legacy function. New code should use inst.pick(...).\n"
          ]
        },
        {
          "output_type": "stream",
          "name": "stderr",
          "text": [
            "<ipython-input-9-d8f647c8f685>:32: RuntimeWarning: The unit for channel(s) EXG1, EXG2, EXG3, EXG4, EXG5, EXG6, EXG7, EXG8, Erg1, Erg2, GSR1, GSR2, Plet, Resp, Temp has changed from V to NA.\n",
            "  raw.set_channel_types({ch: 'misc' for ch in non_eeg_channels})\n"
          ]
        },
        {
          "output_type": "stream",
          "name": "stdout",
          "text": [
            "Filtering raw data in 1 contiguous segment\n",
            "Setting up band-pass filter from 1 - 45 Hz\n",
            "\n",
            "FIR filter parameters\n",
            "---------------------\n",
            "Designing a one-pass, zero-phase, non-causal bandpass filter:\n",
            "- Windowed time-domain design (firwin) method\n",
            "- Hamming window with 0.0194 passband ripple and 53 dB stopband attenuation\n",
            "- Lower passband edge: 1.00\n",
            "- Lower transition bandwidth: 1.00 Hz (-6 dB cutoff frequency: 0.50 Hz)\n",
            "- Upper passband edge: 45.00 Hz\n",
            "- Upper transition bandwidth: 11.25 Hz (-6 dB cutoff frequency: 50.62 Hz)\n",
            "- Filter length: 1691 samples (3.303 s)\n",
            "\n"
          ]
        },
        {
          "output_type": "stream",
          "name": "stderr",
          "text": [
            "[Parallel(n_jobs=1)]: Done  17 tasks      | elapsed:    1.1s\n"
          ]
        },
        {
          "output_type": "stream",
          "name": "stdout",
          "text": [
            "Fitting ICA to data using 32 channels (please be patient, this may take a while)\n",
            "Selecting by number: 15 components\n",
            "Fitting ICA took 21.0s.\n",
            "Applying ICA to Raw instance\n",
            "    Transforming to ICA space (15 components)\n",
            "    Zeroing out 0 ICA components\n",
            "    Projecting back using 32 PCA components\n",
            "Writing /content/MHyEEG/data/DEAP/preprocessed/preprocessed_s21.raw.fif\n",
            "Closing /content/MHyEEG/data/DEAP/preprocessed/preprocessed_s21.raw.fif\n",
            "[done]\n",
            "Saved preprocessed data for Subject 21 to /content/MHyEEG/data/DEAP/preprocessed/preprocessed_s21.raw.fif\n",
            "Processing Subject 22...\n",
            "Loading data for Subject 22 from /content/MHyEEG/data/DEAP/data_original/s22.bdf\n",
            "Extracting EDF parameters from /content/MHyEEG/data/DEAP/data_original/s22.bdf...\n",
            "BDF file detected\n",
            "Setting channel info structure...\n",
            "Creating raw.info structure...\n",
            "Reading 0 ... 1904127  =      0.000 ...  3718.998 secs...\n",
            "Missing or unmatched channels: ['EXG1', 'EXG2', 'EXG3', 'EXG4', 'EXG5', 'EXG6', 'EXG7', 'EXG8', 'GSR1', 'GSR2', 'Erg1', 'Erg2', 'Resp', 'Plet', 'Temp', 'Status']\n",
            "NOTE: pick_types() is a legacy function. New code should use inst.pick(...).\n"
          ]
        },
        {
          "output_type": "stream",
          "name": "stderr",
          "text": [
            "<ipython-input-9-d8f647c8f685>:32: RuntimeWarning: The unit for channel(s) EXG1, EXG2, EXG3, EXG4, EXG5, EXG6, EXG7, EXG8, Erg1, Erg2, GSR1, GSR2, Plet, Resp, Temp has changed from V to NA.\n",
            "  raw.set_channel_types({ch: 'misc' for ch in non_eeg_channels})\n"
          ]
        },
        {
          "output_type": "stream",
          "name": "stdout",
          "text": [
            "Filtering raw data in 1 contiguous segment\n",
            "Setting up band-pass filter from 1 - 45 Hz\n",
            "\n",
            "FIR filter parameters\n",
            "---------------------\n",
            "Designing a one-pass, zero-phase, non-causal bandpass filter:\n",
            "- Windowed time-domain design (firwin) method\n",
            "- Hamming window with 0.0194 passband ripple and 53 dB stopband attenuation\n",
            "- Lower passband edge: 1.00\n",
            "- Lower transition bandwidth: 1.00 Hz (-6 dB cutoff frequency: 0.50 Hz)\n",
            "- Upper passband edge: 45.00 Hz\n",
            "- Upper transition bandwidth: 11.25 Hz (-6 dB cutoff frequency: 50.62 Hz)\n",
            "- Filter length: 1691 samples (3.303 s)\n",
            "\n"
          ]
        },
        {
          "output_type": "stream",
          "name": "stderr",
          "text": [
            "[Parallel(n_jobs=1)]: Done  17 tasks      | elapsed:    1.2s\n"
          ]
        },
        {
          "output_type": "stream",
          "name": "stdout",
          "text": [
            "Fitting ICA to data using 32 channels (please be patient, this may take a while)\n",
            "Selecting by number: 15 components\n",
            "Fitting ICA took 32.7s.\n",
            "Applying ICA to Raw instance\n",
            "    Transforming to ICA space (15 components)\n",
            "    Zeroing out 0 ICA components\n",
            "    Projecting back using 32 PCA components\n",
            "Writing /content/MHyEEG/data/DEAP/preprocessed/preprocessed_s22.raw.fif\n",
            "Closing /content/MHyEEG/data/DEAP/preprocessed/preprocessed_s22.raw.fif\n",
            "[done]\n",
            "Saved preprocessed data for Subject 22 to /content/MHyEEG/data/DEAP/preprocessed/preprocessed_s22.raw.fif\n",
            "Processing Subject 23...\n",
            "Loading data for Subject 23 from /content/MHyEEG/data/DEAP/data_original/s23.bdf\n",
            "Extracting EDF parameters from /content/MHyEEG/data/DEAP/data_original/s23.bdf...\n",
            "BDF file detected\n",
            "Setting channel info structure...\n",
            "Creating raw.info structure...\n",
            "Reading 0 ... 1843711  =      0.000 ...  3600.998 secs...\n",
            "Missing or unmatched channels: ['EXG1', 'EXG2', 'EXG3', 'EXG4', 'EXG5', 'EXG6', 'EXG7', 'EXG8', 'GSR1', 'GSR2', 'Erg1', 'Erg2', 'Resp', 'Plet', 'Temp', 'Status']\n",
            "NOTE: pick_types() is a legacy function. New code should use inst.pick(...).\n"
          ]
        },
        {
          "output_type": "stream",
          "name": "stderr",
          "text": [
            "<ipython-input-9-d8f647c8f685>:32: RuntimeWarning: The unit for channel(s) EXG1, EXG2, EXG3, EXG4, EXG5, EXG6, EXG7, EXG8, Erg1, Erg2, GSR1, GSR2, Plet, Resp, Temp has changed from V to NA.\n",
            "  raw.set_channel_types({ch: 'misc' for ch in non_eeg_channels})\n"
          ]
        },
        {
          "output_type": "stream",
          "name": "stdout",
          "text": [
            "Filtering raw data in 1 contiguous segment\n",
            "Setting up band-pass filter from 1 - 45 Hz\n",
            "\n",
            "FIR filter parameters\n",
            "---------------------\n",
            "Designing a one-pass, zero-phase, non-causal bandpass filter:\n",
            "- Windowed time-domain design (firwin) method\n",
            "- Hamming window with 0.0194 passband ripple and 53 dB stopband attenuation\n",
            "- Lower passband edge: 1.00\n",
            "- Lower transition bandwidth: 1.00 Hz (-6 dB cutoff frequency: 0.50 Hz)\n",
            "- Upper passband edge: 45.00 Hz\n",
            "- Upper transition bandwidth: 11.25 Hz (-6 dB cutoff frequency: 50.62 Hz)\n",
            "- Filter length: 1691 samples (3.303 s)\n",
            "\n"
          ]
        },
        {
          "output_type": "stream",
          "name": "stderr",
          "text": [
            "[Parallel(n_jobs=1)]: Done  17 tasks      | elapsed:    1.1s\n"
          ]
        },
        {
          "output_type": "stream",
          "name": "stdout",
          "text": [
            "Fitting ICA to data using 32 channels (please be patient, this may take a while)\n",
            "Selecting by number: 15 components\n",
            "Fitting ICA took 17.2s.\n",
            "Applying ICA to Raw instance\n",
            "    Transforming to ICA space (15 components)\n",
            "    Zeroing out 0 ICA components\n",
            "    Projecting back using 32 PCA components\n",
            "Writing /content/MHyEEG/data/DEAP/preprocessed/preprocessed_s23.raw.fif\n",
            "Closing /content/MHyEEG/data/DEAP/preprocessed/preprocessed_s23.raw.fif\n",
            "[done]\n",
            "Saved preprocessed data for Subject 23 to /content/MHyEEG/data/DEAP/preprocessed/preprocessed_s23.raw.fif\n",
            "Processing Subject 24...\n",
            "Loading data for Subject 24 from /content/MHyEEG/data/DEAP/data_original/s24.bdf\n",
            "Extracting EDF parameters from /content/MHyEEG/data/DEAP/data_original/s24.bdf...\n",
            "BDF file detected\n",
            "Setting channel info structure...\n",
            "Creating raw.info structure...\n",
            "Reading 0 ... 2412543  =      0.000 ...  4711.998 secs...\n"
          ]
        },
        {
          "output_type": "stream",
          "name": "stderr",
          "text": [
            "<ipython-input-9-d8f647c8f685>:18: RuntimeWarning: Channels contain different highpass filters. Highest filter setting will be stored.\n",
            "  raw = mne.io.read_raw_bdf(file_path, preload=True)\n",
            "<ipython-input-9-d8f647c8f685>:18: RuntimeWarning: Channels contain different lowpass filters. Lowest filter setting will be stored.\n",
            "  raw = mne.io.read_raw_bdf(file_path, preload=True)\n"
          ]
        },
        {
          "output_type": "stream",
          "name": "stdout",
          "text": [
            "Missing or unmatched channels: ['EXG1', 'EXG2', 'EXG3', 'EXG4', 'EXG5', 'EXG6', 'EXG7', 'EXG8', 'GSR1', 'GSR2', 'Erg1', 'Erg2', 'Resp', 'Plet', 'Temp', '']\n",
            "NOTE: pick_types() is a legacy function. New code should use inst.pick(...).\n"
          ]
        },
        {
          "output_type": "stream",
          "name": "stderr",
          "text": [
            "<ipython-input-9-d8f647c8f685>:32: RuntimeWarning: The unit for channel(s) EXG1, EXG2, EXG3, EXG4, EXG5, EXG6, EXG7, EXG8, Erg1, Erg2, GSR1, GSR2, Plet, Resp, Temp has changed from V to NA.\n",
            "  raw.set_channel_types({ch: 'misc' for ch in non_eeg_channels})\n"
          ]
        },
        {
          "output_type": "stream",
          "name": "stdout",
          "text": [
            "Filtering raw data in 1 contiguous segment\n",
            "Setting up band-pass filter from 1 - 45 Hz\n",
            "\n",
            "FIR filter parameters\n",
            "---------------------\n",
            "Designing a one-pass, zero-phase, non-causal bandpass filter:\n",
            "- Windowed time-domain design (firwin) method\n",
            "- Hamming window with 0.0194 passband ripple and 53 dB stopband attenuation\n",
            "- Lower passband edge: 1.00\n",
            "- Lower transition bandwidth: 1.00 Hz (-6 dB cutoff frequency: 0.50 Hz)\n",
            "- Upper passband edge: 45.00 Hz\n",
            "- Upper transition bandwidth: 11.25 Hz (-6 dB cutoff frequency: 50.62 Hz)\n",
            "- Filter length: 1691 samples (3.303 s)\n",
            "\n"
          ]
        },
        {
          "output_type": "stream",
          "name": "stderr",
          "text": [
            "[Parallel(n_jobs=1)]: Done  17 tasks      | elapsed:    1.6s\n"
          ]
        },
        {
          "output_type": "stream",
          "name": "stdout",
          "text": [
            "Fitting ICA to data using 33 channels (please be patient, this may take a while)\n",
            "Selecting by number: 15 components\n"
          ]
        },
        {
          "output_type": "stream",
          "name": "stderr",
          "text": [
            "<ipython-input-9-d8f647c8f685>:58: RuntimeWarning: Using n_components=15 (resulting in n_components_=15) may lead to an unstable mixing matrix estimation because the ratio between the largest (33) and smallest (1.3e-14) variances is too large (> 1e6); consider setting n_components=0.999999 or an integer <= 1\n",
            "  ica.fit(raw)\n"
          ]
        },
        {
          "output_type": "stream",
          "name": "stdout",
          "text": [
            "Fitting ICA took 28.3s.\n",
            "Applying ICA to Raw instance\n",
            "    Transforming to ICA space (15 components)\n",
            "    Zeroing out 0 ICA components\n",
            "    Projecting back using 33 PCA components\n",
            "Writing /content/MHyEEG/data/DEAP/preprocessed/preprocessed_s24.raw.fif\n",
            "Closing /content/MHyEEG/data/DEAP/preprocessed/preprocessed_s24.raw.fif\n",
            "[done]\n",
            "Saved preprocessed data for Subject 24 to /content/MHyEEG/data/DEAP/preprocessed/preprocessed_s24.raw.fif\n",
            "Processing Subject 25...\n",
            "Loading data for Subject 25 from /content/MHyEEG/data/DEAP/data_original/s25.bdf\n",
            "Extracting EDF parameters from /content/MHyEEG/data/DEAP/data_original/s25.bdf...\n",
            "BDF file detected\n",
            "Setting channel info structure...\n",
            "Creating raw.info structure...\n",
            "Reading 0 ... 2109439  =      0.000 ...  4119.998 secs...\n"
          ]
        },
        {
          "output_type": "stream",
          "name": "stderr",
          "text": [
            "<ipython-input-9-d8f647c8f685>:18: RuntimeWarning: Channels contain different highpass filters. Highest filter setting will be stored.\n",
            "  raw = mne.io.read_raw_bdf(file_path, preload=True)\n",
            "<ipython-input-9-d8f647c8f685>:18: RuntimeWarning: Channels contain different lowpass filters. Lowest filter setting will be stored.\n",
            "  raw = mne.io.read_raw_bdf(file_path, preload=True)\n"
          ]
        },
        {
          "output_type": "stream",
          "name": "stdout",
          "text": [
            "Missing or unmatched channels: ['EXG1', 'EXG2', 'EXG3', 'EXG4', 'EXG5', 'EXG6', 'EXG7', 'EXG8', 'GSR1', 'GSR2', 'Erg1', 'Erg2', 'Resp', 'Plet', 'Temp', '']\n",
            "NOTE: pick_types() is a legacy function. New code should use inst.pick(...).\n"
          ]
        },
        {
          "output_type": "stream",
          "name": "stderr",
          "text": [
            "<ipython-input-9-d8f647c8f685>:32: RuntimeWarning: The unit for channel(s) EXG1, EXG2, EXG3, EXG4, EXG5, EXG6, EXG7, EXG8, Erg1, Erg2, GSR1, GSR2, Plet, Resp, Temp has changed from V to NA.\n",
            "  raw.set_channel_types({ch: 'misc' for ch in non_eeg_channels})\n"
          ]
        },
        {
          "output_type": "stream",
          "name": "stdout",
          "text": [
            "Filtering raw data in 1 contiguous segment\n",
            "Setting up band-pass filter from 1 - 45 Hz\n",
            "\n",
            "FIR filter parameters\n",
            "---------------------\n",
            "Designing a one-pass, zero-phase, non-causal bandpass filter:\n",
            "- Windowed time-domain design (firwin) method\n",
            "- Hamming window with 0.0194 passband ripple and 53 dB stopband attenuation\n",
            "- Lower passband edge: 1.00\n",
            "- Lower transition bandwidth: 1.00 Hz (-6 dB cutoff frequency: 0.50 Hz)\n",
            "- Upper passband edge: 45.00 Hz\n",
            "- Upper transition bandwidth: 11.25 Hz (-6 dB cutoff frequency: 50.62 Hz)\n",
            "- Filter length: 1691 samples (3.303 s)\n",
            "\n"
          ]
        },
        {
          "output_type": "stream",
          "name": "stderr",
          "text": [
            "[Parallel(n_jobs=1)]: Done  17 tasks      | elapsed:    1.3s\n"
          ]
        },
        {
          "output_type": "stream",
          "name": "stdout",
          "text": [
            "Fitting ICA to data using 33 channels (please be patient, this may take a while)\n",
            "Selecting by number: 15 components\n",
            "Fitting ICA took 35.1s.\n"
          ]
        },
        {
          "output_type": "stream",
          "name": "stderr",
          "text": [
            "<ipython-input-9-d8f647c8f685>:58: RuntimeWarning: Using n_components=15 (resulting in n_components_=15) may lead to an unstable mixing matrix estimation because the ratio between the largest (33) and smallest (2.1e-14) variances is too large (> 1e6); consider setting n_components=0.999999 or an integer <= 1\n",
            "  ica.fit(raw)\n"
          ]
        },
        {
          "output_type": "stream",
          "name": "stdout",
          "text": [
            "Applying ICA to Raw instance\n",
            "    Transforming to ICA space (15 components)\n",
            "    Zeroing out 0 ICA components\n",
            "    Projecting back using 33 PCA components\n",
            "Writing /content/MHyEEG/data/DEAP/preprocessed/preprocessed_s25.raw.fif\n",
            "Closing /content/MHyEEG/data/DEAP/preprocessed/preprocessed_s25.raw.fif\n",
            "[done]\n",
            "Saved preprocessed data for Subject 25 to /content/MHyEEG/data/DEAP/preprocessed/preprocessed_s25.raw.fif\n",
            "Processing Subject 26...\n",
            "Loading data for Subject 26 from /content/MHyEEG/data/DEAP/data_original/s26.bdf\n",
            "Extracting EDF parameters from /content/MHyEEG/data/DEAP/data_original/s26.bdf...\n",
            "BDF file detected\n",
            "Setting channel info structure...\n",
            "Creating raw.info structure...\n",
            "Reading 0 ... 2003455  =      0.000 ...  3912.998 secs...\n"
          ]
        },
        {
          "output_type": "stream",
          "name": "stderr",
          "text": [
            "<ipython-input-9-d8f647c8f685>:18: RuntimeWarning: Channels contain different highpass filters. Highest filter setting will be stored.\n",
            "  raw = mne.io.read_raw_bdf(file_path, preload=True)\n",
            "<ipython-input-9-d8f647c8f685>:18: RuntimeWarning: Channels contain different lowpass filters. Lowest filter setting will be stored.\n",
            "  raw = mne.io.read_raw_bdf(file_path, preload=True)\n"
          ]
        },
        {
          "output_type": "stream",
          "name": "stdout",
          "text": [
            "Missing or unmatched channels: ['EXG1', 'EXG2', 'EXG3', 'EXG4', 'EXG5', 'EXG6', 'EXG7', 'EXG8', 'GSR1', 'GSR2', 'Erg1', 'Erg2', 'Resp', 'Plet', 'Temp', '']\n",
            "NOTE: pick_types() is a legacy function. New code should use inst.pick(...).\n"
          ]
        },
        {
          "output_type": "stream",
          "name": "stderr",
          "text": [
            "<ipython-input-9-d8f647c8f685>:32: RuntimeWarning: The unit for channel(s) EXG1, EXG2, EXG3, EXG4, EXG5, EXG6, EXG7, EXG8, Erg1, Erg2, GSR1, GSR2, Plet, Resp, Temp has changed from V to NA.\n",
            "  raw.set_channel_types({ch: 'misc' for ch in non_eeg_channels})\n"
          ]
        },
        {
          "output_type": "stream",
          "name": "stdout",
          "text": [
            "Filtering raw data in 1 contiguous segment\n",
            "Setting up band-pass filter from 1 - 45 Hz\n",
            "\n",
            "FIR filter parameters\n",
            "---------------------\n",
            "Designing a one-pass, zero-phase, non-causal bandpass filter:\n",
            "- Windowed time-domain design (firwin) method\n",
            "- Hamming window with 0.0194 passband ripple and 53 dB stopband attenuation\n",
            "- Lower passband edge: 1.00\n",
            "- Lower transition bandwidth: 1.00 Hz (-6 dB cutoff frequency: 0.50 Hz)\n",
            "- Upper passband edge: 45.00 Hz\n",
            "- Upper transition bandwidth: 11.25 Hz (-6 dB cutoff frequency: 50.62 Hz)\n",
            "- Filter length: 1691 samples (3.303 s)\n",
            "\n"
          ]
        },
        {
          "output_type": "stream",
          "name": "stderr",
          "text": [
            "[Parallel(n_jobs=1)]: Done  17 tasks      | elapsed:    1.5s\n"
          ]
        },
        {
          "output_type": "stream",
          "name": "stdout",
          "text": [
            "Fitting ICA to data using 33 channels (please be patient, this may take a while)\n",
            "Selecting by number: 15 components\n",
            "Fitting ICA took 40.0s.\n"
          ]
        },
        {
          "output_type": "stream",
          "name": "stderr",
          "text": [
            "<ipython-input-9-d8f647c8f685>:58: RuntimeWarning: Using n_components=15 (resulting in n_components_=15) may lead to an unstable mixing matrix estimation because the ratio between the largest (33) and smallest (1.4e-14) variances is too large (> 1e6); consider setting n_components=0.999999 or an integer <= 1\n",
            "  ica.fit(raw)\n"
          ]
        },
        {
          "output_type": "stream",
          "name": "stdout",
          "text": [
            "Applying ICA to Raw instance\n",
            "    Transforming to ICA space (15 components)\n",
            "    Zeroing out 0 ICA components\n",
            "    Projecting back using 33 PCA components\n",
            "Writing /content/MHyEEG/data/DEAP/preprocessed/preprocessed_s26.raw.fif\n",
            "Closing /content/MHyEEG/data/DEAP/preprocessed/preprocessed_s26.raw.fif\n",
            "[done]\n",
            "Saved preprocessed data for Subject 26 to /content/MHyEEG/data/DEAP/preprocessed/preprocessed_s26.raw.fif\n",
            "Processing Subject 27...\n",
            "Loading data for Subject 27 from /content/MHyEEG/data/DEAP/data_original/s27.bdf\n",
            "Extracting EDF parameters from /content/MHyEEG/data/DEAP/data_original/s27.bdf...\n",
            "BDF file detected\n",
            "Setting channel info structure...\n",
            "Creating raw.info structure...\n",
            "Reading 0 ... 1944575  =      0.000 ...  3797.998 secs...\n"
          ]
        },
        {
          "output_type": "stream",
          "name": "stderr",
          "text": [
            "<ipython-input-9-d8f647c8f685>:18: RuntimeWarning: Channels contain different highpass filters. Highest filter setting will be stored.\n",
            "  raw = mne.io.read_raw_bdf(file_path, preload=True)\n",
            "<ipython-input-9-d8f647c8f685>:18: RuntimeWarning: Channels contain different lowpass filters. Lowest filter setting will be stored.\n",
            "  raw = mne.io.read_raw_bdf(file_path, preload=True)\n"
          ]
        },
        {
          "output_type": "stream",
          "name": "stdout",
          "text": [
            "Missing or unmatched channels: ['EXG1', 'EXG2', 'EXG3', 'EXG4', 'EXG5', 'EXG6', 'EXG7', 'EXG8', 'GSR1', 'GSR2', 'Erg1', 'Erg2', 'Resp', 'Plet', 'Temp', '']\n",
            "NOTE: pick_types() is a legacy function. New code should use inst.pick(...).\n"
          ]
        },
        {
          "output_type": "stream",
          "name": "stderr",
          "text": [
            "<ipython-input-9-d8f647c8f685>:32: RuntimeWarning: The unit for channel(s) EXG1, EXG2, EXG3, EXG4, EXG5, EXG6, EXG7, EXG8, Erg1, Erg2, GSR1, GSR2, Plet, Resp, Temp has changed from V to NA.\n",
            "  raw.set_channel_types({ch: 'misc' for ch in non_eeg_channels})\n"
          ]
        },
        {
          "output_type": "stream",
          "name": "stdout",
          "text": [
            "Filtering raw data in 1 contiguous segment\n",
            "Setting up band-pass filter from 1 - 45 Hz\n",
            "\n",
            "FIR filter parameters\n",
            "---------------------\n",
            "Designing a one-pass, zero-phase, non-causal bandpass filter:\n",
            "- Windowed time-domain design (firwin) method\n",
            "- Hamming window with 0.0194 passband ripple and 53 dB stopband attenuation\n",
            "- Lower passband edge: 1.00\n",
            "- Lower transition bandwidth: 1.00 Hz (-6 dB cutoff frequency: 0.50 Hz)\n",
            "- Upper passband edge: 45.00 Hz\n",
            "- Upper transition bandwidth: 11.25 Hz (-6 dB cutoff frequency: 50.62 Hz)\n",
            "- Filter length: 1691 samples (3.303 s)\n",
            "\n"
          ]
        },
        {
          "output_type": "stream",
          "name": "stderr",
          "text": [
            "[Parallel(n_jobs=1)]: Done  17 tasks      | elapsed:    1.3s\n"
          ]
        },
        {
          "output_type": "stream",
          "name": "stdout",
          "text": [
            "Fitting ICA to data using 33 channels (please be patient, this may take a while)\n",
            "Selecting by number: 15 components\n",
            "Fitting ICA took 30.3s.\n"
          ]
        },
        {
          "output_type": "stream",
          "name": "stderr",
          "text": [
            "<ipython-input-9-d8f647c8f685>:58: RuntimeWarning: Using n_components=15 (resulting in n_components_=15) may lead to an unstable mixing matrix estimation because the ratio between the largest (33) and smallest (1.6e-14) variances is too large (> 1e6); consider setting n_components=0.999999 or an integer <= 1\n",
            "  ica.fit(raw)\n"
          ]
        },
        {
          "output_type": "stream",
          "name": "stdout",
          "text": [
            "Applying ICA to Raw instance\n",
            "    Transforming to ICA space (15 components)\n",
            "    Zeroing out 0 ICA components\n",
            "    Projecting back using 33 PCA components\n",
            "Writing /content/MHyEEG/data/DEAP/preprocessed/preprocessed_s27.raw.fif\n",
            "Closing /content/MHyEEG/data/DEAP/preprocessed/preprocessed_s27.raw.fif\n",
            "[done]\n",
            "Saved preprocessed data for Subject 27 to /content/MHyEEG/data/DEAP/preprocessed/preprocessed_s27.raw.fif\n",
            "Processing Subject 28...\n",
            "Loading data for Subject 28 from /content/MHyEEG/data/DEAP/data_original/s28.bdf\n",
            "Extracting EDF parameters from /content/MHyEEG/data/DEAP/data_original/s28.bdf...\n",
            "BDF file detected\n",
            "Setting channel info structure...\n",
            "Creating raw.info structure...\n",
            "Reading 0 ... 1805823  =      0.000 ...  3526.998 secs...\n"
          ]
        },
        {
          "output_type": "stream",
          "name": "stderr",
          "text": [
            "<ipython-input-9-d8f647c8f685>:18: RuntimeWarning: Channels contain different highpass filters. Highest filter setting will be stored.\n",
            "  raw = mne.io.read_raw_bdf(file_path, preload=True)\n",
            "<ipython-input-9-d8f647c8f685>:18: RuntimeWarning: Channels contain different lowpass filters. Lowest filter setting will be stored.\n",
            "  raw = mne.io.read_raw_bdf(file_path, preload=True)\n"
          ]
        },
        {
          "output_type": "stream",
          "name": "stdout",
          "text": [
            "Missing or unmatched channels: ['EXG1', 'EXG2', 'EXG3', 'EXG4', 'EXG5', 'EXG6', 'EXG7', 'EXG8', 'GSR1', 'GSR2', 'Erg1', 'Erg2', 'Resp', 'Plet', 'Temp', '']\n",
            "NOTE: pick_types() is a legacy function. New code should use inst.pick(...).\n"
          ]
        },
        {
          "output_type": "stream",
          "name": "stderr",
          "text": [
            "<ipython-input-9-d8f647c8f685>:32: RuntimeWarning: The unit for channel(s) EXG1, EXG2, EXG3, EXG4, EXG5, EXG6, EXG7, EXG8, Erg1, Erg2, GSR1, GSR2, Plet, Resp, Temp has changed from V to NA.\n",
            "  raw.set_channel_types({ch: 'misc' for ch in non_eeg_channels})\n"
          ]
        },
        {
          "output_type": "stream",
          "name": "stdout",
          "text": [
            "Filtering raw data in 1 contiguous segment\n",
            "Setting up band-pass filter from 1 - 45 Hz\n",
            "\n",
            "FIR filter parameters\n",
            "---------------------\n",
            "Designing a one-pass, zero-phase, non-causal bandpass filter:\n",
            "- Windowed time-domain design (firwin) method\n",
            "- Hamming window with 0.0194 passband ripple and 53 dB stopband attenuation\n",
            "- Lower passband edge: 1.00\n",
            "- Lower transition bandwidth: 1.00 Hz (-6 dB cutoff frequency: 0.50 Hz)\n",
            "- Upper passband edge: 45.00 Hz\n",
            "- Upper transition bandwidth: 11.25 Hz (-6 dB cutoff frequency: 50.62 Hz)\n",
            "- Filter length: 1691 samples (3.303 s)\n",
            "\n"
          ]
        },
        {
          "output_type": "stream",
          "name": "stderr",
          "text": [
            "[Parallel(n_jobs=1)]: Done  17 tasks      | elapsed:    1.2s\n"
          ]
        },
        {
          "output_type": "stream",
          "name": "stdout",
          "text": [
            "Fitting ICA to data using 33 channels (please be patient, this may take a while)\n",
            "Selecting by number: 15 components\n",
            "Fitting ICA took 24.1s.\n",
            "Applying ICA to Raw instance\n"
          ]
        },
        {
          "output_type": "stream",
          "name": "stderr",
          "text": [
            "<ipython-input-9-d8f647c8f685>:58: RuntimeWarning: Using n_components=15 (resulting in n_components_=15) may lead to an unstable mixing matrix estimation because the ratio between the largest (33) and smallest (8.2e-19) variances is too large (> 1e6); consider setting n_components=0.999999 or an integer <= 1\n",
            "  ica.fit(raw)\n"
          ]
        },
        {
          "output_type": "stream",
          "name": "stdout",
          "text": [
            "    Transforming to ICA space (15 components)\n",
            "    Zeroing out 0 ICA components\n",
            "    Projecting back using 33 PCA components\n",
            "Writing /content/MHyEEG/data/DEAP/preprocessed/preprocessed_s28.raw.fif\n",
            "Closing /content/MHyEEG/data/DEAP/preprocessed/preprocessed_s28.raw.fif\n",
            "[done]\n",
            "Saved preprocessed data for Subject 28 to /content/MHyEEG/data/DEAP/preprocessed/preprocessed_s28.raw.fif\n",
            "Processing Subject 29...\n",
            "Loading data for Subject 29 from /content/MHyEEG/data/DEAP/data_original/s29.bdf\n",
            "Extracting EDF parameters from /content/MHyEEG/data/DEAP/data_original/s29.bdf...\n",
            "BDF file detected\n",
            "Setting channel info structure...\n",
            "Creating raw.info structure...\n",
            "Reading 0 ... 2036735  =      0.000 ...  3977.998 secs...\n"
          ]
        },
        {
          "output_type": "stream",
          "name": "stderr",
          "text": [
            "<ipython-input-9-d8f647c8f685>:18: RuntimeWarning: Channel names are not unique, found duplicates for: {''}. Applying running numbers for duplicates.\n",
            "  raw = mne.io.read_raw_bdf(file_path, preload=True)\n",
            "<ipython-input-9-d8f647c8f685>:18: RuntimeWarning: Channels contain different highpass filters. Highest filter setting will be stored.\n",
            "  raw = mne.io.read_raw_bdf(file_path, preload=True)\n",
            "<ipython-input-9-d8f647c8f685>:18: RuntimeWarning: Channels contain different lowpass filters. Lowest filter setting will be stored.\n",
            "  raw = mne.io.read_raw_bdf(file_path, preload=True)\n"
          ]
        },
        {
          "output_type": "stream",
          "name": "stdout",
          "text": [
            "Missing or unmatched channels: ['EXG1', 'EXG2', 'EXG3', 'EXG4', 'EXG5', 'EXG6', 'EXG7', 'EXG8', 'GSR1', 'GSR2', 'Erg1', 'Erg2', 'Resp', 'Plet', 'Temp', '-0', '-1']\n",
            "NOTE: pick_types() is a legacy function. New code should use inst.pick(...).\n"
          ]
        },
        {
          "output_type": "stream",
          "name": "stderr",
          "text": [
            "<ipython-input-9-d8f647c8f685>:32: RuntimeWarning: The unit for channel(s) EXG1, EXG2, EXG3, EXG4, EXG5, EXG6, EXG7, EXG8, Erg1, Erg2, GSR1, GSR2, Plet, Resp, Temp has changed from V to NA.\n",
            "  raw.set_channel_types({ch: 'misc' for ch in non_eeg_channels})\n"
          ]
        },
        {
          "output_type": "stream",
          "name": "stdout",
          "text": [
            "Filtering raw data in 1 contiguous segment\n",
            "Setting up band-pass filter from 1 - 45 Hz\n",
            "\n",
            "FIR filter parameters\n",
            "---------------------\n",
            "Designing a one-pass, zero-phase, non-causal bandpass filter:\n",
            "- Windowed time-domain design (firwin) method\n",
            "- Hamming window with 0.0194 passband ripple and 53 dB stopband attenuation\n",
            "- Lower passband edge: 1.00\n",
            "- Lower transition bandwidth: 1.00 Hz (-6 dB cutoff frequency: 0.50 Hz)\n",
            "- Upper passband edge: 45.00 Hz\n",
            "- Upper transition bandwidth: 11.25 Hz (-6 dB cutoff frequency: 50.62 Hz)\n",
            "- Filter length: 1691 samples (3.303 s)\n",
            "\n"
          ]
        },
        {
          "output_type": "stream",
          "name": "stderr",
          "text": [
            "[Parallel(n_jobs=1)]: Done  17 tasks      | elapsed:    1.4s\n"
          ]
        },
        {
          "output_type": "stream",
          "name": "stdout",
          "text": [
            "Fitting ICA to data using 34 channels (please be patient, this may take a while)\n",
            "Selecting by number: 15 components\n"
          ]
        },
        {
          "output_type": "stream",
          "name": "stderr",
          "text": [
            "<ipython-input-9-d8f647c8f685>:58: RuntimeWarning: Using n_components=15 (resulting in n_components_=15) may lead to an unstable mixing matrix estimation because the ratio between the largest (34) and smallest (7.2e-15) variances is too large (> 1e6); consider setting n_components=0.999999 or an integer <= 1\n",
            "  ica.fit(raw)\n"
          ]
        },
        {
          "output_type": "stream",
          "name": "stdout",
          "text": [
            "Fitting ICA took 34.4s.\n",
            "Applying ICA to Raw instance\n",
            "    Transforming to ICA space (15 components)\n",
            "    Zeroing out 0 ICA components\n",
            "    Projecting back using 34 PCA components\n",
            "Writing /content/MHyEEG/data/DEAP/preprocessed/preprocessed_s29.raw.fif\n",
            "Closing /content/MHyEEG/data/DEAP/preprocessed/preprocessed_s29.raw.fif\n",
            "[done]\n",
            "Saved preprocessed data for Subject 29 to /content/MHyEEG/data/DEAP/preprocessed/preprocessed_s29.raw.fif\n",
            "Processing Subject 30...\n",
            "Loading data for Subject 30 from /content/MHyEEG/data/DEAP/data_original/s30.bdf\n",
            "Extracting EDF parameters from /content/MHyEEG/data/DEAP/data_original/s30.bdf...\n",
            "BDF file detected\n",
            "Setting channel info structure...\n",
            "Creating raw.info structure...\n",
            "Reading 0 ... 1876479  =      0.000 ...  3664.998 secs...\n"
          ]
        },
        {
          "output_type": "stream",
          "name": "stderr",
          "text": [
            "<ipython-input-9-d8f647c8f685>:18: RuntimeWarning: Channel names are not unique, found duplicates for: {''}. Applying running numbers for duplicates.\n",
            "  raw = mne.io.read_raw_bdf(file_path, preload=True)\n",
            "<ipython-input-9-d8f647c8f685>:18: RuntimeWarning: Channels contain different highpass filters. Highest filter setting will be stored.\n",
            "  raw = mne.io.read_raw_bdf(file_path, preload=True)\n",
            "<ipython-input-9-d8f647c8f685>:18: RuntimeWarning: Channels contain different lowpass filters. Lowest filter setting will be stored.\n",
            "  raw = mne.io.read_raw_bdf(file_path, preload=True)\n"
          ]
        },
        {
          "output_type": "stream",
          "name": "stdout",
          "text": [
            "Missing or unmatched channels: ['EXG1', 'EXG2', 'EXG3', 'EXG4', 'EXG5', 'EXG6', 'EXG7', 'EXG8', 'GSR1', 'GSR2', 'Erg1', 'Erg2', 'Resp', 'Plet', 'Temp', '-0', '-1']\n",
            "NOTE: pick_types() is a legacy function. New code should use inst.pick(...).\n"
          ]
        },
        {
          "output_type": "stream",
          "name": "stderr",
          "text": [
            "<ipython-input-9-d8f647c8f685>:32: RuntimeWarning: The unit for channel(s) EXG1, EXG2, EXG3, EXG4, EXG5, EXG6, EXG7, EXG8, Erg1, Erg2, GSR1, GSR2, Plet, Resp, Temp has changed from V to NA.\n",
            "  raw.set_channel_types({ch: 'misc' for ch in non_eeg_channels})\n"
          ]
        },
        {
          "output_type": "stream",
          "name": "stdout",
          "text": [
            "Filtering raw data in 1 contiguous segment\n",
            "Setting up band-pass filter from 1 - 45 Hz\n",
            "\n",
            "FIR filter parameters\n",
            "---------------------\n",
            "Designing a one-pass, zero-phase, non-causal bandpass filter:\n",
            "- Windowed time-domain design (firwin) method\n",
            "- Hamming window with 0.0194 passband ripple and 53 dB stopband attenuation\n",
            "- Lower passband edge: 1.00\n",
            "- Lower transition bandwidth: 1.00 Hz (-6 dB cutoff frequency: 0.50 Hz)\n",
            "- Upper passband edge: 45.00 Hz\n",
            "- Upper transition bandwidth: 11.25 Hz (-6 dB cutoff frequency: 50.62 Hz)\n",
            "- Filter length: 1691 samples (3.303 s)\n",
            "\n"
          ]
        },
        {
          "output_type": "stream",
          "name": "stderr",
          "text": [
            "[Parallel(n_jobs=1)]: Done  17 tasks      | elapsed:    1.3s\n"
          ]
        },
        {
          "output_type": "stream",
          "name": "stdout",
          "text": [
            "Fitting ICA to data using 34 channels (please be patient, this may take a while)\n",
            "Selecting by number: 15 components\n",
            "Fitting ICA took 22.0s.\n",
            "Applying ICA to Raw instance\n"
          ]
        },
        {
          "output_type": "stream",
          "name": "stderr",
          "text": [
            "<ipython-input-9-d8f647c8f685>:58: RuntimeWarning: Using n_components=15 (resulting in n_components_=15) may lead to an unstable mixing matrix estimation because the ratio between the largest (34) and smallest (4.9e-15) variances is too large (> 1e6); consider setting n_components=0.999999 or an integer <= 1\n",
            "  ica.fit(raw)\n"
          ]
        },
        {
          "output_type": "stream",
          "name": "stdout",
          "text": [
            "    Transforming to ICA space (15 components)\n",
            "    Zeroing out 0 ICA components\n",
            "    Projecting back using 34 PCA components\n",
            "Writing /content/MHyEEG/data/DEAP/preprocessed/preprocessed_s30.raw.fif\n",
            "Closing /content/MHyEEG/data/DEAP/preprocessed/preprocessed_s30.raw.fif\n",
            "[done]\n",
            "Saved preprocessed data for Subject 30 to /content/MHyEEG/data/DEAP/preprocessed/preprocessed_s30.raw.fif\n",
            "Processing Subject 31...\n",
            "Loading data for Subject 31 from /content/MHyEEG/data/DEAP/data_original/s31.bdf\n",
            "Extracting EDF parameters from /content/MHyEEG/data/DEAP/data_original/s31.bdf...\n",
            "BDF file detected\n",
            "Setting channel info structure...\n",
            "Creating raw.info structure...\n",
            "Reading 0 ... 1892351  =      0.000 ...  3695.998 secs...\n"
          ]
        },
        {
          "output_type": "stream",
          "name": "stderr",
          "text": [
            "<ipython-input-9-d8f647c8f685>:18: RuntimeWarning: Channel names are not unique, found duplicates for: {''}. Applying running numbers for duplicates.\n",
            "  raw = mne.io.read_raw_bdf(file_path, preload=True)\n",
            "<ipython-input-9-d8f647c8f685>:18: RuntimeWarning: Channels contain different highpass filters. Highest filter setting will be stored.\n",
            "  raw = mne.io.read_raw_bdf(file_path, preload=True)\n",
            "<ipython-input-9-d8f647c8f685>:18: RuntimeWarning: Channels contain different lowpass filters. Lowest filter setting will be stored.\n",
            "  raw = mne.io.read_raw_bdf(file_path, preload=True)\n"
          ]
        },
        {
          "output_type": "stream",
          "name": "stdout",
          "text": [
            "Missing or unmatched channels: ['EXG1', 'EXG2', 'EXG3', 'EXG4', 'EXG5', 'EXG6', 'EXG7', 'EXG8', 'GSR1', 'GSR2', 'Erg1', 'Erg2', 'Resp', 'Plet', 'Temp', '-0', '-1']\n",
            "NOTE: pick_types() is a legacy function. New code should use inst.pick(...).\n"
          ]
        },
        {
          "output_type": "stream",
          "name": "stderr",
          "text": [
            "<ipython-input-9-d8f647c8f685>:32: RuntimeWarning: The unit for channel(s) EXG1, EXG2, EXG3, EXG4, EXG5, EXG6, EXG7, EXG8, Erg1, Erg2, GSR1, GSR2, Plet, Resp, Temp has changed from V to NA.\n",
            "  raw.set_channel_types({ch: 'misc' for ch in non_eeg_channels})\n"
          ]
        },
        {
          "output_type": "stream",
          "name": "stdout",
          "text": [
            "Filtering raw data in 1 contiguous segment\n",
            "Setting up band-pass filter from 1 - 45 Hz\n",
            "\n",
            "FIR filter parameters\n",
            "---------------------\n",
            "Designing a one-pass, zero-phase, non-causal bandpass filter:\n",
            "- Windowed time-domain design (firwin) method\n",
            "- Hamming window with 0.0194 passband ripple and 53 dB stopband attenuation\n",
            "- Lower passband edge: 1.00\n",
            "- Lower transition bandwidth: 1.00 Hz (-6 dB cutoff frequency: 0.50 Hz)\n",
            "- Upper passband edge: 45.00 Hz\n",
            "- Upper transition bandwidth: 11.25 Hz (-6 dB cutoff frequency: 50.62 Hz)\n",
            "- Filter length: 1691 samples (3.303 s)\n",
            "\n"
          ]
        },
        {
          "output_type": "stream",
          "name": "stderr",
          "text": [
            "[Parallel(n_jobs=1)]: Done  17 tasks      | elapsed:    1.3s\n"
          ]
        },
        {
          "output_type": "stream",
          "name": "stdout",
          "text": [
            "Fitting ICA to data using 34 channels (please be patient, this may take a while)\n",
            "Selecting by number: 15 components\n",
            "Fitting ICA took 29.9s.\n",
            "Applying ICA to Raw instance\n"
          ]
        },
        {
          "output_type": "stream",
          "name": "stderr",
          "text": [
            "<ipython-input-9-d8f647c8f685>:58: RuntimeWarning: Using n_components=15 (resulting in n_components_=15) may lead to an unstable mixing matrix estimation because the ratio between the largest (34) and smallest (3e-15) variances is too large (> 1e6); consider setting n_components=0.999999 or an integer <= 1\n",
            "  ica.fit(raw)\n"
          ]
        },
        {
          "output_type": "stream",
          "name": "stdout",
          "text": [
            "    Transforming to ICA space (15 components)\n",
            "    Zeroing out 0 ICA components\n",
            "    Projecting back using 34 PCA components\n",
            "Writing /content/MHyEEG/data/DEAP/preprocessed/preprocessed_s31.raw.fif\n",
            "Closing /content/MHyEEG/data/DEAP/preprocessed/preprocessed_s31.raw.fif\n",
            "[done]\n",
            "Saved preprocessed data for Subject 31 to /content/MHyEEG/data/DEAP/preprocessed/preprocessed_s31.raw.fif\n",
            "Processing Subject 32...\n",
            "Loading data for Subject 32 from /content/MHyEEG/data/DEAP/data_original/s32.bdf\n",
            "Extracting EDF parameters from /content/MHyEEG/data/DEAP/data_original/s32.bdf...\n",
            "BDF file detected\n",
            "Setting channel info structure...\n",
            "Creating raw.info structure...\n",
            "Reading 0 ... 1804287  =      0.000 ...  3523.998 secs...\n"
          ]
        },
        {
          "output_type": "stream",
          "name": "stderr",
          "text": [
            "<ipython-input-9-d8f647c8f685>:18: RuntimeWarning: Channel names are not unique, found duplicates for: {''}. Applying running numbers for duplicates.\n",
            "  raw = mne.io.read_raw_bdf(file_path, preload=True)\n",
            "<ipython-input-9-d8f647c8f685>:18: RuntimeWarning: Channels contain different highpass filters. Highest filter setting will be stored.\n",
            "  raw = mne.io.read_raw_bdf(file_path, preload=True)\n",
            "<ipython-input-9-d8f647c8f685>:18: RuntimeWarning: Channels contain different lowpass filters. Lowest filter setting will be stored.\n",
            "  raw = mne.io.read_raw_bdf(file_path, preload=True)\n"
          ]
        },
        {
          "output_type": "stream",
          "name": "stdout",
          "text": [
            "Missing or unmatched channels: ['EXG1', 'EXG2', 'EXG3', 'EXG4', 'EXG5', 'EXG6', 'EXG7', 'EXG8', 'GSR1', 'GSR2', 'Erg1', 'Erg2', 'Resp', 'Plet', 'Temp', '-0', '-1']\n",
            "NOTE: pick_types() is a legacy function. New code should use inst.pick(...).\n"
          ]
        },
        {
          "output_type": "stream",
          "name": "stderr",
          "text": [
            "<ipython-input-9-d8f647c8f685>:32: RuntimeWarning: The unit for channel(s) EXG1, EXG2, EXG3, EXG4, EXG5, EXG6, EXG7, EXG8, Erg1, Erg2, GSR1, GSR2, Plet, Resp, Temp has changed from V to NA.\n",
            "  raw.set_channel_types({ch: 'misc' for ch in non_eeg_channels})\n"
          ]
        },
        {
          "output_type": "stream",
          "name": "stdout",
          "text": [
            "Filtering raw data in 1 contiguous segment\n",
            "Setting up band-pass filter from 1 - 45 Hz\n",
            "\n",
            "FIR filter parameters\n",
            "---------------------\n",
            "Designing a one-pass, zero-phase, non-causal bandpass filter:\n",
            "- Windowed time-domain design (firwin) method\n",
            "- Hamming window with 0.0194 passband ripple and 53 dB stopband attenuation\n",
            "- Lower passband edge: 1.00\n",
            "- Lower transition bandwidth: 1.00 Hz (-6 dB cutoff frequency: 0.50 Hz)\n",
            "- Upper passband edge: 45.00 Hz\n",
            "- Upper transition bandwidth: 11.25 Hz (-6 dB cutoff frequency: 50.62 Hz)\n",
            "- Filter length: 1691 samples (3.303 s)\n",
            "\n"
          ]
        },
        {
          "output_type": "stream",
          "name": "stderr",
          "text": [
            "[Parallel(n_jobs=1)]: Done  17 tasks      | elapsed:    1.3s\n"
          ]
        },
        {
          "output_type": "stream",
          "name": "stdout",
          "text": [
            "Fitting ICA to data using 34 channels (please be patient, this may take a while)\n",
            "Selecting by number: 15 components\n",
            "Fitting ICA took 17.4s.\n",
            "Applying ICA to Raw instance\n"
          ]
        },
        {
          "output_type": "stream",
          "name": "stderr",
          "text": [
            "<ipython-input-9-d8f647c8f685>:58: RuntimeWarning: Using n_components=15 (resulting in n_components_=15) may lead to an unstable mixing matrix estimation because the ratio between the largest (34) and smallest (3.1e-15) variances is too large (> 1e6); consider setting n_components=0.999999 or an integer <= 1\n",
            "  ica.fit(raw)\n"
          ]
        },
        {
          "output_type": "stream",
          "name": "stdout",
          "text": [
            "    Transforming to ICA space (15 components)\n",
            "    Zeroing out 0 ICA components\n",
            "    Projecting back using 34 PCA components\n",
            "Writing /content/MHyEEG/data/DEAP/preprocessed/preprocessed_s32.raw.fif\n",
            "Closing /content/MHyEEG/data/DEAP/preprocessed/preprocessed_s32.raw.fif\n",
            "[done]\n",
            "Saved preprocessed data for Subject 32 to /content/MHyEEG/data/DEAP/preprocessed/preprocessed_s32.raw.fif\n"
          ]
        }
      ]
    },
    {
      "cell_type": "code",
      "source": [
        "import os\n",
        "import mne\n",
        "from mne.preprocessing import ICA\n",
        "\n",
        "def load_raw_data(data_dir, subject_id):\n",
        "    \"\"\"\n",
        "    Load raw DEAP EEG data from the unzipped directory structure.\n",
        "    Args:\n",
        "        data_dir (str): Path to the `data_original` directory.\n",
        "        subject_id (int): Subject ID (1-32).\n",
        "    Returns:\n",
        "        raw (mne.io.Raw): Raw EEG data.\n",
        "    \"\"\"\n",
        "    file_path = os.path.join(data_dir, f\"s{str(subject_id).zfill(2)}.bdf\")\n",
        "    if not os.path.exists(file_path):\n",
        "        raise FileNotFoundError(f\"File not found: {file_path}\")\n",
        "    print(f\"Loading data for Subject {subject_id} from {file_path}\")\n",
        "    raw = mne.io.read_raw_bdf(file_path, preload=True)\n",
        "    return raw\n",
        "\n",
        "def preprocess_raw_data(raw):\n",
        "    \"\"\"\n",
        "    Preprocess raw EEG data: set montage, filter, resample, and apply ICA.\n",
        "    Args:\n",
        "        raw (mne.io.Raw): Raw EEG data.\n",
        "    Returns:\n",
        "        preprocessed_raw (mne.io.Raw): Preprocessed EEG data.\n",
        "    \"\"\"\n",
        "    # Handle duplicate or empty channel names\n",
        "    raw.rename_channels({name: f\"ch_{i}\" for i, name in enumerate(raw.info[\"ch_names\"]) if name == ''})\n",
        "\n",
        "    # Set channel types for non-EEG channels\n",
        "    non_eeg_channels = ['EXG1', 'EXG2', 'EXG3', 'EXG4', 'EXG5', 'EXG6', 'EXG7', 'EXG8',\n",
        "                        'GSR1', 'GSR2', 'Erg1', 'Erg2', 'Resp', 'Plet', 'Temp', 'Status']\n",
        "    raw.set_channel_types({ch: 'misc' for ch in non_eeg_channels if ch in raw.info[\"ch_names\"]})\n",
        "\n",
        "    # Match channel names to Biosemi32 montage (if possible)\n",
        "    montage = mne.channels.make_standard_montage(\"biosemi32\")\n",
        "    raw_channels = raw.info['ch_names']\n",
        "    montage_channels = montage.ch_names\n",
        "\n",
        "    # Identify mismatched channels\n",
        "    missing_channels = [ch for ch in raw_channels if ch not in montage_channels]\n",
        "    print(f\"Missing or unmatched channels: {missing_channels}\")\n",
        "\n",
        "    # Attempt to set montage, allowing for missing channels\n",
        "    raw.pick_types(eeg=True, exclude='misc')  # Select only EEG channels for montage\n",
        "    try:\n",
        "        raw.set_montage(montage, on_missing='ignore')\n",
        "    except ValueError as e:\n",
        "        print(f\"Error setting montage: {e}. Proceeding without strict mapping.\")\n",
        "\n",
        "    # Filter data (band-pass 1-45 Hz)\n",
        "    raw.filter(l_freq=1.0, h_freq=45.0)\n",
        "\n",
        "    # Downsample to 128 Hz\n",
        "    raw.resample(128)\n",
        "\n",
        "    # Apply ICA for artifact removal with safer n_components\n",
        "    ica = ICA(n_components=0.999999, random_state=97, max_iter=800)\n",
        "    ica.fit(raw)\n",
        "    raw = ica.apply(raw)\n",
        "\n",
        "    return raw\n",
        "\n",
        "def save_preprocessed_data(raw, output_dir, subject_id):\n",
        "    \"\"\"\n",
        "    Save preprocessed EEG data to FIF file format.\n",
        "    Args:\n",
        "        raw (mne.io.Raw): Preprocessed EEG data.\n",
        "        output_dir (str): Directory to save the preprocessed data.\n",
        "        subject_id (int): Subject ID (1-32).\n",
        "    \"\"\"\n",
        "    os.makedirs(output_dir, exist_ok=True)\n",
        "    file_path = os.path.join(output_dir, f\"preprocessed_s{str(subject_id).zfill(2)}.raw.fif\")\n",
        "    raw.save(file_path, overwrite=True)\n",
        "    print(f\"Saved preprocessed data for Subject {subject_id} to {file_path}\")\n",
        "\n",
        "if __name__ == \"__main__\":\n",
        "    # Define paths\n",
        "    data_dir = \"/content/MHyEEG/data/DEAP/data_original\"\n",
        "    output_dir = \"/content/MHyEEG/data/DEAP/preprocessed\"\n",
        "\n",
        "    # Process each subject\n",
        "    for subject_id in range(1, 33):\n",
        "        print(f\"Processing Subject {subject_id}...\")\n",
        "        try:\n",
        "            raw = load_raw_data(data_dir, subject_id)\n",
        "            preprocessed_raw = preprocess_raw_data(raw)\n",
        "            save_preprocessed_data(preprocessed_raw, output_dir, subject_id)\n",
        "        except Exception as e:\n",
        "            print(f\"An error occurred for Subject {subject_id}: {e}\")\n"
      ],
      "metadata": {
        "id": "oYFaBPDVl379",
        "outputId": "63d47966-61ef-4f13-b1e2-d8cf4736078f",
        "colab": {
          "base_uri": "https://localhost:8080/"
        }
      },
      "execution_count": null,
      "outputs": [
        {
          "output_type": "stream",
          "name": "stdout",
          "text": [
            "Processing Subject 1...\n",
            "Loading data for Subject 1 from /content/MHyEEG/data/DEAP/data_original/s01.bdf\n",
            "Extracting EDF parameters from /content/MHyEEG/data/DEAP/data_original/s01.bdf...\n",
            "BDF file detected\n",
            "Setting channel info structure...\n",
            "Creating raw.info structure...\n",
            "Reading 0 ... 1980927  =      0.000 ...  3868.998 secs...\n",
            "Missing or unmatched channels: ['EXG1', 'EXG2', 'EXG3', 'EXG4', 'EXG5', 'EXG6', 'EXG7', 'EXG8', 'GSR1', 'GSR2', 'Erg1', 'Erg2', 'Resp', 'Plet', 'Temp', 'Status']\n",
            "NOTE: pick_types() is a legacy function. New code should use inst.pick(...).\n",
            "An error occurred for Subject 1: exclude must either be \"bads\" or a list of strings. If only one channel is to be excluded, use [ch_name] instead of passing ch_name.\n",
            "Processing Subject 2...\n",
            "Loading data for Subject 2 from /content/MHyEEG/data/DEAP/data_original/s02.bdf\n",
            "Extracting EDF parameters from /content/MHyEEG/data/DEAP/data_original/s02.bdf...\n",
            "BDF file detected\n",
            "Setting channel info structure...\n",
            "Creating raw.info structure...\n",
            "Reading 0 ... 1895935  =      0.000 ...  3702.998 secs...\n"
          ]
        },
        {
          "output_type": "stream",
          "name": "stderr",
          "text": [
            "<ipython-input-10-c731d0744a29>:35: RuntimeWarning: The unit for channel(s) EXG1, EXG2, EXG3, EXG4, EXG5, EXG6, EXG7, EXG8, Erg1, Erg2, GSR1, GSR2, Plet, Resp, Temp has changed from V to NA.\n",
            "  raw.set_channel_types({ch: 'misc' for ch in non_eeg_channels if ch in raw.info[\"ch_names\"]})\n"
          ]
        },
        {
          "output_type": "stream",
          "name": "stdout",
          "text": [
            "Missing or unmatched channels: ['EXG1', 'EXG2', 'EXG3', 'EXG4', 'EXG5', 'EXG6', 'EXG7', 'EXG8', 'GSR1', 'GSR2', 'Erg1', 'Erg2', 'Resp', 'Plet', 'Temp', 'Status']\n",
            "NOTE: pick_types() is a legacy function. New code should use inst.pick(...).\n",
            "An error occurred for Subject 2: exclude must either be \"bads\" or a list of strings. If only one channel is to be excluded, use [ch_name] instead of passing ch_name.\n",
            "Processing Subject 3...\n",
            "Loading data for Subject 3 from /content/MHyEEG/data/DEAP/data_original/s03.bdf\n",
            "Extracting EDF parameters from /content/MHyEEG/data/DEAP/data_original/s03.bdf...\n",
            "BDF file detected\n",
            "Setting channel info structure...\n",
            "Creating raw.info structure...\n",
            "Reading 0 ... 1989119  =      0.000 ...  3884.998 secs...\n"
          ]
        },
        {
          "output_type": "stream",
          "name": "stderr",
          "text": [
            "<ipython-input-10-c731d0744a29>:35: RuntimeWarning: The unit for channel(s) EXG1, EXG2, EXG3, EXG4, EXG5, EXG6, EXG7, EXG8, Erg1, Erg2, GSR1, GSR2, Plet, Resp, Temp has changed from V to NA.\n",
            "  raw.set_channel_types({ch: 'misc' for ch in non_eeg_channels if ch in raw.info[\"ch_names\"]})\n"
          ]
        }
      ]
    }
  ],
  "metadata": {
    "language_info": {
      "name": "python"
    },
    "colab": {
      "provenance": []
    },
    "kernelspec": {
      "name": "python3",
      "display_name": "Python 3"
    }
  },
  "nbformat": 4,
  "nbformat_minor": 0
}