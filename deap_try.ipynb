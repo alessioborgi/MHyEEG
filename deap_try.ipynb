{
  "cells": [
    {
      "cell_type": "markdown",
      "source": [
        "# MHyEEG: DEAP DATASET"
      ],
      "metadata": {
        "id": "7FdD24yd6zBt"
      }
    },
    {
      "cell_type": "markdown",
      "source": [
        "### 0: IMPORTING DEAP DATASET AND UNZIPPING"
      ],
      "metadata": {
        "id": "YwMlxgFW2kYn"
      }
    },
    {
      "cell_type": "code",
      "source": [
        "from google.colab import drive\n",
        "\n",
        "# Mount the Google Drive\n",
        "drive.mount('/content/drive')\n",
        "\n",
        "# Verify the drive is mounted\n",
        "!ls /content/drive/My\\ Drive\n"
      ],
      "metadata": {
        "id": "dnrRofGAojkx",
        "outputId": "1d782dc5-9b5d-4d20-8560-2e4c8f788271",
        "colab": {
          "base_uri": "https://localhost:8080/"
        }
      },
      "execution_count": 44,
      "outputs": [
        {
          "output_type": "stream",
          "name": "stdout",
          "text": [
            "Drive already mounted at /content/drive; to attempt to forcibly remount, call drive.mount(\"/content/drive\", force_remount=True).\n",
            "'ACSAI_Marks&Recommendations.pdf'  'MasterThesis_Proposal_(A.Borgi).gslides'\n",
            " Alessio_Borgi_CV.pdf\t\t    nano-imagenet-30-Original\n",
            " Alessio_Borgi_CV_Short.pdf\t    NN\n",
            "'Colab Notebooks'\t\t    open_window.py\n",
            " data\t\t\t\t    Open_Window.traj\n",
            " DEAP.zip\t\t\t    problem.txt\n",
            " HW2\t\t\t\t    sapienza-ppt-template_dark.gslides\n",
            " identita.pdf\t\t\t    StyleAligned\n",
            " Iscrizione.pdf\t\t\t    StyleAligned_M2L.gslides\n",
            " KAN-GAT_EAI.gslides\t\t   'Tony Starks Concentration Mix.mp3'\n",
            " Linz\t\t\t\t    XGNNs_RL.gslides\n"
          ]
        }
      ]
    },
    {
      "cell_type": "code",
      "source": [
        "import zipfile\n",
        "import os\n",
        "\n",
        "def unzip_file(zip_path, extract_to):\n",
        "    \"\"\"\n",
        "    Unzips a file to a specified directory.\n",
        "\n",
        "    Args:\n",
        "    - zip_path (str): The path to the zip file.\n",
        "    - extract_to (str): The directory where files should be extracted.\n",
        "    \"\"\"\n",
        "    # Ensure the extraction directory exists\n",
        "    os.makedirs(extract_to, exist_ok=True)\n",
        "\n",
        "    # Open and extract the zip file\n",
        "    with zipfile.ZipFile(zip_path, 'r') as zip_ref:\n",
        "        zip_ref.extractall(extract_to)\n",
        "        print(f\"Extracted all files to: {extract_to}\")\n",
        "\n",
        "# Example usage\n",
        "zip_path = \"/content/drive/MyDrive/DEAP.zip\"  # Replace with your zip file path\n",
        "extract_to = \"/content/MHyEEG/data/\"  # Replace with your target extraction folder\n",
        "unzip_file(zip_path, extract_to)\n"
      ],
      "metadata": {
        "id": "Erc6UmIXl1WJ",
        "outputId": "8d35cfea-2c63-4c43-c8de-b03dbd6fadf4",
        "colab": {
          "base_uri": "https://localhost:8080/"
        }
      },
      "execution_count": 46,
      "outputs": [
        {
          "output_type": "stream",
          "name": "stdout",
          "text": [
            "Extracted all files to: /content/MHyEEG/data/\n"
          ]
        }
      ]
    },
    {
      "cell_type": "code",
      "source": [
        "import os\n",
        "import zipfile\n",
        "\n",
        "def unzip_all_in_directory(directory):\n",
        "    \"\"\"\n",
        "    Unzips all zip files in the given directory and its subdirectories.\n",
        "\n",
        "    Args:\n",
        "    - directory (str): The directory to search for zip files.\n",
        "    \"\"\"\n",
        "    for root, _, files in os.walk(directory):\n",
        "        for file in files:\n",
        "            if file.endswith('.zip'):\n",
        "                zip_path = os.path.join(root, file)\n",
        "                extract_to = os.path.join(root, file.replace('.zip', ''))\n",
        "                os.makedirs(extract_to, exist_ok=True)\n",
        "                print(f\"Unzipping: {zip_path} to {extract_to}\")\n",
        "                with zipfile.ZipFile(zip_path, 'r') as zip_ref:\n",
        "                    zip_ref.extractall(extract_to)\n",
        "                print(f\"Extracted: {zip_path} to {extract_to}\")\n",
        "\n",
        "# Directory containing the DEAP dataset\n",
        "deap_data_dir = \"/content/MHyEEG/data/DEAP\"\n",
        "unzip_all_in_directory(deap_data_dir)\n"
      ],
      "metadata": {
        "id": "OmTjBqGK3i-9",
        "outputId": "ec14798c-1e50-4996-dbeb-fc9c9704ecbc",
        "colab": {
          "base_uri": "https://localhost:8080/"
        }
      },
      "execution_count": 48,
      "outputs": [
        {
          "output_type": "stream",
          "name": "stdout",
          "text": [
            "Unzipping: /content/MHyEEG/data/DEAP/metadata_csv.zip to /content/MHyEEG/data/DEAP/metadata_csv\n",
            "Extracted: /content/MHyEEG/data/DEAP/metadata_csv.zip to /content/MHyEEG/data/DEAP/metadata_csv\n",
            "Unzipping: /content/MHyEEG/data/DEAP/face_video.zip to /content/MHyEEG/data/DEAP/face_video\n",
            "Extracted: /content/MHyEEG/data/DEAP/face_video.zip to /content/MHyEEG/data/DEAP/face_video\n",
            "Unzipping: /content/MHyEEG/data/DEAP/data_original.zip to /content/MHyEEG/data/DEAP/data_original\n",
            "Extracted: /content/MHyEEG/data/DEAP/data_original.zip to /content/MHyEEG/data/DEAP/data_original\n",
            "Unzipping: /content/MHyEEG/data/DEAP/data_preprocessed_python.zip to /content/MHyEEG/data/DEAP/data_preprocessed_python\n",
            "Extracted: /content/MHyEEG/data/DEAP/data_preprocessed_python.zip to /content/MHyEEG/data/DEAP/data_preprocessed_python\n"
          ]
        }
      ]
    },
    {
      "cell_type": "code",
      "source": [
        "import os\n",
        "import numpy as np\n",
        "import zipfile\n",
        "from scipy.io import loadmat\n",
        "\n",
        "def explore_deap_directory(directory):\n",
        "    \"\"\"\n",
        "    Explores the DEAP dataset directory, checking for .mat files, CSVs, or other data.\n",
        "\n",
        "    Args:\n",
        "    - directory (str): Path to the DEAP dataset directory.\n",
        "    \"\"\"\n",
        "    print(f\"Exploring directory: {directory}\\n{'-'*50}\")\n",
        "\n",
        "    for root, dirs, files in os.walk(directory):\n",
        "        print(f\"Directory: {root}\")\n",
        "        print(f\"Subdirectories: {dirs}\")\n",
        "        print(f\"Files: {files}\\n\")\n",
        "\n",
        "        # Check for .mat and .csv files\n",
        "        for file in files:\n",
        "            file_path = os.path.join(root, file)\n",
        "            if file.endswith('.mat'):\n",
        "                print(f\"MAT File Found: {file_path}\")\n",
        "                try:\n",
        "                    mat_data = loadmat(file_path)\n",
        "                    print(f\"Keys in {file}: {list(mat_data.keys())}\")\n",
        "                except Exception as e:\n",
        "                    print(f\"Could not load {file}: {e}\")\n",
        "            elif file.endswith('.csv'):\n",
        "                print(f\"CSV File Found: {file_path}\")\n",
        "                try:\n",
        "                    data = np.genfromtxt(file_path, delimiter=',', max_rows=5)\n",
        "                    print(f\"Preview of {file}: {data}\")\n",
        "                except Exception as e:\n",
        "                    print(f\"Could not load {file}: {e}\")\n",
        "\n",
        "# Path to DEAP dataset directory\n",
        "deap_data_dir = \"/content/MHyEEG/data/DEAP\"\n",
        "\n",
        "# Explore the DEAP dataset\n",
        "explore_deap_directory(deap_data_dir)\n"
      ],
      "metadata": {
        "id": "1f42erTo5Fj-",
        "outputId": "ddc16d25-bd96-4b68-8964-bdb28fefce5b",
        "colab": {
          "base_uri": "https://localhost:8080/"
        }
      },
      "execution_count": 49,
      "outputs": [
        {
          "output_type": "stream",
          "name": "stdout",
          "text": [
            "Exploring directory: /content/MHyEEG/data/DEAP\n",
            "--------------------------------------------------\n",
            "Directory: /content/MHyEEG/data/DEAP\n",
            "Subdirectories: ['data_original', 'data_preprocessed_python', 'metadata_csv', 'face_video']\n",
            "Files: ['metadata_csv.zip', 'face_video.zip', 'data_original.zip', 'data_preprocessed_python.zip']\n",
            "\n",
            "Directory: /content/MHyEEG/data/DEAP/data_original\n",
            "Subdirectories: []\n",
            "Files: ['s07.bdf', 's27.bdf', 's10.bdf', 's23.bdf', 's13.bdf', 's14.bdf', 's03.bdf', 's28.bdf', 's29.bdf', 's19.bdf', 's30.bdf', 's31.bdf', 's32.bdf', 's09.bdf', 's11.bdf', 's24.bdf', 's06.bdf', 's20.bdf', 's15.bdf', 's21.bdf', 's18.bdf', 's26.bdf', 's12.bdf', 's16.bdf', 's04.bdf', 's01.bdf', 's08.bdf', 's05.bdf', 's02.bdf', 's17.bdf', 's22.bdf', 's25.bdf']\n",
            "\n",
            "Directory: /content/MHyEEG/data/DEAP/data_preprocessed_python\n",
            "Subdirectories: ['data_preprocessed_python']\n",
            "Files: []\n",
            "\n",
            "Directory: /content/MHyEEG/data/DEAP/data_preprocessed_python/data_preprocessed_python\n",
            "Subdirectories: []\n",
            "Files: ['s16.dat', 's07.dat', 's26.dat', 's14.dat', 's27.dat', 's23.dat', 's31.dat', 's21.dat', 's06.dat', 's05.dat', 's29.dat', 's18.dat', 's30.dat', 's09.dat', 's10.dat', 's20.dat', 's28.dat', 's01.dat', 's12.dat', 's25.dat', 's04.dat', 's08.dat', 's22.dat', 's02.dat', 's15.dat', 's19.dat', 's13.dat', 's24.dat', 's32.dat', 's17.dat', 's03.dat', 's11.dat']\n",
            "\n",
            "Directory: /content/MHyEEG/data/DEAP/metadata_csv\n",
            "Subdirectories: []\n",
            "Files: ['participant_ratings.csv', 'participant_questionnaire.csv', 'video_list.csv', 'online_ratings.csv']\n",
            "\n",
            "CSV File Found: /content/MHyEEG/data/DEAP/metadata_csv/participant_ratings.csv\n",
            "Preview of participant_ratings.csv: [[         nan          nan          nan          nan          nan\n",
            "           nan          nan          nan          nan]\n",
            " [1.000000e+00 1.000000e+00 5.000000e+00 1.695918e+06 6.960000e+00\n",
            "  3.920000e+00 7.190000e+00 6.050000e+00 4.000000e+00]\n",
            " [1.000000e+00 2.000000e+00 1.800000e+01 2.714905e+06 7.230000e+00\n",
            "  7.150000e+00 6.940000e+00 8.010000e+00 4.000000e+00]\n",
            " [1.000000e+00 3.000000e+00 4.000000e+00 3.586768e+06 4.940000e+00\n",
            "  6.010000e+00 6.120000e+00 8.060000e+00 4.000000e+00]\n",
            " [1.000000e+00 4.000000e+00 2.400000e+01 4.493800e+06 7.040000e+00\n",
            "  7.090000e+00 8.010000e+00 8.220000e+00 4.000000e+00]]\n",
            "CSV File Found: /content/MHyEEG/data/DEAP/metadata_csv/participant_questionnaire.csv\n",
            "Could not load participant_questionnaire.csv: Some errors were detected !\n",
            "    Line #2 (got 24 columns instead of 22)\n",
            "CSV File Found: /content/MHyEEG/data/DEAP/metadata_csv/video_list.csv\n",
            "Preview of video_list.csv: [[     nan      nan      nan      nan      nan      nan      nan      nan\n",
            "       nan      nan      nan      nan      nan      nan      nan      nan\n",
            "       nan      nan      nan      nan      nan      nan      nan      nan\n",
            "       nan]\n",
            " [  1.          nan      nan      nan      nan      nan  61.      16.\n",
            "    1.       2.       6.375    1.4087   2.4167   6.       7.       4.5625\n",
            "    2.3444   2.4167   4.5      7.       5.25     1.7139   5.       5.\n",
            "    6.5833]\n",
            " [  2.       1.          nan      nan      nan      nan  81.      14.\n",
            "    1.       1.       6.8571   1.3015   4.       6.5      8.       5.8571\n",
            "    2.1993   4.       7.       7.       6.       1.5584   5.       6.\n",
            "    7.    ]\n",
            " [  3.          nan      nan      nan      nan      nan 136.      14.\n",
            "    1.       1.       6.5      1.2392   4.8333   6.5      7.0833   5.5714\n",
            "    2.0947   4.8333   6.       7.       5.5      1.842    5.       5.\n",
            "    7.    ]\n",
            " [  4.          nan      nan      nan      nan      nan 161.      14.\n",
            "    1.       1.       6.9286   2.3441   3.9167   7.5      9.       5.5\n",
            "    2.2913   3.9167   6.       8.       5.       1.4142   4.9167   5.\n",
            "    6.    ]]\n",
            "CSV File Found: /content/MHyEEG/data/DEAP/metadata_csv/online_ratings.csv\n",
            "Preview of online_ratings.csv: [[nan nan nan nan nan nan]\n",
            " [ 1.  4.  4.  3. 11.  3.]\n",
            " [ 1.  8.  3.  3.  3.  4.]\n",
            " [ 1.  5.  1.  1.  3.  2.]\n",
            " [ 1.  5.  3.  5.  3.  1.]]\n",
            "Directory: /content/MHyEEG/data/DEAP/face_video\n",
            "Subdirectories: ['s15', 's18', 's22', 's01', 's12', 's11', 's05', 's02', 's03', 's08', 's10', 's16', 's06', 's07', 's21', 's14', 's13', 's20', 's04', 's09', 's17', 's19']\n",
            "Files: []\n",
            "\n",
            "Directory: /content/MHyEEG/data/DEAP/face_video/s15\n",
            "Subdirectories: []\n",
            "Files: ['s15_trial04.avi', 's15_trial32.avi', 's15_trial16.avi', 's15_trial03.avi', 's15_trial34.avi', 's15_trial26.avi', 's15_trial15.avi', 's15_trial02.avi', 's15_trial05.avi', 's15_trial30.avi', 's15_trial06.avi', 's15_trial14.avi', 's15_trial24.avi', 's15_trial31.avi', 's15_trial18.avi', 's15_trial39.avi', 's15_trial29.avi', 's15_trial23.avi', 's15_trial13.avi', 's15_trial10.avi', 's15_trial28.avi', 's15_trial36.avi', 's15_trial22.avi', 's15_trial40.avi', 's15_trial33.avi', 's15_trial12.avi', 's15_trial07.avi', 's15_trial38.avi', 's15_trial19.avi', 's15_trial01.avi', 's15_trial11.avi', 's15_trial08.avi', 's15_trial27.avi', 's15_trial20.avi', 's15_trial21.avi', 's15_trial17.avi', 's15_trial09.avi', 's15_trial25.avi', 's15_trial35.avi', 's15_trial37.avi']\n",
            "\n",
            "Directory: /content/MHyEEG/data/DEAP/face_video/s18\n",
            "Subdirectories: []\n",
            "Files: ['s18_trial21.avi', 's18_trial15.avi', 's18_trial32.avi', 's18_trial03.avi', 's18_trial35.avi', 's18_trial23.avi', 's18_trial29.avi', 's18_trial33.avi', 's18_trial06.avi', 's18_trial14.avi', 's18_trial28.avi', 's18_trial05.avi', 's18_trial25.avi', 's18_trial22.avi', 's18_trial02.avi', 's18_trial10.avi', 's18_trial37.avi', 's18_trial16.avi', 's18_trial13.avi', 's18_trial26.avi', 's18_trial04.avi', 's18_trial09.avi', 's18_trial36.avi', 's18_trial12.avi', 's18_trial01.avi', 's18_trial18.avi', 's18_trial40.avi', 's18_trial27.avi', 's18_trial31.avi', 's18_trial11.avi', 's18_trial20.avi', 's18_trial08.avi', 's18_trial30.avi', 's18_trial38.avi', 's18_trial39.avi', 's18_trial24.avi', 's18_trial17.avi', 's18_trial19.avi', 's18_trial34.avi', 's18_trial07.avi']\n",
            "\n",
            "Directory: /content/MHyEEG/data/DEAP/face_video/s22\n",
            "Subdirectories: []\n",
            "Files: ['s22_trial16.avi', 's22_trial17.avi', 's22_trial14.avi', 's22_trial05.avi', 's22_trial23.avi', 's22_trial38.avi', 's22_trial24.avi', 's22_trial36.avi', 's22_trial37.avi', 's22_trial09.avi', 's22_trial21.avi', 's22_trial27.avi', 's22_trial01.avi', 's22_trial18.avi', 's22_trial10.avi', 's22_trial22.avi', 's22_trial03.avi', 's22_trial32.avi', 's22_trial07.avi', 's22_trial15.avi', 's22_trial35.avi', 's22_trial02.avi', 's22_trial20.avi', 's22_trial29.avi', 's22_trial33.avi', 's22_trial08.avi', 's22_trial25.avi', 's22_trial34.avi', 's22_trial26.avi', 's22_trial28.avi', 's22_trial11.avi', 's22_trial06.avi', 's22_trial04.avi', 's22_trial12.avi', 's22_trial39.avi', 's22_trial19.avi', 's22_trial31.avi', 's22_trial30.avi', 's22_trial13.avi', 's22_trial40.avi']\n",
            "\n",
            "Directory: /content/MHyEEG/data/DEAP/face_video/s01\n",
            "Subdirectories: []\n",
            "Files: ['s01_trial02.avi', 's01_trial17.avi', 's01_trial40.avi', 's01_trial39.avi', 's01_trial08.avi', 's01_trial20.avi', 's01_trial09.avi', 's01_trial12.avi', 's01_trial18.avi', 's01_trial21.avi', 's01_trial30.avi', 's01_trial11.avi', 's01_trial05.avi', 's01_trial33.avi', 's01_trial35.avi', 's01_trial26.avi', 's01_trial29.avi', 's01_trial24.avi', 's01_trial36.avi', 's01_trial19.avi', 's01_trial38.avi', 's01_trial34.avi', 's01_trial23.avi', 's01_trial06.avi', 's01_trial13.avi', 's01_trial16.avi', 's01_trial01.avi', 's01_trial07.avi', 's01_trial22.avi', 's01_trial32.avi', 's01_trial37.avi', 's01_trial28.avi', 's01_trial10.avi', 's01_trial14.avi', 's01_trial27.avi', 's01_trial04.avi', 's01_trial03.avi', 's01_trial15.avi', 's01_trial25.avi', 's01_trial31.avi']\n",
            "\n",
            "Directory: /content/MHyEEG/data/DEAP/face_video/s12\n",
            "Subdirectories: []\n",
            "Files: ['s12_trial08.avi', 's12_trial38.avi', 's12_trial20.avi', 's12_trial02.avi', 's12_trial16.avi', 's12_trial03.avi', 's12_trial04.avi', 's12_trial32.avi', 's12_trial05.avi', 's12_trial26.avi', 's12_trial17.avi', 's12_trial31.avi', 's12_trial24.avi', 's12_trial27.avi', 's12_trial39.avi', 's12_trial15.avi', 's12_trial33.avi', 's12_trial01.avi', 's12_trial18.avi', 's12_trial22.avi', 's12_trial12.avi', 's12_trial10.avi', 's12_trial29.avi', 's12_trial30.avi', 's12_trial07.avi', 's12_trial25.avi', 's12_trial40.avi', 's12_trial23.avi', 's12_trial36.avi', 's12_trial13.avi', 's12_trial19.avi', 's12_trial34.avi', 's12_trial14.avi', 's12_trial11.avi', 's12_trial09.avi', 's12_trial06.avi', 's12_trial35.avi', 's12_trial28.avi', 's12_trial37.avi', 's12_trial21.avi']\n",
            "\n",
            "Directory: /content/MHyEEG/data/DEAP/face_video/s11\n",
            "Subdirectories: []\n",
            "Files: ['s11_trial16.avi', 's11_trial37.avi', 's11_trial14.avi', 's11_trial23.avi', 's11_trial08.avi', 's11_trial13.avi', 's11_trial31.avi', 's11_trial15.avi', 's11_trial18.avi', 's11_trial05.avi', 's11_trial27.avi', 's11_trial10.avi', 's11_trial11.avi', 's11_trial06.avi', 's11_trial19.avi', 's11_trial21.avi', 's11_trial24.avi', 's11_trial09.avi', 's11_trial03.avi', 's11_trial32.avi', 's11_trial26.avi', 's11_trial22.avi', 's11_trial28.avi', 's11_trial04.avi', 's11_trial34.avi', 's11_trial33.avi', 's11_trial17.avi', 's11_trial30.avi', 's11_trial02.avi', 's11_trial12.avi', 's11_trial01.avi', 's11_trial36.avi', 's11_trial07.avi', 's11_trial35.avi', 's11_trial25.avi', 's11_trial20.avi', 's11_trial29.avi']\n",
            "\n",
            "Directory: /content/MHyEEG/data/DEAP/face_video/s05\n",
            "Subdirectories: []\n",
            "Files: ['s05_trial21.avi', 's05_trial33.avi', 's05_trial19.avi', 's05_trial07.avi', 's05_trial20.avi', 's05_trial13.avi', 's05_trial03.avi', 's05_trial31.avi', 's05_trial36.avi', 's05_trial05.avi', 's05_trial39.avi', 's05_trial08.avi', 's05_trial25.avi', 's05_trial04.avi', 's05_trial30.avi', 's05_trial02.avi', 's05_trial16.avi', 's05_trial34.avi', 's05_trial24.avi', 's05_trial09.avi', 's05_trial14.avi', 's05_trial27.avi', 's05_trial01.avi', 's05_trial10.avi', 's05_trial22.avi', 's05_trial28.avi', 's05_trial06.avi', 's05_trial17.avi', 's05_trial23.avi', 's05_trial11.avi', 's05_trial29.avi', 's05_trial32.avi', 's05_trial12.avi', 's05_trial35.avi', 's05_trial26.avi', 's05_trial37.avi', 's05_trial15.avi', 's05_trial38.avi', 's05_trial18.avi']\n",
            "\n",
            "Directory: /content/MHyEEG/data/DEAP/face_video/s02\n",
            "Subdirectories: []\n",
            "Files: ['s02_trial13.avi', 's02_trial37.avi', 's02_trial02.avi', 's02_trial29.avi', 's02_trial34.avi', 's02_trial05.avi', 's02_trial14.avi', 's02_trial12.avi', 's02_trial20.avi', 's02_trial15.avi', 's02_trial28.avi', 's02_trial17.avi', 's02_trial24.avi', 's02_trial38.avi', 's02_trial09.avi', 's02_trial33.avi', 's02_trial25.avi', 's02_trial06.avi', 's02_trial32.avi', 's02_trial23.avi', 's02_trial08.avi', 's02_trial36.avi', 's02_trial39.avi', 's02_trial26.avi', 's02_trial04.avi', 's02_trial19.avi', 's02_trial35.avi', 's02_trial30.avi', 's02_trial01.avi', 's02_trial07.avi', 's02_trial18.avi', 's02_trial22.avi', 's02_trial21.avi', 's02_trial16.avi', 's02_trial40.avi', 's02_trial10.avi', 's02_trial03.avi', 's02_trial11.avi', 's02_trial31.avi', 's02_trial27.avi']\n",
            "\n",
            "Directory: /content/MHyEEG/data/DEAP/face_video/s03\n",
            "Subdirectories: []\n",
            "Files: ['s03_trial17.avi', 's03_trial06.avi', 's03_trial26.avi', 's03_trial22.avi', 's03_trial32.avi', 's03_trial36.avi', 's03_trial14.avi', 's03_trial20.avi', 's03_trial24.avi', 's03_trial07.avi', 's03_trial15.avi', 's03_trial38.avi', 's03_trial23.avi', 's03_trial25.avi', 's03_trial39.avi', 's03_trial05.avi', 's03_trial29.avi', 's03_trial31.avi', 's03_trial35.avi', 's03_trial04.avi', 's03_trial21.avi', 's03_trial10.avi', 's03_trial02.avi', 's03_trial19.avi', 's03_trial28.avi', 's03_trial16.avi', 's03_trial08.avi', 's03_trial01.avi', 's03_trial33.avi', 's03_trial12.avi', 's03_trial03.avi', 's03_trial11.avi', 's03_trial13.avi', 's03_trial18.avi', 's03_trial34.avi', 's03_trial27.avi', 's03_trial09.avi', 's03_trial37.avi', 's03_trial30.avi']\n",
            "\n",
            "Directory: /content/MHyEEG/data/DEAP/face_video/s08\n",
            "Subdirectories: []\n",
            "Files: ['s08_trial30.avi', 's08_trial12.avi', 's08_trial20.avi', 's08_trial23.avi', 's08_trial08.avi', 's08_trial02.avi', 's08_trial19.avi', 's08_trial29.avi', 's08_trial36.avi', 's08_trial03.avi', 's08_trial28.avi', 's08_trial31.avi', 's08_trial01.avi', 's08_trial40.avi', 's08_trial18.avi', 's08_trial07.avi', 's08_trial13.avi', 's08_trial27.avi', 's08_trial09.avi', 's08_trial15.avi', 's08_trial11.avi', 's08_trial17.avi', 's08_trial35.avi', 's08_trial26.avi', 's08_trial39.avi', 's08_trial04.avi', 's08_trial25.avi', 's08_trial14.avi', 's08_trial21.avi', 's08_trial06.avi', 's08_trial32.avi', 's08_trial05.avi', 's08_trial24.avi', 's08_trial38.avi', 's08_trial16.avi', 's08_trial37.avi', 's08_trial22.avi', 's08_trial33.avi', 's08_trial10.avi', 's08_trial34.avi']\n",
            "\n",
            "Directory: /content/MHyEEG/data/DEAP/face_video/s10\n",
            "Subdirectories: []\n",
            "Files: ['s10_trial18.avi', 's10_trial19.avi', 's10_trial40.avi', 's10_trial34.avi', 's10_trial32.avi', 's10_trial13.avi', 's10_trial27.avi', 's10_trial01.avi', 's10_trial15.avi', 's10_trial22.avi', 's10_trial20.avi', 's10_trial09.avi', 's10_trial23.avi', 's10_trial08.avi', 's10_trial30.avi', 's10_trial39.avi', 's10_trial03.avi', 's10_trial16.avi', 's10_trial28.avi', 's10_trial31.avi', 's10_trial37.avi', 's10_trial24.avi', 's10_trial25.avi', 's10_trial10.avi', 's10_trial17.avi', 's10_trial26.avi', 's10_trial35.avi', 's10_trial04.avi', 's10_trial36.avi', 's10_trial05.avi', 's10_trial38.avi', 's10_trial07.avi', 's10_trial11.avi', 's10_trial29.avi', 's10_trial21.avi', 's10_trial14.avi', 's10_trial02.avi', 's10_trial06.avi', 's10_trial33.avi', 's10_trial12.avi']\n",
            "\n",
            "Directory: /content/MHyEEG/data/DEAP/face_video/s16\n",
            "Subdirectories: []\n",
            "Files: ['s16_trial02.avi', 's16_trial18.avi', 's16_trial20.avi', 's16_trial16.avi', 's16_trial12.avi', 's16_trial29.avi', 's16_trial39.avi', 's16_trial38.avi', 's16_trial05.avi', 's16_trial28.avi', 's16_trial21.avi', 's16_trial14.avi', 's16_trial13.avi', 's16_trial26.avi', 's16_trial34.avi', 's16_trial19.avi', 's16_trial23.avi', 's16_trial24.avi', 's16_trial07.avi', 's16_trial10.avi', 's16_trial36.avi', 's16_trial15.avi', 's16_trial25.avi', 's16_trial31.avi', 's16_trial03.avi', 's16_trial17.avi', 's16_trial11.avi', 's16_trial09.avi', 's16_trial40.avi', 's16_trial33.avi', 's16_trial01.avi', 's16_trial30.avi', 's16_trial37.avi', 's16_trial22.avi', 's16_trial04.avi', 's16_trial08.avi', 's16_trial27.avi', 's16_trial32.avi', 's16_trial35.avi', 's16_trial06.avi']\n",
            "\n",
            "Directory: /content/MHyEEG/data/DEAP/face_video/s06\n",
            "Subdirectories: []\n",
            "Files: ['s06_trial07.avi', 's06_trial10.avi', 's06_trial15.avi', 's06_trial08.avi', 's06_trial02.avi', 's06_trial01.avi', 's06_trial35.avi', 's06_trial37.avi', 's06_trial29.avi', 's06_trial22.avi', 's06_trial25.avi', 's06_trial21.avi', 's06_trial05.avi', 's06_trial16.avi', 's06_trial18.avi', 's06_trial40.avi', 's06_trial03.avi', 's06_trial19.avi', 's06_trial30.avi', 's06_trial24.avi', 's06_trial38.avi', 's06_trial36.avi', 's06_trial28.avi', 's06_trial27.avi', 's06_trial34.avi', 's06_trial23.avi', 's06_trial13.avi', 's06_trial14.avi', 's06_trial32.avi', 's06_trial20.avi', 's06_trial39.avi', 's06_trial06.avi', 's06_trial09.avi', 's06_trial33.avi', 's06_trial11.avi', 's06_trial26.avi', 's06_trial04.avi', 's06_trial17.avi', 's06_trial12.avi', 's06_trial31.avi']\n",
            "\n",
            "Directory: /content/MHyEEG/data/DEAP/face_video/s07\n",
            "Subdirectories: []\n",
            "Files: ['s07_trial25.avi', 's07_trial02.avi', 's07_trial10.avi', 's07_trial22.avi', 's07_trial36.avi', 's07_trial37.avi', 's07_trial11.avi', 's07_trial27.avi', 's07_trial31.avi', 's07_trial09.avi', 's07_trial13.avi', 's07_trial26.avi', 's07_trial15.avi', 's07_trial18.avi', 's07_trial08.avi', 's07_trial12.avi', 's07_trial24.avi', 's07_trial17.avi', 's07_trial35.avi', 's07_trial34.avi', 's07_trial06.avi', 's07_trial04.avi', 's07_trial33.avi', 's07_trial28.avi', 's07_trial32.avi', 's07_trial01.avi', 's07_trial05.avi', 's07_trial07.avi', 's07_trial39.avi', 's07_trial40.avi', 's07_trial29.avi', 's07_trial30.avi', 's07_trial03.avi', 's07_trial16.avi', 's07_trial21.avi', 's07_trial19.avi', 's07_trial38.avi', 's07_trial23.avi', 's07_trial14.avi', 's07_trial20.avi']\n",
            "\n",
            "Directory: /content/MHyEEG/data/DEAP/face_video/s21\n",
            "Subdirectories: []\n",
            "Files: ['s21_trial31.avi', 's21_trial32.avi', 's21_trial02.avi', 's21_trial08.avi', 's21_trial14.avi', 's21_trial01.avi', 's21_trial05.avi', 's21_trial19.avi', 's21_trial09.avi', 's21_trial07.avi', 's21_trial04.avi', 's21_trial03.avi', 's21_trial28.avi', 's21_trial30.avi', 's21_trial29.avi', 's21_trial36.avi', 's21_trial20.avi', 's21_trial06.avi', 's21_trial33.avi', 's21_trial24.avi', 's21_trial12.avi', 's21_trial10.avi', 's21_trial37.avi', 's21_trial26.avi', 's21_trial35.avi', 's21_trial21.avi', 's21_trial27.avi', 's21_trial39.avi', 's21_trial38.avi', 's21_trial22.avi', 's21_trial34.avi', 's21_trial15.avi', 's21_trial13.avi', 's21_trial40.avi', 's21_trial23.avi', 's21_trial11.avi', 's21_trial18.avi', 's21_trial16.avi', 's21_trial25.avi', 's21_trial17.avi']\n",
            "\n",
            "Directory: /content/MHyEEG/data/DEAP/face_video/s14\n",
            "Subdirectories: []\n",
            "Files: ['s14_trial34.avi', 's14_trial15.avi', 's14_trial32.avi', 's14_trial03.avi', 's14_trial01.avi', 's14_trial33.avi', 's14_trial29.avi', 's14_trial31.avi', 's14_trial14.avi', 's14_trial17.avi', 's14_trial09.avi', 's14_trial18.avi', 's14_trial11.avi', 's14_trial07.avi', 's14_trial08.avi', 's14_trial05.avi', 's14_trial25.avi', 's14_trial38.avi', 's14_trial26.avi', 's14_trial21.avi', 's14_trial20.avi', 's14_trial19.avi', 's14_trial06.avi', 's14_trial16.avi', 's14_trial04.avi', 's14_trial13.avi', 's14_trial12.avi', 's14_trial36.avi', 's14_trial23.avi', 's14_trial30.avi', 's14_trial28.avi', 's14_trial22.avi', 's14_trial37.avi', 's14_trial10.avi', 's14_trial24.avi', 's14_trial27.avi', 's14_trial02.avi', 's14_trial39.avi', 's14_trial35.avi']\n",
            "\n",
            "Directory: /content/MHyEEG/data/DEAP/face_video/s13\n",
            "Subdirectories: []\n",
            "Files: ['s13_trial12.avi', 's13_trial13.avi', 's13_trial37.avi', 's13_trial23.avi', 's13_trial24.avi', 's13_trial38.avi', 's13_trial10.avi', 's13_trial26.avi', 's13_trial39.avi', 's13_trial16.avi', 's13_trial05.avi', 's13_trial14.avi', 's13_trial02.avi', 's13_trial19.avi', 's13_trial11.avi', 's13_trial22.avi', 's13_trial35.avi', 's13_trial04.avi', 's13_trial31.avi', 's13_trial27.avi', 's13_trial40.avi', 's13_trial08.avi', 's13_trial15.avi', 's13_trial21.avi', 's13_trial20.avi', 's13_trial06.avi', 's13_trial32.avi', 's13_trial07.avi', 's13_trial29.avi', 's13_trial25.avi', 's13_trial33.avi', 's13_trial01.avi', 's13_trial28.avi', 's13_trial09.avi', 's13_trial30.avi', 's13_trial17.avi', 's13_trial34.avi', 's13_trial36.avi', 's13_trial18.avi', 's13_trial03.avi']\n",
            "\n",
            "Directory: /content/MHyEEG/data/DEAP/face_video/s20\n",
            "Subdirectories: []\n",
            "Files: ['s20_trial28.avi', 's20_trial13.avi', 's20_trial26.avi', 's20_trial38.avi', 's20_trial08.avi', 's20_trial24.avi', 's20_trial39.avi', 's20_trial10.avi', 's20_trial06.avi', 's20_trial27.avi', 's20_trial23.avi', 's20_trial31.avi', 's20_trial35.avi', 's20_trial34.avi', 's20_trial15.avi', 's20_trial02.avi', 's20_trial12.avi', 's20_trial11.avi', 's20_trial20.avi', 's20_trial05.avi', 's20_trial33.avi', 's20_trial40.avi', 's20_trial25.avi', 's20_trial21.avi', 's20_trial37.avi', 's20_trial30.avi', 's20_trial19.avi', 's20_trial01.avi', 's20_trial32.avi', 's20_trial29.avi', 's20_trial36.avi', 's20_trial17.avi', 's20_trial14.avi', 's20_trial16.avi', 's20_trial09.avi', 's20_trial04.avi', 's20_trial03.avi', 's20_trial22.avi', 's20_trial18.avi', 's20_trial07.avi']\n",
            "\n",
            "Directory: /content/MHyEEG/data/DEAP/face_video/s04\n",
            "Subdirectories: []\n",
            "Files: ['s04_trial36.avi', 's04_trial10.avi', 's04_trial03.avi', 's04_trial12.avi', 's04_trial17.avi', 's04_trial16.avi', 's04_trial07.avi', 's04_trial13.avi', 's04_trial34.avi', 's04_trial30.avi', 's04_trial40.avi', 's04_trial01.avi', 's04_trial14.avi', 's04_trial08.avi', 's04_trial23.avi', 's04_trial28.avi', 's04_trial19.avi', 's04_trial20.avi', 's04_trial32.avi', 's04_trial25.avi', 's04_trial35.avi', 's04_trial26.avi', 's04_trial39.avi', 's04_trial05.avi', 's04_trial37.avi', 's04_trial29.avi', 's04_trial27.avi', 's04_trial11.avi', 's04_trial15.avi', 's04_trial33.avi', 's04_trial24.avi', 's04_trial21.avi', 's04_trial06.avi', 's04_trial31.avi', 's04_trial18.avi', 's04_trial09.avi', 's04_trial22.avi', 's04_trial38.avi', 's04_trial02.avi', 's04_trial04.avi']\n",
            "\n",
            "Directory: /content/MHyEEG/data/DEAP/face_video/s09\n",
            "Subdirectories: []\n",
            "Files: ['s09_trial40.avi', 's09_trial12.avi', 's09_trial15.avi', 's09_trial22.avi', 's09_trial31.avi', 's09_trial02.avi', 's09_trial37.avi', 's09_trial33.avi', 's09_trial19.avi', 's09_trial30.avi', 's09_trial09.avi', 's09_trial36.avi', 's09_trial04.avi', 's09_trial17.avi', 's09_trial24.avi', 's09_trial39.avi', 's09_trial16.avi', 's09_trial01.avi', 's09_trial35.avi', 's09_trial23.avi', 's09_trial28.avi', 's09_trial03.avi', 's09_trial26.avi', 's09_trial21.avi', 's09_trial32.avi', 's09_trial07.avi', 's09_trial10.avi', 's09_trial34.avi', 's09_trial38.avi', 's09_trial11.avi', 's09_trial18.avi', 's09_trial14.avi', 's09_trial27.avi', 's09_trial05.avi', 's09_trial25.avi', 's09_trial06.avi', 's09_trial29.avi', 's09_trial13.avi', 's09_trial08.avi', 's09_trial20.avi']\n",
            "\n",
            "Directory: /content/MHyEEG/data/DEAP/face_video/s17\n",
            "Subdirectories: []\n",
            "Files: ['s17_trial25.avi', 's17_trial08.avi', 's17_trial28.avi', 's17_trial40.avi', 's17_trial11.avi', 's17_trial33.avi', 's17_trial03.avi', 's17_trial31.avi', 's17_trial36.avi', 's17_trial39.avi', 's17_trial10.avi', 's17_trial21.avi', 's17_trial05.avi', 's17_trial15.avi', 's17_trial09.avi', 's17_trial01.avi', 's17_trial35.avi', 's17_trial17.avi', 's17_trial24.avi', 's17_trial13.avi', 's17_trial02.avi', 's17_trial27.avi', 's17_trial34.avi', 's17_trial37.avi', 's17_trial32.avi', 's17_trial19.avi', 's17_trial22.avi', 's17_trial38.avi', 's17_trial16.avi', 's17_trial12.avi', 's17_trial29.avi', 's17_trial26.avi', 's17_trial04.avi', 's17_trial20.avi', 's17_trial23.avi', 's17_trial18.avi', 's17_trial07.avi', 's17_trial14.avi', 's17_trial06.avi', 's17_trial30.avi']\n",
            "\n",
            "Directory: /content/MHyEEG/data/DEAP/face_video/s19\n",
            "Subdirectories: []\n",
            "Files: ['s19_trial40.avi', 's19_trial24.avi', 's19_trial32.avi', 's19_trial12.avi', 's19_trial27.avi', 's19_trial22.avi', 's19_trial19.avi', 's19_trial05.avi', 's19_trial38.avi', 's19_trial01.avi', 's19_trial23.avi', 's19_trial33.avi', 's19_trial30.avi', 's19_trial11.avi', 's19_trial26.avi', 's19_trial20.avi', 's19_trial08.avi', 's19_trial10.avi', 's19_trial29.avi', 's19_trial25.avi', 's19_trial18.avi', 's19_trial17.avi', 's19_trial15.avi', 's19_trial07.avi', 's19_trial28.avi', 's19_trial31.avi', 's19_trial02.avi', 's19_trial14.avi', 's19_trial09.avi', 's19_trial36.avi', 's19_trial13.avi', 's19_trial35.avi', 's19_trial16.avi', 's19_trial21.avi', 's19_trial04.avi', 's19_trial34.avi', 's19_trial03.avi', 's19_trial37.avi', 's19_trial39.avi', 's19_trial06.avi']\n",
            "\n"
          ]
        }
      ]
    },
    {
      "cell_type": "markdown",
      "source": [
        "### 1: PRE-PROCESSING"
      ],
      "metadata": {
        "id": "s8qExWYD645k"
      }
    },
    {
      "cell_type": "code",
      "source": [
        "!touch /content/MHyEEG/data/__init__.py\n"
      ],
      "metadata": {
        "id": "B5ZRTSRE9j5z"
      },
      "execution_count": 59,
      "outputs": []
    },
    {
      "cell_type": "code",
      "source": [
        "import os\n",
        "import numpy as np\n",
        "from scipy.signal import butter, lfilter\n",
        "from scipy.io import loadmat\n",
        "\n",
        "# Bandpass filter functions (reuse if already defined in preprocessing.py)\n",
        "def butter_bandpass(lowcut, highcut, fs, order=5):\n",
        "    nyq = 0.5 * fs\n",
        "    low = lowcut / nyq\n",
        "    high = highcut / nyq\n",
        "    b, a = butter(order, [low, high], btype='band')\n",
        "    return b, a\n",
        "\n",
        "def bandpass_filter(data, lowcut, highcut, fs, order=5):\n",
        "    b, a = butter_bandpass(lowcut, highcut, fs, order=order)\n",
        "    return lfilter(b, a, data, axis=0)\n",
        "\n",
        "# Function to preprocess DEAP .dat files\n",
        "def preprocess_deap(data_dir, output_file, fs=128):\n",
        "    \"\"\"\n",
        "    Preprocesses DEAP dataset.\n",
        "\n",
        "    Args:\n",
        "    - data_dir (str): Directory containing DEAP .dat files.\n",
        "    - output_file (str): Path to save the preprocessed data.\n",
        "    - fs (int): Sampling frequency of the EEG data.\n",
        "    \"\"\"\n",
        "    eeg_data = []\n",
        "    labels = []\n",
        "\n",
        "    for file in os.listdir(data_dir):\n",
        "        if file.endswith('.dat'):\n",
        "            file_path = os.path.join(data_dir, file)\n",
        "            try:\n",
        "                # Load the .dat file (assumes it is in NumPy binary format)\n",
        "                data = np.load(file_path, allow_pickle=True).item()\n",
        "                eeg = data['data'][:, :32, :]  # First 32 channels are EEG\n",
        "                label = data['labels'][:, :2]  # Valence and Arousal\n",
        "\n",
        "                # Bandpass filter the EEG data\n",
        "                filtered_data = np.array([bandpass_filter(trial, 1, 45, fs) for trial in eeg])\n",
        "                eeg_data.extend(filtered_data)\n",
        "                labels.extend(label)\n",
        "            except Exception as e:\n",
        "                print(f\"Error processing {file}: {e}\")\n",
        "\n",
        "    # Normalize EEG data\n",
        "    eeg_data = np.array(eeg_data)\n",
        "    labels = np.array(labels)\n",
        "    eeg_data = (eeg_data - np.mean(eeg_data, axis=0)) / np.std(eeg_data, axis=0)\n",
        "\n",
        "    # Save preprocessed data\n",
        "    np.savez(output_file, eeg=eeg_data, labels=labels)\n",
        "    print(f\"Preprocessed data saved to {output_file}\")\n"
      ],
      "metadata": {
        "id": "y9pLg8Fb5Lvw"
      },
      "execution_count": 60,
      "outputs": []
    },
    {
      "cell_type": "code",
      "source": [
        "import torch\n",
        "from torch.utils.data import Dataset\n",
        "import numpy as np\n",
        "\n",
        "class DEAPDataset(Dataset):\n",
        "    \"\"\"\n",
        "    PyTorch Dataset for the DEAP dataset.\n",
        "    \"\"\"\n",
        "    def __init__(self, data_file):\n",
        "        \"\"\"\n",
        "        Args:\n",
        "        - data_file (str): Path to the preprocessed DEAP .npz file.\n",
        "        \"\"\"\n",
        "        data = np.load(data_file)\n",
        "        self.eeg = data['eeg']\n",
        "        self.labels = data['labels']\n",
        "\n",
        "    def __len__(self):\n",
        "        return len(self.labels)\n",
        "\n",
        "    def __getitem__(self, idx):\n",
        "        eeg = self.eeg[idx]\n",
        "        label = self.labels[idx][:2]  # Valence and Arousal\n",
        "        return torch.tensor(eeg, dtype=torch.float32), torch.tensor(label, dtype=torch.float32)\n"
      ],
      "metadata": {
        "id": "lIaT_wTu7ZKP"
      },
      "execution_count": 61,
      "outputs": []
    },
    {
      "cell_type": "code",
      "source": [
        "from torch.utils.data import DataLoader\n",
        "from data.create_dataset import DEAPDataset\n",
        "\n",
        "def get_deap_dataloader(data_file, batch_size=32, shuffle=True):\n",
        "    \"\"\"\n",
        "    Returns a PyTorch DataLoader for the DEAP dataset.\n",
        "\n",
        "    Args:\n",
        "    - data_file (str): Path to the preprocessed DEAP .npz file.\n",
        "    - batch_size (int): Number of samples per batch.\n",
        "    - shuffle (bool): Whether to shuffle the data.\n",
        "    \"\"\"\n",
        "    dataset = DEAPDataset(data_file)\n",
        "    dataloader = DataLoader(dataset, batch_size=batch_size, shuffle=shuffle)\n",
        "    return dataloader\n"
      ],
      "metadata": {
        "id": "ugP66F2f7am9",
        "outputId": "8300f9a9-deea-4906-b0ae-42172508ca2d",
        "colab": {
          "base_uri": "https://localhost:8080/",
          "height": 556
        }
      },
      "execution_count": 68,
      "outputs": [
        {
          "output_type": "error",
          "ename": "ModuleNotFoundError",
          "evalue": "No module named 'preprocessing'",
          "traceback": [
            "\u001b[0;31m---------------------------------------------------------------------------\u001b[0m",
            "\u001b[0;31mModuleNotFoundError\u001b[0m                       Traceback (most recent call last)",
            "\u001b[0;32m<ipython-input-68-3198000bbd11>\u001b[0m in \u001b[0;36m<cell line: 2>\u001b[0;34m()\u001b[0m\n\u001b[1;32m      1\u001b[0m \u001b[0;32mfrom\u001b[0m \u001b[0mtorch\u001b[0m\u001b[0;34m.\u001b[0m\u001b[0mutils\u001b[0m\u001b[0;34m.\u001b[0m\u001b[0mdata\u001b[0m \u001b[0;32mimport\u001b[0m \u001b[0mDataLoader\u001b[0m\u001b[0;34m\u001b[0m\u001b[0;34m\u001b[0m\u001b[0m\n\u001b[0;32m----> 2\u001b[0;31m \u001b[0;32mfrom\u001b[0m \u001b[0mdata\u001b[0m\u001b[0;34m.\u001b[0m\u001b[0mcreate_dataset\u001b[0m \u001b[0;32mimport\u001b[0m \u001b[0mDEAPDataset\u001b[0m\u001b[0;34m\u001b[0m\u001b[0;34m\u001b[0m\u001b[0m\n\u001b[0m\u001b[1;32m      3\u001b[0m \u001b[0;34m\u001b[0m\u001b[0m\n\u001b[1;32m      4\u001b[0m \u001b[0;32mdef\u001b[0m \u001b[0mget_deap_dataloader\u001b[0m\u001b[0;34m(\u001b[0m\u001b[0mdata_file\u001b[0m\u001b[0;34m,\u001b[0m \u001b[0mbatch_size\u001b[0m\u001b[0;34m=\u001b[0m\u001b[0;36m32\u001b[0m\u001b[0;34m,\u001b[0m \u001b[0mshuffle\u001b[0m\u001b[0;34m=\u001b[0m\u001b[0;32mTrue\u001b[0m\u001b[0;34m)\u001b[0m\u001b[0;34m:\u001b[0m\u001b[0;34m\u001b[0m\u001b[0;34m\u001b[0m\u001b[0m\n\u001b[1;32m      5\u001b[0m     \"\"\"\n",
            "\u001b[0;32m/content/MHyEEG/MHyEEG/MHyEEG/MHyEEG/MHyEEG/MHyEEG/MHyEEG/MHyEEG/MHyEEG/MHyEEG/MHyEEG/MHyEEG/MHyEEG/MHyEEG/MHyEEG/MHyEEG/MHyEEG/MHyEEG/MHyEEG/MHyEEG/MHyEEG/MHyEEG/MHyEEG/MHyEEG/MHyEEG/MHyEEG/MHyEEG/data/create_dataset.py\u001b[0m in \u001b[0;36m<module>\u001b[0;34m\u001b[0m\n\u001b[1;32m      9\u001b[0m \u001b[0;34m\u001b[0m\u001b[0m\n\u001b[1;32m     10\u001b[0m \u001b[0;32mfrom\u001b[0m \u001b[0mtqdm\u001b[0m \u001b[0;32mimport\u001b[0m \u001b[0mtqdm\u001b[0m\u001b[0;34m\u001b[0m\u001b[0;34m\u001b[0m\u001b[0m\n\u001b[0;32m---> 11\u001b[0;31m \u001b[0;32mfrom\u001b[0m \u001b[0mpreprocessing\u001b[0m \u001b[0;32mimport\u001b[0m \u001b[0mlist_files\u001b[0m\u001b[0;34m\u001b[0m\u001b[0;34m\u001b[0m\u001b[0m\n\u001b[0m\u001b[1;32m     12\u001b[0m \u001b[0;34m\u001b[0m\u001b[0m\n\u001b[1;32m     13\u001b[0m \u001b[0;32mdef\u001b[0m \u001b[0mset_seed\u001b[0m\u001b[0;34m(\u001b[0m\u001b[0mseed\u001b[0m\u001b[0;34m:\u001b[0m \u001b[0mint\u001b[0m \u001b[0;34m=\u001b[0m \u001b[0;36m42\u001b[0m\u001b[0;34m)\u001b[0m \u001b[0;34m->\u001b[0m \u001b[0;32mNone\u001b[0m\u001b[0;34m:\u001b[0m\u001b[0;34m\u001b[0m\u001b[0;34m\u001b[0m\u001b[0m\n",
            "\u001b[0;31mModuleNotFoundError\u001b[0m: No module named 'preprocessing'",
            "",
            "\u001b[0;31m---------------------------------------------------------------------------\u001b[0;32m\nNOTE: If your import is failing due to a missing package, you can\nmanually install dependencies using either !pip or !apt.\n\nTo view examples of installing some common dependencies, click the\n\"Open Examples\" button below.\n\u001b[0;31m---------------------------------------------------------------------------\u001b[0m\n"
          ],
          "errorDetails": {
            "actions": [
              {
                "action": "open_url",
                "actionText": "Open Examples",
                "url": "/notebooks/snippets/importing_libraries.ipynb"
              }
            ]
          }
        }
      ]
    },
    {
      "cell_type": "code",
      "source": [
        "from models.hyperfusenet import HyperFuseNet  # Ensure this is correctly imported\n",
        "from data.dataloader import get_deap_dataloader\n",
        "import torch\n",
        "from torch import nn, optim\n",
        "\n",
        "def train(model, dataloader, optimizer, criterion, device):\n",
        "    model.train()\n",
        "    total_loss = 0\n",
        "    for eeg, labels in dataloader:\n",
        "        eeg, labels = eeg.to(device), labels.to(device)\n",
        "        optimizer.zero_grad()\n",
        "        outputs = model(eeg)\n",
        "        loss = criterion(outputs, labels)\n",
        "        loss.backward()\n",
        "        optimizer.step()\n",
        "        total_loss += loss.item()\n",
        "    return total_loss / len(dataloader)\n",
        "\n",
        "def main():\n",
        "    device = torch.device(\"cuda\" if torch.cuda.is_available() else \"cpu\")\n",
        "    data_file = \"/content/MHyEEG/data/preprocessed_deap_data.npz\"\n",
        "    dataloader = get_deap_dataloader(data_file, batch_size=32, shuffle=True)\n",
        "\n",
        "    model = HyperFuseNet(input_dims={'eeg': 32}, hidden_dim=128, output_dim=2, n=4).to(device)\n",
        "    optimizer = optim.Adam(model.parameters(), lr=0.001)\n",
        "    criterion = nn.MSELoss()\n",
        "\n",
        "    for epoch in range(20):\n",
        "        loss = train(model, dataloader, optimizer, criterion, device)\n",
        "        print(f\"Epoch {epoch + 1}, Loss: {loss:.4f}\")\n",
        "\n",
        "main()\n"
      ],
      "metadata": {
        "id": "qJ3OAy4a7buX",
        "outputId": "c7f68af4-3980-402d-e003-19246cd8fa01",
        "colab": {
          "base_uri": "https://localhost:8080/",
          "height": 449
        }
      },
      "execution_count": 64,
      "outputs": [
        {
          "output_type": "error",
          "ename": "ImportError",
          "evalue": "cannot import name 'get_deap_dataloader' from 'data.dataloader' (/content/MHyEEG/MHyEEG/MHyEEG/MHyEEG/MHyEEG/MHyEEG/MHyEEG/MHyEEG/MHyEEG/MHyEEG/MHyEEG/MHyEEG/MHyEEG/MHyEEG/MHyEEG/MHyEEG/MHyEEG/MHyEEG/MHyEEG/MHyEEG/MHyEEG/MHyEEG/MHyEEG/MHyEEG/MHyEEG/MHyEEG/MHyEEG/data/dataloader.py)",
          "traceback": [
            "\u001b[0;31m---------------------------------------------------------------------------\u001b[0m",
            "\u001b[0;31mImportError\u001b[0m                               Traceback (most recent call last)",
            "\u001b[0;32m<ipython-input-64-113db8e00188>\u001b[0m in \u001b[0;36m<cell line: 2>\u001b[0;34m()\u001b[0m\n\u001b[1;32m      1\u001b[0m \u001b[0;32mfrom\u001b[0m \u001b[0mmodels\u001b[0m\u001b[0;34m.\u001b[0m\u001b[0mhyperfusenet\u001b[0m \u001b[0;32mimport\u001b[0m \u001b[0mHyperFuseNet\u001b[0m  \u001b[0;31m# Ensure this is correctly imported\u001b[0m\u001b[0;34m\u001b[0m\u001b[0;34m\u001b[0m\u001b[0m\n\u001b[0;32m----> 2\u001b[0;31m \u001b[0;32mfrom\u001b[0m \u001b[0mdata\u001b[0m\u001b[0;34m.\u001b[0m\u001b[0mdataloader\u001b[0m \u001b[0;32mimport\u001b[0m \u001b[0mget_deap_dataloader\u001b[0m\u001b[0;34m\u001b[0m\u001b[0;34m\u001b[0m\u001b[0m\n\u001b[0m\u001b[1;32m      3\u001b[0m \u001b[0;32mimport\u001b[0m \u001b[0mtorch\u001b[0m\u001b[0;34m\u001b[0m\u001b[0;34m\u001b[0m\u001b[0m\n\u001b[1;32m      4\u001b[0m \u001b[0;32mfrom\u001b[0m \u001b[0mtorch\u001b[0m \u001b[0;32mimport\u001b[0m \u001b[0mnn\u001b[0m\u001b[0;34m,\u001b[0m \u001b[0moptim\u001b[0m\u001b[0;34m\u001b[0m\u001b[0;34m\u001b[0m\u001b[0m\n\u001b[1;32m      5\u001b[0m \u001b[0;34m\u001b[0m\u001b[0m\n",
            "\u001b[0;31mImportError\u001b[0m: cannot import name 'get_deap_dataloader' from 'data.dataloader' (/content/MHyEEG/MHyEEG/MHyEEG/MHyEEG/MHyEEG/MHyEEG/MHyEEG/MHyEEG/MHyEEG/MHyEEG/MHyEEG/MHyEEG/MHyEEG/MHyEEG/MHyEEG/MHyEEG/MHyEEG/MHyEEG/MHyEEG/MHyEEG/MHyEEG/MHyEEG/MHyEEG/MHyEEG/MHyEEG/MHyEEG/MHyEEG/data/dataloader.py)",
            "",
            "\u001b[0;31m---------------------------------------------------------------------------\u001b[0;32m\nNOTE: If your import is failing due to a missing package, you can\nmanually install dependencies using either !pip or !apt.\n\nTo view examples of installing some common dependencies, click the\n\"Open Examples\" button below.\n\u001b[0;31m---------------------------------------------------------------------------\u001b[0m\n"
          ],
          "errorDetails": {
            "actions": [
              {
                "action": "open_url",
                "actionText": "Open Examples",
                "url": "/notebooks/snippets/importing_libraries.ipynb"
              }
            ]
          }
        }
      ]
    }
  ],
  "metadata": {
    "language_info": {
      "name": "python"
    },
    "colab": {
      "provenance": []
    },
    "kernelspec": {
      "name": "python3",
      "display_name": "Python 3"
    }
  },
  "nbformat": 4,
  "nbformat_minor": 0
}