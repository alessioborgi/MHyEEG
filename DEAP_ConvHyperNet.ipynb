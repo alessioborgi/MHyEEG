{
  "cells": [
    {
      "cell_type": "markdown",
      "source": [
        "# MHyEEG: DEAP DATASET"
      ],
      "metadata": {
        "id": "7FdD24yd6zBt"
      }
    },
    {
      "cell_type": "markdown",
      "source": [
        "### 0: IMPORTING DEAP DATASET AND UNZIPPING"
      ],
      "metadata": {
        "id": "YwMlxgFW2kYn"
      }
    },
    {
      "cell_type": "code",
      "source": [
        "!pip install mne"
      ],
      "metadata": {
        "colab": {
          "base_uri": "https://localhost:8080/"
        },
        "id": "pIaPhhLgbO0Q",
        "outputId": "bcb175a1-4f6b-4d07-860f-54c44903ed85"
      },
      "execution_count": 1,
      "outputs": [
        {
          "output_type": "stream",
          "name": "stdout",
          "text": [
            "Collecting mne\n",
            "  Downloading mne-1.9.0-py3-none-any.whl.metadata (20 kB)\n",
            "Requirement already satisfied: decorator in /usr/local/lib/python3.10/dist-packages (from mne) (4.4.2)\n",
            "Requirement already satisfied: jinja2 in /usr/local/lib/python3.10/dist-packages (from mne) (3.1.4)\n",
            "Requirement already satisfied: lazy-loader>=0.3 in /usr/local/lib/python3.10/dist-packages (from mne) (0.4)\n",
            "Requirement already satisfied: matplotlib>=3.6 in /usr/local/lib/python3.10/dist-packages (from mne) (3.8.0)\n",
            "Requirement already satisfied: numpy<3,>=1.23 in /usr/local/lib/python3.10/dist-packages (from mne) (1.26.4)\n",
            "Requirement already satisfied: packaging in /usr/local/lib/python3.10/dist-packages (from mne) (24.2)\n",
            "Requirement already satisfied: pooch>=1.5 in /usr/local/lib/python3.10/dist-packages (from mne) (1.8.2)\n",
            "Requirement already satisfied: scipy>=1.9 in /usr/local/lib/python3.10/dist-packages (from mne) (1.13.1)\n",
            "Requirement already satisfied: tqdm in /usr/local/lib/python3.10/dist-packages (from mne) (4.67.1)\n",
            "Requirement already satisfied: contourpy>=1.0.1 in /usr/local/lib/python3.10/dist-packages (from matplotlib>=3.6->mne) (1.3.1)\n",
            "Requirement already satisfied: cycler>=0.10 in /usr/local/lib/python3.10/dist-packages (from matplotlib>=3.6->mne) (0.12.1)\n",
            "Requirement already satisfied: fonttools>=4.22.0 in /usr/local/lib/python3.10/dist-packages (from matplotlib>=3.6->mne) (4.55.3)\n",
            "Requirement already satisfied: kiwisolver>=1.0.1 in /usr/local/lib/python3.10/dist-packages (from matplotlib>=3.6->mne) (1.4.7)\n",
            "Requirement already satisfied: pillow>=6.2.0 in /usr/local/lib/python3.10/dist-packages (from matplotlib>=3.6->mne) (11.0.0)\n",
            "Requirement already satisfied: pyparsing>=2.3.1 in /usr/local/lib/python3.10/dist-packages (from matplotlib>=3.6->mne) (3.2.0)\n",
            "Requirement already satisfied: python-dateutil>=2.7 in /usr/local/lib/python3.10/dist-packages (from matplotlib>=3.6->mne) (2.8.2)\n",
            "Requirement already satisfied: platformdirs>=2.5.0 in /usr/local/lib/python3.10/dist-packages (from pooch>=1.5->mne) (4.3.6)\n",
            "Requirement already satisfied: requests>=2.19.0 in /usr/local/lib/python3.10/dist-packages (from pooch>=1.5->mne) (2.32.3)\n",
            "Requirement already satisfied: MarkupSafe>=2.0 in /usr/local/lib/python3.10/dist-packages (from jinja2->mne) (3.0.2)\n",
            "Requirement already satisfied: six>=1.5 in /usr/local/lib/python3.10/dist-packages (from python-dateutil>=2.7->matplotlib>=3.6->mne) (1.17.0)\n",
            "Requirement already satisfied: charset-normalizer<4,>=2 in /usr/local/lib/python3.10/dist-packages (from requests>=2.19.0->pooch>=1.5->mne) (3.4.0)\n",
            "Requirement already satisfied: idna<4,>=2.5 in /usr/local/lib/python3.10/dist-packages (from requests>=2.19.0->pooch>=1.5->mne) (3.10)\n",
            "Requirement already satisfied: urllib3<3,>=1.21.1 in /usr/local/lib/python3.10/dist-packages (from requests>=2.19.0->pooch>=1.5->mne) (2.2.3)\n",
            "Requirement already satisfied: certifi>=2017.4.17 in /usr/local/lib/python3.10/dist-packages (from requests>=2.19.0->pooch>=1.5->mne) (2024.12.14)\n",
            "Downloading mne-1.9.0-py3-none-any.whl (7.4 MB)\n",
            "\u001b[2K   \u001b[90m━━━━━━━━━━━━━━━━━━━━━━━━━━━━━━━━━━━━━━━━\u001b[0m \u001b[32m7.4/7.4 MB\u001b[0m \u001b[31m43.6 MB/s\u001b[0m eta \u001b[36m0:00:00\u001b[0m\n",
            "\u001b[?25hInstalling collected packages: mne\n",
            "Successfully installed mne-1.9.0\n"
          ]
        }
      ]
    },
    {
      "cell_type": "code",
      "source": [
        "from google.colab import drive\n",
        "\n",
        "# Mount the Google Drive\n",
        "drive.mount('/content/drive')\n",
        "\n",
        "# Verify the drive is mounted\n",
        "!ls /content/drive/My\\ Drive\n"
      ],
      "metadata": {
        "id": "dnrRofGAojkx",
        "outputId": "da6102af-4a9d-4060-c97a-da7da0aa051e",
        "colab": {
          "base_uri": "https://localhost:8080/"
        }
      },
      "execution_count": 2,
      "outputs": [
        {
          "output_type": "stream",
          "name": "stdout",
          "text": [
            "Mounted at /content/drive\n",
            "'ACSAI_Marks&Recommendations.pdf'  'MasterThesis_Proposal_(A.Borgi).gslides'\n",
            " Alessio_Borgi_CV.pdf\t\t    nano-imagenet-30-Original\n",
            " Alessio_Borgi_CV_Short.pdf\t    NN\n",
            "'Colab Notebooks'\t\t    open_window.py\n",
            " data\t\t\t\t    Open_Window.traj\n",
            " DEAP.zip\t\t\t    problem.txt\n",
            " HW2\t\t\t\t    sapienza-ppt-template_dark.gslides\n",
            " identita.pdf\t\t\t    StyleAligned\n",
            " Iscrizione.pdf\t\t\t    StyleAligned_M2L.gslides\n",
            " KAN-GAT_EAI.gslides\t\t   'Tony Starks Concentration Mix.mp3'\n",
            " Linz\t\t\t\t    XGNNs_RL.gslides\n"
          ]
        }
      ]
    },
    {
      "cell_type": "code",
      "source": [
        "import zipfile\n",
        "import os\n",
        "\n",
        "def unzip_file(zip_path, extract_to):\n",
        "    \"\"\"\n",
        "    Unzips a file to a specified directory.\n",
        "\n",
        "    Args:\n",
        "    - zip_path (str): The path to the zip file.\n",
        "    - extract_to (str): The directory where files should be extracted.\n",
        "    \"\"\"\n",
        "    # Ensure the extraction directory exists\n",
        "    os.makedirs(extract_to, exist_ok=True)\n",
        "\n",
        "    # Open and extract the zip file\n",
        "    with zipfile.ZipFile(zip_path, 'r') as zip_ref:\n",
        "        zip_ref.extractall(extract_to)\n",
        "        print(f\"Extracted all files to: {extract_to}\")\n",
        "\n",
        "# Example usage\n",
        "zip_path = \"/content/drive/MyDrive/DEAP.zip\"  # Replace with your zip file path\n",
        "extract_to = \"/content/MHyEEG/data/\"  # Replace with your target extraction folder\n",
        "unzip_file(zip_path, extract_to)\n"
      ],
      "metadata": {
        "id": "Erc6UmIXl1WJ",
        "outputId": "18a9d197-7094-49df-dd3c-ce0b4dd89945",
        "colab": {
          "base_uri": "https://localhost:8080/"
        }
      },
      "execution_count": 3,
      "outputs": [
        {
          "output_type": "stream",
          "name": "stdout",
          "text": [
            "Extracted all files to: /content/MHyEEG/data/\n"
          ]
        }
      ]
    },
    {
      "cell_type": "code",
      "source": [
        "import os\n",
        "import zipfile\n",
        "\n",
        "def unzip_all_in_directory(directory):\n",
        "    \"\"\"\n",
        "    Unzips all zip files in the given directory and its subdirectories.\n",
        "\n",
        "    Args:\n",
        "    - directory (str): The directory to search for zip files.\n",
        "    \"\"\"\n",
        "    for root, _, files in os.walk(directory):\n",
        "        for file in files:\n",
        "            if file.endswith('.zip'):\n",
        "                zip_path = os.path.join(root, file)\n",
        "                extract_to = os.path.join(root, file.replace('.zip', ''))\n",
        "                os.makedirs(extract_to, exist_ok=True)\n",
        "                print(f\"Unzipping: {zip_path} to {extract_to}\")\n",
        "                with zipfile.ZipFile(zip_path, 'r') as zip_ref:\n",
        "                    zip_ref.extractall(extract_to)\n",
        "                print(f\"Extracted: {zip_path} to {extract_to}\")\n",
        "\n",
        "# Directory containing the DEAP dataset\n",
        "deap_data_dir = \"/content/MHyEEG/data/DEAP\"\n",
        "unzip_all_in_directory(deap_data_dir)\n"
      ],
      "metadata": {
        "id": "OmTjBqGK3i-9",
        "outputId": "0407267e-d67b-4b86-bf96-eee324c4d19c",
        "colab": {
          "base_uri": "https://localhost:8080/"
        }
      },
      "execution_count": 4,
      "outputs": [
        {
          "output_type": "stream",
          "name": "stdout",
          "text": [
            "Unzipping: /content/MHyEEG/data/DEAP/metadata_csv.zip to /content/MHyEEG/data/DEAP/metadata_csv\n",
            "Extracted: /content/MHyEEG/data/DEAP/metadata_csv.zip to /content/MHyEEG/data/DEAP/metadata_csv\n",
            "Unzipping: /content/MHyEEG/data/DEAP/face_video.zip to /content/MHyEEG/data/DEAP/face_video\n",
            "Extracted: /content/MHyEEG/data/DEAP/face_video.zip to /content/MHyEEG/data/DEAP/face_video\n",
            "Unzipping: /content/MHyEEG/data/DEAP/data_original.zip to /content/MHyEEG/data/DEAP/data_original\n",
            "Extracted: /content/MHyEEG/data/DEAP/data_original.zip to /content/MHyEEG/data/DEAP/data_original\n",
            "Unzipping: /content/MHyEEG/data/DEAP/data_preprocessed_python.zip to /content/MHyEEG/data/DEAP/data_preprocessed_python\n",
            "Extracted: /content/MHyEEG/data/DEAP/data_preprocessed_python.zip to /content/MHyEEG/data/DEAP/data_preprocessed_python\n"
          ]
        }
      ]
    },
    {
      "cell_type": "markdown",
      "source": [
        "### 1: DEAP PRE-PROCESSING\n",
        "\n",
        "Before using the Dataset, we would like to follow some **pre-processing** steps for all the modalities present in it."
      ],
      "metadata": {
        "id": "LxJdFZI2AVpe"
      }
    },
    {
      "cell_type": "markdown",
      "source": [
        "#### 1.1: DEAP (EEG) PRE-PROCESSING\n",
        "\n",
        "Before we can use the dataset, we need to apply some **preprocessing steps** to the **DEAP (EEG)** dataset. In summary, we will have:\n",
        "1. **Channel Selection**\n",
        "2. **Band-Pass Filtering**\n",
        "3. **Notch Filtering**\n",
        "4. **Downsampling**\n",
        "5. **Referencing**\n",
        "6. **Baseline Correction**\n",
        "7. **Artifact Removal (ICA)**\n",
        "\n",
        "##### 1. **Channel Selection**\n",
        "   - From the 32 EEG electrodes, select the **10 channels most related to emotion recognition**:\n",
        "     - `F3`, `F4`, `F5`, `F6`, `F7`, `F8`, `T7`, `T8`, `P7`, `P8`.\n",
        "   - This reduces the dimensionality and focuses on the most relevant channels for emotion analysis.\n",
        "\n",
        "\n",
        "##### 2. **Band-Pass Filtering**\n",
        "   - Apply a **Band-Pass Filter** to retain only frequencies in the range of 1–45 Hz:\n",
        "     \\begin{equation}\n",
        "     x_{filtered}(t) = {F}^{-1}\\left({F}(x(t)) \\cdot H(f)\\right)\n",
        "     \\end{equation}\n",
        "     where:\n",
        "     - $F$ is the Fourier Transform,\n",
        "     - H(f) is a filter function with:\n",
        "       \\begin{equation}\n",
        "       H(f) =\n",
        "       \\begin{cases}\n",
        "       1, & 1 \\leq f \\leq 45 \\text{ Hz} \\\\\n",
        "       0, & \\text{otherwise}\n",
        "       \\end{cases}\n",
        "       \\end{equation}\n",
        "\n",
        "\n",
        "##### 3. **Notch Filtering**\n",
        "   - Apply a **Notch Filter** at 50 Hz to remove power line noise:\n",
        "     \\begin{equation}\n",
        "     x_{notch}(t) = {F}^{-1}\\left({F}(x_{filtered}(t)) \\cdot (1 - H_{notch}(f))\\right)\n",
        "     \\end{equation}\n",
        "     where where H_{notch}(f) is a narrow bandpass filter centered at 50 Hz.\n",
        "\n",
        "\n",
        "\n",
        "##### 4. **Downsampling**\n",
        "   - Downsample the data to 128 Hz to reduce computational complexity:\n",
        "     \\begin{equation}\n",
        "     x_{downsampled}(t) = x_{notch}(t) \\quad \\text{(sampled at 128 Hz)}.\n",
        "     \\end{equation}\n",
        "\n",
        "\n",
        "##### 5. **Referencing**\n",
        "   - Reference the EEG data to the average of all selected channels:\n",
        "     \\begin{equation}\n",
        "     x_{referenced}(t, c) = x_{downsampled}(t, c) - \\frac{1}{C} \\sum_{i=1}^{C} x_{downsampled}(t, i)\n",
        "     \\end{equation}\n",
        "     where C is the total number of selected channels.\n",
        "\n",
        "\n",
        "\n",
        "##### 6. **Baseline Correction**\n",
        "   - Correct each trial relative to the mean value of the preceding 200 ms (baseline period):\n",
        "     \\begin{equation}\n",
        "     x_{corrected}(t) = x_{referenced}(t) - \\frac{1}{200 \\, \\text{ms}} \\int_{t-200}^{t} x_{referenced}(s) \\, ds\n",
        "     \\end{equation}\n",
        "     This removes slow signal drifts and aligns data to the baseline.\n",
        "\n",
        "\n",
        "##### 7. **Artifact Removal (ICA)**\n",
        "\n",
        "**What is ICA?**\n",
        "   - **Independent Component Analysis (ICA)** is a statistical technique used to separate multivariate signals into independent non-Gaussian components.\n",
        "   - In EEG, ICA is widely used to isolate and remove artifacts like:\n",
        "     - **Eye blinks**: Strong, low-frequency signals recorded from frontal electrodes.\n",
        "     - **Muscle movements**: High-frequency noise due to muscle tension or movement.\n",
        "     - **Electrocardiographic (ECG) signals**: Periodic artifacts caused by heartbeats.\n",
        "\n",
        "**Steps in ICA:**\n",
        "   1. **Decomposition**:\n",
        "      - EEG data X is decomposed into a mixing matrix A and independent source signals S:\n",
        "        \\begin{equation}\n",
        "        X = A \\cdot S\n",
        "        \\end{equation}\n",
        "        where:\n",
        "        - X: Original EEG signal (observed signals),\n",
        "        - A: Mixing matrix (weights),\n",
        "        - S: Independent source signals (latent components).\n",
        "   2. **Identification of Artifacts**:\n",
        "      - Each component in S is inspected (either visually or automatically) for characteristics of artifacts:\n",
        "        - Eye blinks show large peaks in frontal electrodes.\n",
        "        - Muscle movements are high-frequency signals across multiple channels.\n",
        "   3. **Reconstruction of Clean EEG**:\n",
        "      - The artifact components are set to zero, and the clean EEG signal is reconstructed:\n",
        "        \\begin{equation}\n",
        "        X_{clean} = A \\cdot S_{clean}\n",
        "        \\end{equation}\n",
        "        where S_{clean} is the source signal with artifact components removed.\n",
        "\n",
        "**Why Use ICA?**\n",
        "   - Artifacts overlap with brain signals in time and frequency domains, making simple filtering ineffective.\n",
        "   - ICA allows selective removal of artifact sources while preserving neural activity.\n",
        "   - This enhances data quality and improves the performance of downstream machine learning models.\n",
        "\n",
        "\n",
        "##### Final Output:\n",
        "   - Save the preprocessed EEG data for each subject in `.fif` format.\n"
      ],
      "metadata": {
        "id": "s8qExWYD645k"
      }
    },
    {
      "cell_type": "code",
      "source": [
        "import os\n",
        "import mne\n",
        "from mne.preprocessing import ICA\n",
        "\n",
        "def load_raw_data(data_dir, subject_id):\n",
        "    \"\"\"\n",
        "    Load raw DEAP EEG data from the unzipped directory structure.\n",
        "    Args:\n",
        "        data_dir (str): Path to the `data_original` directory.\n",
        "        subject_id (int): Subject ID (1-32).\n",
        "    Returns:\n",
        "        raw (mne.io.Raw): Raw EEG data.\n",
        "    \"\"\"\n",
        "    file_path = os.path.join(data_dir, f\"s{str(subject_id).zfill(2)}.bdf\")\n",
        "    if not os.path.exists(file_path):\n",
        "        raise FileNotFoundError(f\"File not found: {file_path}\")\n",
        "    print(f\"Loading data for Subject {subject_id} from {file_path}\")\n",
        "    raw = mne.io.read_raw_bdf(file_path, preload=True)\n",
        "    return raw\n",
        "\n",
        "def preprocess_raw_data(raw):\n",
        "    \"\"\"\n",
        "    Preprocess raw EEG data: select channels, set montage, filter, resample, reference, and apply baseline correction.\n",
        "    Args:\n",
        "        raw (mne.io.Raw): Raw EEG data.\n",
        "    Returns:\n",
        "        preprocessed_raw (mne.io.Raw): Preprocessed EEG data.\n",
        "    \"\"\"\n",
        "    # Select the 10 most relevant EEG channels\n",
        "    relevant_channels = ['F3', 'F4', 'F5', 'F6', 'F7', 'F8', 'T7', 'T8', 'P7', 'P8']\n",
        "    raw.pick_channels(relevant_channels)\n",
        "\n",
        "    # Band-pass filter (1-45 Hz)\n",
        "    raw.filter(l_freq=1.0, h_freq=45.0)\n",
        "\n",
        "    # Notch filter at 50 Hz to remove line noise\n",
        "    raw.notch_filter(freqs=50.0)\n",
        "\n",
        "    # Downsample to 128 Hz\n",
        "    raw.resample(128)\n",
        "\n",
        "    # Reference to the average\n",
        "    raw.set_eeg_reference(\"average\", projection=True)\n",
        "\n",
        "    # Baseline correction (adjust relative to mean value of preceding 200 ms)\n",
        "    raw.apply_function(lambda x: x - x.mean(axis=-1, keepdims=True), picks=\"eeg\")\n",
        "\n",
        "    return raw\n",
        "\n",
        "def save_preprocessed_data(raw, output_dir, subject_id):\n",
        "    \"\"\"\n",
        "    Save preprocessed EEG data to FIF file format.\n",
        "    Args:\n",
        "        raw (mne.io.Raw): Preprocessed EEG data.\n",
        "        output_dir (str): Directory to save the preprocessed data.\n",
        "        subject_id (int): Subject ID (1-32).\n",
        "    \"\"\"\n",
        "    os.makedirs(output_dir, exist_ok=True)\n",
        "    file_path = os.path.join(output_dir, f\"preprocessed_s{str(subject_id).zfill(2)}.raw.fif\")\n",
        "    raw.save(file_path, overwrite=True)\n",
        "    print(f\"Saved preprocessed data for Subject {subject_id} to {file_path}\")\n",
        "\n",
        "if __name__ == \"__main__\":\n",
        "    # Define paths\n",
        "    data_dir = \"/content/MHyEEG/data/DEAP/data_original\"\n",
        "    output_dir = \"/content/MHyEEG/data/DEAP/data_preprocessed/EEG\"\n",
        "\n",
        "    # Process each subject\n",
        "    for subject_id in range(1, 33):\n",
        "        print(f\"Processing Subject {subject_id}...\")\n",
        "        try:\n",
        "            raw = load_raw_data(data_dir, subject_id)\n",
        "            preprocessed_raw = preprocess_raw_data(raw)\n",
        "            save_preprocessed_data(preprocessed_raw, output_dir, subject_id)\n",
        "        except Exception as e:\n",
        "            print(f\"An error occurred for Subject {subject_id}: {e}\")\n"
      ],
      "metadata": {
        "colab": {
          "base_uri": "https://localhost:8080/"
        },
        "id": "gojhaIMSbKoY",
        "outputId": "094ce44a-03b2-4641-af3b-b3044b4d5b25"
      },
      "execution_count": 6,
      "outputs": [
        {
          "output_type": "stream",
          "name": "stdout",
          "text": [
            "Processing Subject 1...\n",
            "Loading data for Subject 1 from /content/MHyEEG/data/DEAP/data_original/s01.bdf\n",
            "Extracting EDF parameters from /content/MHyEEG/data/DEAP/data_original/s01.bdf...\n",
            "BDF file detected\n",
            "Setting channel info structure...\n",
            "Creating raw.info structure...\n",
            "Reading 0 ... 1980927  =      0.000 ...  3868.998 secs...\n",
            "NOTE: pick_channels() is a legacy function. New code should use inst.pick(...).\n",
            "An error occurred for Subject 1: Missing channels from ch_names required by include:\n",
            "['F5', 'F6']\n",
            "Processing Subject 2...\n",
            "Loading data for Subject 2 from /content/MHyEEG/data/DEAP/data_original/s02.bdf\n",
            "Extracting EDF parameters from /content/MHyEEG/data/DEAP/data_original/s02.bdf...\n",
            "BDF file detected\n",
            "Setting channel info structure...\n",
            "Creating raw.info structure...\n",
            "Reading 0 ... 1895935  =      0.000 ...  3702.998 secs...\n",
            "NOTE: pick_channels() is a legacy function. New code should use inst.pick(...).\n",
            "An error occurred for Subject 2: Missing channels from ch_names required by include:\n",
            "['F5', 'F6']\n",
            "Processing Subject 3...\n",
            "Loading data for Subject 3 from /content/MHyEEG/data/DEAP/data_original/s03.bdf\n",
            "Extracting EDF parameters from /content/MHyEEG/data/DEAP/data_original/s03.bdf...\n",
            "BDF file detected\n",
            "Setting channel info structure...\n",
            "Creating raw.info structure...\n",
            "Reading 0 ... 1989119  =      0.000 ...  3884.998 secs...\n",
            "NOTE: pick_channels() is a legacy function. New code should use inst.pick(...).\n",
            "An error occurred for Subject 3: Missing channels from ch_names required by include:\n",
            "['F5', 'F6']\n",
            "Processing Subject 4...\n",
            "Loading data for Subject 4 from /content/MHyEEG/data/DEAP/data_original/s04.bdf\n",
            "Extracting EDF parameters from /content/MHyEEG/data/DEAP/data_original/s04.bdf...\n",
            "BDF file detected\n",
            "Setting channel info structure...\n",
            "Creating raw.info structure...\n",
            "Reading 0 ... 1690111  =      0.000 ...  3300.998 secs...\n",
            "NOTE: pick_channels() is a legacy function. New code should use inst.pick(...).\n",
            "An error occurred for Subject 4: Missing channels from ch_names required by include:\n",
            "['F5', 'F6']\n",
            "Processing Subject 5...\n",
            "Loading data for Subject 5 from /content/MHyEEG/data/DEAP/data_original/s05.bdf\n",
            "Extracting EDF parameters from /content/MHyEEG/data/DEAP/data_original/s05.bdf...\n",
            "BDF file detected\n",
            "Setting channel info structure...\n",
            "Creating raw.info structure...\n",
            "Reading 0 ... 2004991  =      0.000 ...  3915.998 secs...\n",
            "NOTE: pick_channels() is a legacy function. New code should use inst.pick(...).\n",
            "An error occurred for Subject 5: Missing channels from ch_names required by include:\n",
            "['F5', 'F6']\n",
            "Processing Subject 6...\n",
            "Loading data for Subject 6 from /content/MHyEEG/data/DEAP/data_original/s06.bdf\n",
            "Extracting EDF parameters from /content/MHyEEG/data/DEAP/data_original/s06.bdf...\n",
            "BDF file detected\n",
            "Setting channel info structure...\n",
            "Creating raw.info structure...\n",
            "Reading 0 ... 1836031  =      0.000 ...  3585.998 secs...\n",
            "NOTE: pick_channels() is a legacy function. New code should use inst.pick(...).\n",
            "An error occurred for Subject 6: Missing channels from ch_names required by include:\n",
            "['F5', 'F6']\n",
            "Processing Subject 7...\n",
            "Loading data for Subject 7 from /content/MHyEEG/data/DEAP/data_original/s07.bdf\n",
            "Extracting EDF parameters from /content/MHyEEG/data/DEAP/data_original/s07.bdf...\n",
            "BDF file detected\n",
            "Setting channel info structure...\n",
            "Creating raw.info structure...\n",
            "Reading 0 ... 1828351  =      0.000 ...  3570.998 secs...\n",
            "NOTE: pick_channels() is a legacy function. New code should use inst.pick(...).\n",
            "An error occurred for Subject 7: Missing channels from ch_names required by include:\n",
            "['F5', 'F6']\n",
            "Processing Subject 8...\n",
            "Loading data for Subject 8 from /content/MHyEEG/data/DEAP/data_original/s08.bdf\n",
            "Extracting EDF parameters from /content/MHyEEG/data/DEAP/data_original/s08.bdf...\n",
            "BDF file detected\n",
            "Setting channel info structure...\n",
            "Creating raw.info structure...\n",
            "Reading 0 ... 1800703  =      0.000 ...  3516.998 secs...\n",
            "NOTE: pick_channels() is a legacy function. New code should use inst.pick(...).\n",
            "An error occurred for Subject 8: Missing channels from ch_names required by include:\n",
            "['F5', 'F6']\n",
            "Processing Subject 9...\n",
            "Loading data for Subject 9 from /content/MHyEEG/data/DEAP/data_original/s09.bdf\n",
            "Extracting EDF parameters from /content/MHyEEG/data/DEAP/data_original/s09.bdf...\n",
            "BDF file detected\n",
            "Setting channel info structure...\n",
            "Creating raw.info structure...\n",
            "Reading 0 ... 1928703  =      0.000 ...  3766.998 secs...\n",
            "NOTE: pick_channels() is a legacy function. New code should use inst.pick(...).\n",
            "An error occurred for Subject 9: Missing channels from ch_names required by include:\n",
            "['F5', 'F6']\n",
            "Processing Subject 10...\n",
            "Loading data for Subject 10 from /content/MHyEEG/data/DEAP/data_original/s10.bdf\n",
            "Extracting EDF parameters from /content/MHyEEG/data/DEAP/data_original/s10.bdf...\n",
            "BDF file detected\n",
            "Setting channel info structure...\n",
            "Creating raw.info structure...\n",
            "Reading 0 ... 1798143  =      0.000 ...  3511.998 secs...\n",
            "NOTE: pick_channels() is a legacy function. New code should use inst.pick(...).\n",
            "An error occurred for Subject 10: Missing channels from ch_names required by include:\n",
            "['F5', 'F6']\n",
            "Processing Subject 11...\n",
            "Loading data for Subject 11 from /content/MHyEEG/data/DEAP/data_original/s11.bdf\n",
            "Extracting EDF parameters from /content/MHyEEG/data/DEAP/data_original/s11.bdf...\n",
            "BDF file detected\n",
            "Setting channel info structure...\n",
            "Creating raw.info structure...\n",
            "Reading 0 ... 2130431  =      0.000 ...  4160.998 secs...\n",
            "NOTE: pick_channels() is a legacy function. New code should use inst.pick(...).\n",
            "An error occurred for Subject 11: Missing channels from ch_names required by include:\n",
            "['F5', 'F6']\n",
            "Processing Subject 12...\n",
            "Loading data for Subject 12 from /content/MHyEEG/data/DEAP/data_original/s12.bdf\n",
            "Extracting EDF parameters from /content/MHyEEG/data/DEAP/data_original/s12.bdf...\n",
            "BDF file detected\n",
            "Setting channel info structure...\n",
            "Creating raw.info structure...\n",
            "Reading 0 ... 1790975  =      0.000 ...  3497.998 secs...\n",
            "NOTE: pick_channels() is a legacy function. New code should use inst.pick(...).\n",
            "An error occurred for Subject 12: Missing channels from ch_names required by include:\n",
            "['F5', 'F6']\n",
            "Processing Subject 13...\n",
            "Loading data for Subject 13 from /content/MHyEEG/data/DEAP/data_original/s13.bdf\n",
            "Extracting EDF parameters from /content/MHyEEG/data/DEAP/data_original/s13.bdf...\n",
            "BDF file detected\n",
            "Setting channel info structure...\n",
            "Creating raw.info structure...\n",
            "Reading 0 ... 1900031  =      0.000 ...  3710.998 secs...\n",
            "NOTE: pick_channels() is a legacy function. New code should use inst.pick(...).\n",
            "An error occurred for Subject 13: Missing channels from ch_names required by include:\n",
            "['F5', 'F6']\n",
            "Processing Subject 14...\n",
            "Loading data for Subject 14 from /content/MHyEEG/data/DEAP/data_original/s14.bdf\n",
            "Extracting EDF parameters from /content/MHyEEG/data/DEAP/data_original/s14.bdf...\n",
            "BDF file detected\n",
            "Setting channel info structure...\n",
            "Creating raw.info structure...\n",
            "Reading 0 ... 2015743  =      0.000 ...  3936.998 secs...\n",
            "NOTE: pick_channels() is a legacy function. New code should use inst.pick(...).\n",
            "An error occurred for Subject 14: Missing channels from ch_names required by include:\n",
            "['F5', 'F6']\n",
            "Processing Subject 15...\n",
            "Loading data for Subject 15 from /content/MHyEEG/data/DEAP/data_original/s15.bdf\n",
            "Extracting EDF parameters from /content/MHyEEG/data/DEAP/data_original/s15.bdf...\n",
            "BDF file detected\n",
            "Setting channel info structure...\n",
            "Creating raw.info structure...\n",
            "Reading 0 ... 2084863  =      0.000 ...  4071.998 secs...\n",
            "NOTE: pick_channels() is a legacy function. New code should use inst.pick(...).\n",
            "An error occurred for Subject 15: Missing channels from ch_names required by include:\n",
            "['F5', 'F6']\n",
            "Processing Subject 16...\n",
            "Loading data for Subject 16 from /content/MHyEEG/data/DEAP/data_original/s16.bdf\n",
            "Extracting EDF parameters from /content/MHyEEG/data/DEAP/data_original/s16.bdf...\n",
            "BDF file detected\n",
            "Setting channel info structure...\n",
            "Creating raw.info structure...\n",
            "Reading 0 ... 1885695  =      0.000 ...  3682.998 secs...\n",
            "NOTE: pick_channels() is a legacy function. New code should use inst.pick(...).\n",
            "An error occurred for Subject 16: Missing channels from ch_names required by include:\n",
            "['F5', 'F6']\n",
            "Processing Subject 17...\n",
            "Loading data for Subject 17 from /content/MHyEEG/data/DEAP/data_original/s17.bdf\n",
            "Extracting EDF parameters from /content/MHyEEG/data/DEAP/data_original/s17.bdf...\n",
            "BDF file detected\n",
            "Setting channel info structure...\n",
            "Creating raw.info structure...\n",
            "Reading 0 ... 1764351  =      0.000 ...  3445.998 secs...\n",
            "NOTE: pick_channels() is a legacy function. New code should use inst.pick(...).\n",
            "An error occurred for Subject 17: Missing channels from ch_names required by include:\n",
            "['F5', 'F6']\n",
            "Processing Subject 18...\n",
            "Loading data for Subject 18 from /content/MHyEEG/data/DEAP/data_original/s18.bdf\n",
            "Extracting EDF parameters from /content/MHyEEG/data/DEAP/data_original/s18.bdf...\n",
            "BDF file detected\n",
            "Setting channel info structure...\n",
            "Creating raw.info structure...\n",
            "Reading 0 ... 1857535  =      0.000 ...  3627.998 secs...\n",
            "NOTE: pick_channels() is a legacy function. New code should use inst.pick(...).\n",
            "An error occurred for Subject 18: Missing channels from ch_names required by include:\n",
            "['F5', 'F6']\n",
            "Processing Subject 19...\n",
            "Loading data for Subject 19 from /content/MHyEEG/data/DEAP/data_original/s19.bdf\n",
            "Extracting EDF parameters from /content/MHyEEG/data/DEAP/data_original/s19.bdf...\n",
            "BDF file detected\n",
            "Setting channel info structure...\n",
            "Creating raw.info structure...\n",
            "Reading 0 ... 1917951  =      0.000 ...  3745.998 secs...\n",
            "NOTE: pick_channels() is a legacy function. New code should use inst.pick(...).\n",
            "An error occurred for Subject 19: Missing channels from ch_names required by include:\n",
            "['F5', 'F6']\n",
            "Processing Subject 20...\n",
            "Loading data for Subject 20 from /content/MHyEEG/data/DEAP/data_original/s20.bdf\n",
            "Extracting EDF parameters from /content/MHyEEG/data/DEAP/data_original/s20.bdf...\n",
            "BDF file detected\n",
            "Setting channel info structure...\n",
            "Creating raw.info structure...\n",
            "Reading 0 ... 1796607  =      0.000 ...  3508.998 secs...\n",
            "NOTE: pick_channels() is a legacy function. New code should use inst.pick(...).\n",
            "An error occurred for Subject 20: Missing channels from ch_names required by include:\n",
            "['F5', 'F6']\n",
            "Processing Subject 21...\n",
            "Loading data for Subject 21 from /content/MHyEEG/data/DEAP/data_original/s21.bdf\n",
            "Extracting EDF parameters from /content/MHyEEG/data/DEAP/data_original/s21.bdf...\n",
            "BDF file detected\n",
            "Setting channel info structure...\n",
            "Creating raw.info structure...\n",
            "Reading 0 ... 1818111  =      0.000 ...  3550.998 secs...\n",
            "NOTE: pick_channels() is a legacy function. New code should use inst.pick(...).\n",
            "An error occurred for Subject 21: Missing channels from ch_names required by include:\n",
            "['F5', 'F6']\n",
            "Processing Subject 22...\n",
            "Loading data for Subject 22 from /content/MHyEEG/data/DEAP/data_original/s22.bdf\n",
            "Extracting EDF parameters from /content/MHyEEG/data/DEAP/data_original/s22.bdf...\n",
            "BDF file detected\n",
            "Setting channel info structure...\n",
            "Creating raw.info structure...\n",
            "Reading 0 ... 1904127  =      0.000 ...  3718.998 secs...\n",
            "NOTE: pick_channels() is a legacy function. New code should use inst.pick(...).\n",
            "An error occurred for Subject 22: Missing channels from ch_names required by include:\n",
            "['F5', 'F6']\n",
            "Processing Subject 23...\n",
            "Loading data for Subject 23 from /content/MHyEEG/data/DEAP/data_original/s23.bdf\n",
            "Extracting EDF parameters from /content/MHyEEG/data/DEAP/data_original/s23.bdf...\n",
            "BDF file detected\n",
            "Setting channel info structure...\n",
            "Creating raw.info structure...\n",
            "Reading 0 ... 1843711  =      0.000 ...  3600.998 secs...\n",
            "NOTE: pick_channels() is a legacy function. New code should use inst.pick(...).\n",
            "An error occurred for Subject 23: Missing channels from ch_names required by include:\n",
            "['F5', 'F6']\n",
            "Processing Subject 24...\n",
            "Loading data for Subject 24 from /content/MHyEEG/data/DEAP/data_original/s24.bdf\n",
            "Extracting EDF parameters from /content/MHyEEG/data/DEAP/data_original/s24.bdf...\n",
            "BDF file detected\n",
            "Setting channel info structure...\n",
            "Creating raw.info structure...\n",
            "Reading 0 ... 2412543  =      0.000 ...  4711.998 secs...\n"
          ]
        },
        {
          "output_type": "stream",
          "name": "stderr",
          "text": [
            "<ipython-input-6-c3de30f3b560>:18: RuntimeWarning: Channels contain different highpass filters. Highest filter setting will be stored.\n",
            "  raw = mne.io.read_raw_bdf(file_path, preload=True)\n",
            "<ipython-input-6-c3de30f3b560>:18: RuntimeWarning: Channels contain different lowpass filters. Lowest filter setting will be stored.\n",
            "  raw = mne.io.read_raw_bdf(file_path, preload=True)\n"
          ]
        },
        {
          "output_type": "stream",
          "name": "stdout",
          "text": [
            "NOTE: pick_channels() is a legacy function. New code should use inst.pick(...).\n",
            "An error occurred for Subject 24: Missing channels from ch_names required by include:\n",
            "['F5', 'F6']\n",
            "Processing Subject 25...\n",
            "Loading data for Subject 25 from /content/MHyEEG/data/DEAP/data_original/s25.bdf\n",
            "Extracting EDF parameters from /content/MHyEEG/data/DEAP/data_original/s25.bdf...\n",
            "BDF file detected\n",
            "Setting channel info structure...\n",
            "Creating raw.info structure...\n",
            "Reading 0 ... 2109439  =      0.000 ...  4119.998 secs...\n"
          ]
        },
        {
          "output_type": "stream",
          "name": "stderr",
          "text": [
            "<ipython-input-6-c3de30f3b560>:18: RuntimeWarning: Channels contain different highpass filters. Highest filter setting will be stored.\n",
            "  raw = mne.io.read_raw_bdf(file_path, preload=True)\n",
            "<ipython-input-6-c3de30f3b560>:18: RuntimeWarning: Channels contain different lowpass filters. Lowest filter setting will be stored.\n",
            "  raw = mne.io.read_raw_bdf(file_path, preload=True)\n"
          ]
        },
        {
          "output_type": "stream",
          "name": "stdout",
          "text": [
            "NOTE: pick_channels() is a legacy function. New code should use inst.pick(...).\n",
            "An error occurred for Subject 25: Missing channels from ch_names required by include:\n",
            "['F5', 'F6']\n",
            "Processing Subject 26...\n",
            "Loading data for Subject 26 from /content/MHyEEG/data/DEAP/data_original/s26.bdf\n",
            "Extracting EDF parameters from /content/MHyEEG/data/DEAP/data_original/s26.bdf...\n",
            "BDF file detected\n",
            "Setting channel info structure...\n",
            "Creating raw.info structure...\n",
            "Reading 0 ... 2003455  =      0.000 ...  3912.998 secs...\n"
          ]
        },
        {
          "output_type": "stream",
          "name": "stderr",
          "text": [
            "<ipython-input-6-c3de30f3b560>:18: RuntimeWarning: Channels contain different highpass filters. Highest filter setting will be stored.\n",
            "  raw = mne.io.read_raw_bdf(file_path, preload=True)\n",
            "<ipython-input-6-c3de30f3b560>:18: RuntimeWarning: Channels contain different lowpass filters. Lowest filter setting will be stored.\n",
            "  raw = mne.io.read_raw_bdf(file_path, preload=True)\n"
          ]
        },
        {
          "output_type": "stream",
          "name": "stdout",
          "text": [
            "NOTE: pick_channels() is a legacy function. New code should use inst.pick(...).\n",
            "An error occurred for Subject 26: Missing channels from ch_names required by include:\n",
            "['F5', 'F6']\n",
            "Processing Subject 27...\n",
            "Loading data for Subject 27 from /content/MHyEEG/data/DEAP/data_original/s27.bdf\n",
            "Extracting EDF parameters from /content/MHyEEG/data/DEAP/data_original/s27.bdf...\n",
            "BDF file detected\n",
            "Setting channel info structure...\n",
            "Creating raw.info structure...\n",
            "Reading 0 ... 1944575  =      0.000 ...  3797.998 secs...\n"
          ]
        },
        {
          "output_type": "stream",
          "name": "stderr",
          "text": [
            "<ipython-input-6-c3de30f3b560>:18: RuntimeWarning: Channels contain different highpass filters. Highest filter setting will be stored.\n",
            "  raw = mne.io.read_raw_bdf(file_path, preload=True)\n",
            "<ipython-input-6-c3de30f3b560>:18: RuntimeWarning: Channels contain different lowpass filters. Lowest filter setting will be stored.\n",
            "  raw = mne.io.read_raw_bdf(file_path, preload=True)\n"
          ]
        },
        {
          "output_type": "stream",
          "name": "stdout",
          "text": [
            "NOTE: pick_channels() is a legacy function. New code should use inst.pick(...).\n",
            "An error occurred for Subject 27: Missing channels from ch_names required by include:\n",
            "['F5', 'F6']\n",
            "Processing Subject 28...\n",
            "Loading data for Subject 28 from /content/MHyEEG/data/DEAP/data_original/s28.bdf\n",
            "Extracting EDF parameters from /content/MHyEEG/data/DEAP/data_original/s28.bdf...\n",
            "BDF file detected\n",
            "Setting channel info structure...\n",
            "Creating raw.info structure...\n",
            "Reading 0 ... 1805823  =      0.000 ...  3526.998 secs...\n"
          ]
        },
        {
          "output_type": "stream",
          "name": "stderr",
          "text": [
            "<ipython-input-6-c3de30f3b560>:18: RuntimeWarning: Channels contain different highpass filters. Highest filter setting will be stored.\n",
            "  raw = mne.io.read_raw_bdf(file_path, preload=True)\n",
            "<ipython-input-6-c3de30f3b560>:18: RuntimeWarning: Channels contain different lowpass filters. Lowest filter setting will be stored.\n",
            "  raw = mne.io.read_raw_bdf(file_path, preload=True)\n"
          ]
        },
        {
          "output_type": "stream",
          "name": "stdout",
          "text": [
            "NOTE: pick_channels() is a legacy function. New code should use inst.pick(...).\n",
            "An error occurred for Subject 28: Missing channels from ch_names required by include:\n",
            "['F5', 'F6']\n",
            "Processing Subject 29...\n",
            "Loading data for Subject 29 from /content/MHyEEG/data/DEAP/data_original/s29.bdf\n",
            "Extracting EDF parameters from /content/MHyEEG/data/DEAP/data_original/s29.bdf...\n",
            "BDF file detected\n",
            "Setting channel info structure...\n",
            "Creating raw.info structure...\n",
            "Reading 0 ... 2036735  =      0.000 ...  3977.998 secs...\n"
          ]
        },
        {
          "output_type": "stream",
          "name": "stderr",
          "text": [
            "<ipython-input-6-c3de30f3b560>:18: RuntimeWarning: Channel names are not unique, found duplicates for: {''}. Applying running numbers for duplicates.\n",
            "  raw = mne.io.read_raw_bdf(file_path, preload=True)\n",
            "<ipython-input-6-c3de30f3b560>:18: RuntimeWarning: Channels contain different highpass filters. Highest filter setting will be stored.\n",
            "  raw = mne.io.read_raw_bdf(file_path, preload=True)\n",
            "<ipython-input-6-c3de30f3b560>:18: RuntimeWarning: Channels contain different lowpass filters. Lowest filter setting will be stored.\n",
            "  raw = mne.io.read_raw_bdf(file_path, preload=True)\n"
          ]
        },
        {
          "output_type": "stream",
          "name": "stdout",
          "text": [
            "NOTE: pick_channels() is a legacy function. New code should use inst.pick(...).\n",
            "An error occurred for Subject 29: Missing channels from ch_names required by include:\n",
            "['F5', 'F6']\n",
            "Processing Subject 30...\n",
            "Loading data for Subject 30 from /content/MHyEEG/data/DEAP/data_original/s30.bdf\n",
            "Extracting EDF parameters from /content/MHyEEG/data/DEAP/data_original/s30.bdf...\n",
            "BDF file detected\n",
            "Setting channel info structure...\n",
            "Creating raw.info structure...\n",
            "Reading 0 ... 1876479  =      0.000 ...  3664.998 secs...\n"
          ]
        },
        {
          "output_type": "stream",
          "name": "stderr",
          "text": [
            "<ipython-input-6-c3de30f3b560>:18: RuntimeWarning: Channel names are not unique, found duplicates for: {''}. Applying running numbers for duplicates.\n",
            "  raw = mne.io.read_raw_bdf(file_path, preload=True)\n",
            "<ipython-input-6-c3de30f3b560>:18: RuntimeWarning: Channels contain different highpass filters. Highest filter setting will be stored.\n",
            "  raw = mne.io.read_raw_bdf(file_path, preload=True)\n",
            "<ipython-input-6-c3de30f3b560>:18: RuntimeWarning: Channels contain different lowpass filters. Lowest filter setting will be stored.\n",
            "  raw = mne.io.read_raw_bdf(file_path, preload=True)\n"
          ]
        },
        {
          "output_type": "stream",
          "name": "stdout",
          "text": [
            "NOTE: pick_channels() is a legacy function. New code should use inst.pick(...).\n",
            "An error occurred for Subject 30: Missing channels from ch_names required by include:\n",
            "['F5', 'F6']\n",
            "Processing Subject 31...\n",
            "Loading data for Subject 31 from /content/MHyEEG/data/DEAP/data_original/s31.bdf\n",
            "Extracting EDF parameters from /content/MHyEEG/data/DEAP/data_original/s31.bdf...\n",
            "BDF file detected\n",
            "Setting channel info structure...\n",
            "Creating raw.info structure...\n",
            "Reading 0 ... 1892351  =      0.000 ...  3695.998 secs...\n"
          ]
        },
        {
          "output_type": "stream",
          "name": "stderr",
          "text": [
            "<ipython-input-6-c3de30f3b560>:18: RuntimeWarning: Channel names are not unique, found duplicates for: {''}. Applying running numbers for duplicates.\n",
            "  raw = mne.io.read_raw_bdf(file_path, preload=True)\n",
            "<ipython-input-6-c3de30f3b560>:18: RuntimeWarning: Channels contain different highpass filters. Highest filter setting will be stored.\n",
            "  raw = mne.io.read_raw_bdf(file_path, preload=True)\n",
            "<ipython-input-6-c3de30f3b560>:18: RuntimeWarning: Channels contain different lowpass filters. Lowest filter setting will be stored.\n",
            "  raw = mne.io.read_raw_bdf(file_path, preload=True)\n"
          ]
        },
        {
          "output_type": "stream",
          "name": "stdout",
          "text": [
            "NOTE: pick_channels() is a legacy function. New code should use inst.pick(...).\n",
            "An error occurred for Subject 31: Missing channels from ch_names required by include:\n",
            "['F5', 'F6']\n",
            "Processing Subject 32...\n",
            "Loading data for Subject 32 from /content/MHyEEG/data/DEAP/data_original/s32.bdf\n",
            "Extracting EDF parameters from /content/MHyEEG/data/DEAP/data_original/s32.bdf...\n",
            "BDF file detected\n",
            "Setting channel info structure...\n",
            "Creating raw.info structure...\n",
            "Reading 0 ... 1804287  =      0.000 ...  3523.998 secs...\n"
          ]
        },
        {
          "output_type": "stream",
          "name": "stderr",
          "text": [
            "<ipython-input-6-c3de30f3b560>:18: RuntimeWarning: Channel names are not unique, found duplicates for: {''}. Applying running numbers for duplicates.\n",
            "  raw = mne.io.read_raw_bdf(file_path, preload=True)\n",
            "<ipython-input-6-c3de30f3b560>:18: RuntimeWarning: Channels contain different highpass filters. Highest filter setting will be stored.\n",
            "  raw = mne.io.read_raw_bdf(file_path, preload=True)\n",
            "<ipython-input-6-c3de30f3b560>:18: RuntimeWarning: Channels contain different lowpass filters. Lowest filter setting will be stored.\n",
            "  raw = mne.io.read_raw_bdf(file_path, preload=True)\n"
          ]
        },
        {
          "output_type": "stream",
          "name": "stdout",
          "text": [
            "NOTE: pick_channels() is a legacy function. New code should use inst.pick(...).\n",
            "An error occurred for Subject 32: Missing channels from ch_names required by include:\n",
            "['F5', 'F6']\n"
          ]
        }
      ]
    },
    {
      "cell_type": "markdown",
      "source": [
        "#### 1:2 DEAP(ECG) PREPROCESSING"
      ],
      "metadata": {
        "id": "mP7Gk-P1F0Bs"
      }
    },
    {
      "cell_type": "code",
      "source": [
        "import os\n",
        "import mne\n",
        "\n",
        "def preprocess_ecg(raw):\n",
        "    \"\"\"\n",
        "    Preprocess ECG data.\n",
        "    Steps:\n",
        "    - Band-pass filter (0.5-45 Hz).\n",
        "    - Notch filter at 50 Hz.\n",
        "    - Downsample to 128 Hz.\n",
        "    - Baseline correction (200 ms before each trial).\n",
        "    Args:\n",
        "        raw (mne.io.Raw): Raw data object.\n",
        "    Returns:\n",
        "        np.ndarray: Preprocessed ECG data.\n",
        "    \"\"\"\n",
        "    # Select ECG channels\n",
        "    ecg_channels = [ch for ch in raw.info['ch_names'] if 'ECG' in ch]\n",
        "    raw.pick_channels(ecg_channels)\n",
        "\n",
        "    # Band-pass filter (0.5-45 Hz)\n",
        "    raw.filter(l_freq=0.5, h_freq=45.0)\n",
        "\n",
        "    # Notch filter at 50 Hz\n",
        "    raw.notch_filter(freqs=50.0)\n",
        "\n",
        "    # Downsample to 128 Hz\n",
        "    raw.resample(128)\n",
        "\n",
        "    # Baseline correction\n",
        "    raw.apply_function(lambda x: x - x.mean(axis=-1, keepdims=True), picks=\"ecg\")\n",
        "\n",
        "    return raw.get_data()\n",
        "\n",
        "def save_preprocessed_ecg(data, output_dir, subject_id):\n",
        "    \"\"\"\n",
        "    Save preprocessed ECG data as NumPy array.\n",
        "    Args:\n",
        "        data (np.ndarray): Preprocessed ECG data.\n",
        "        output_dir (str): Directory to save processed data.\n",
        "        subject_id (int): Subject ID (1-32).\n",
        "    \"\"\"\n",
        "    os.makedirs(output_dir, exist_ok=True)\n",
        "    file_path = os.path.join(output_dir, f\"subject_{subject_id:02d}_ecg.npy\")\n",
        "    np.save(file_path, data)\n",
        "    print(f\"Saved preprocessed ECG data for Subject {subject_id} to {file_path}\")\n",
        "\n",
        "if __name__ == \"__main__\":\n",
        "    data_dir = \"/content/MHyEEG/data/DEAP/data_original\"\n",
        "    output_dir = \"/content/MHyEEG/data/DEAP/data_preprocessed/ECG\"\n",
        "\n",
        "    for subject_id in range(1, 33):\n",
        "        print(f\"Processing ECG for Subject {subject_id}...\")\n",
        "        try:\n",
        "            raw = load_raw_data(data_dir, subject_id)\n",
        "            preprocessed_ecg = preprocess_ecg(raw)\n",
        "            save_preprocessed_ecg(preprocessed_ecg, output_dir, subject_id)\n",
        "        except Exception as e:\n",
        "            print(f\"Error processing ECG for Subject {subject_id}: {e}\")\n"
      ],
      "metadata": {
        "id": "ysSHArT1F8RA",
        "outputId": "05578780-6662-4958-f2fa-c60e79ec2806",
        "colab": {
          "base_uri": "https://localhost:8080/"
        }
      },
      "execution_count": null,
      "outputs": [
        {
          "output_type": "stream",
          "name": "stdout",
          "text": [
            "Processing ECG for Subject 1...\n",
            "Loading data for Subject 1 from /content/MHyEEG/data/DEAP/data_original/s01.bdf\n",
            "Extracting EDF parameters from /content/MHyEEG/data/DEAP/data_original/s01.bdf...\n",
            "BDF file detected\n",
            "Setting channel info structure...\n",
            "Creating raw.info structure...\n",
            "Reading 0 ... 1980927  =      0.000 ...  3868.998 secs...\n",
            "NOTE: pick_channels() is a legacy function. New code should use inst.pick(...).\n",
            "Filtering raw data in 1 contiguous segment\n",
            "Setting up band-pass filter from 0.5 - 45 Hz\n",
            "\n",
            "FIR filter parameters\n",
            "---------------------\n",
            "Designing a one-pass, zero-phase, non-causal bandpass filter:\n",
            "- Windowed time-domain design (firwin) method\n",
            "- Hamming window with 0.0194 passband ripple and 53 dB stopband attenuation\n",
            "- Lower passband edge: 0.50\n",
            "- Lower transition bandwidth: 0.50 Hz (-6 dB cutoff frequency: 0.25 Hz)\n",
            "- Upper passband edge: 45.00 Hz\n",
            "- Upper transition bandwidth: 11.25 Hz (-6 dB cutoff frequency: 50.62 Hz)\n",
            "- Filter length: 3381 samples (6.604 s)\n",
            "\n"
          ]
        },
        {
          "output_type": "stream",
          "name": "stderr",
          "text": [
            "[Parallel(n_jobs=1)]: Done  17 tasks      | elapsed:    1.3s\n"
          ]
        },
        {
          "output_type": "stream",
          "name": "stdout",
          "text": [
            "Filtering raw data in 1 contiguous segment\n",
            "Setting up band-stop filter from 49 - 51 Hz\n",
            "\n",
            "FIR filter parameters\n",
            "---------------------\n",
            "Designing a one-pass, zero-phase, non-causal bandstop filter:\n",
            "- Windowed time-domain design (firwin) method\n",
            "- Hamming window with 0.0194 passband ripple and 53 dB stopband attenuation\n",
            "- Lower passband edge: 49.38\n",
            "- Lower transition bandwidth: 0.50 Hz (-6 dB cutoff frequency: 49.12 Hz)\n",
            "- Upper passband edge: 50.62 Hz\n",
            "- Upper transition bandwidth: 0.50 Hz (-6 dB cutoff frequency: 50.88 Hz)\n",
            "- Filter length: 3381 samples (6.604 s)\n",
            "\n"
          ]
        },
        {
          "output_type": "stream",
          "name": "stderr",
          "text": [
            "[Parallel(n_jobs=1)]: Done  17 tasks      | elapsed:    1.8s\n"
          ]
        },
        {
          "output_type": "stream",
          "name": "stdout",
          "text": [
            "Trigger channel Status has a non-zero initial value of 65536 (consider using initial_event=True to detect this event)\n",
            "Removing orphaned offset at the beginning of the file.\n",
            "13760 events found on stim channel Status\n",
            "Event IDs: [1 2 3 4 5 6 7]\n",
            "Trigger channel Status has a non-zero initial value of 65536 (consider using initial_event=True to detect this event)\n",
            "Removing orphaned offset at the beginning of the file.\n",
            "298 events found on stim channel Status\n",
            "Event IDs: [1 2 3 4 5 6 7]\n",
            "Error processing ECG for Subject 1: picks ('ecg') could not be interpreted as channel names (no channel \"['ecg']\"), channel types (no type \"['ecg']\" present), or a generic type (just \"all\" or \"data\")\n",
            "Processing ECG for Subject 2...\n",
            "Loading data for Subject 2 from /content/MHyEEG/data/DEAP/data_original/s02.bdf\n",
            "Extracting EDF parameters from /content/MHyEEG/data/DEAP/data_original/s02.bdf...\n",
            "BDF file detected\n",
            "Setting channel info structure...\n",
            "Creating raw.info structure...\n",
            "Reading 0 ... 1895935  =      0.000 ...  3702.998 secs...\n"
          ]
        },
        {
          "output_type": "stream",
          "name": "stderr",
          "text": [
            "<ipython-input-7-8196ae832099>:28: RuntimeWarning: Resampling of the stim channels caused event information to become unreliable. Consider finding events on the original data and passing the event matrix as a parameter.\n",
            "  raw.resample(128)\n"
          ]
        },
        {
          "output_type": "stream",
          "name": "stdout",
          "text": [
            "NOTE: pick_channels() is a legacy function. New code should use inst.pick(...).\n",
            "Filtering raw data in 1 contiguous segment\n",
            "Setting up band-pass filter from 0.5 - 45 Hz\n",
            "\n",
            "FIR filter parameters\n",
            "---------------------\n",
            "Designing a one-pass, zero-phase, non-causal bandpass filter:\n",
            "- Windowed time-domain design (firwin) method\n",
            "- Hamming window with 0.0194 passband ripple and 53 dB stopband attenuation\n",
            "- Lower passband edge: 0.50\n",
            "- Lower transition bandwidth: 0.50 Hz (-6 dB cutoff frequency: 0.25 Hz)\n",
            "- Upper passband edge: 45.00 Hz\n",
            "- Upper transition bandwidth: 11.25 Hz (-6 dB cutoff frequency: 50.62 Hz)\n",
            "- Filter length: 3381 samples (6.604 s)\n",
            "\n"
          ]
        },
        {
          "output_type": "stream",
          "name": "stderr",
          "text": [
            "[Parallel(n_jobs=1)]: Done  17 tasks      | elapsed:    1.8s\n"
          ]
        },
        {
          "output_type": "stream",
          "name": "stdout",
          "text": [
            "Filtering raw data in 1 contiguous segment\n",
            "Setting up band-stop filter from 49 - 51 Hz\n",
            "\n",
            "FIR filter parameters\n",
            "---------------------\n",
            "Designing a one-pass, zero-phase, non-causal bandstop filter:\n",
            "- Windowed time-domain design (firwin) method\n",
            "- Hamming window with 0.0194 passband ripple and 53 dB stopband attenuation\n",
            "- Lower passband edge: 49.38\n",
            "- Lower transition bandwidth: 0.50 Hz (-6 dB cutoff frequency: 49.12 Hz)\n",
            "- Upper passband edge: 50.62 Hz\n",
            "- Upper transition bandwidth: 0.50 Hz (-6 dB cutoff frequency: 50.88 Hz)\n",
            "- Filter length: 3381 samples (6.604 s)\n",
            "\n"
          ]
        },
        {
          "output_type": "stream",
          "name": "stderr",
          "text": [
            "[Parallel(n_jobs=1)]: Done  17 tasks      | elapsed:    1.1s\n"
          ]
        },
        {
          "output_type": "stream",
          "name": "stdout",
          "text": [
            "Trigger channel Status has a non-zero initial value of 65536 (consider using initial_event=True to detect this event)\n",
            "Removing orphaned offset at the beginning of the file.\n",
            "287 events found on stim channel Status\n",
            "Event IDs: [1 2 3 4 5 7]\n",
            "Trigger channel Status has a non-zero initial value of 65536 (consider using initial_event=True to detect this event)\n",
            "Removing orphaned offset at the beginning of the file.\n",
            "286 events found on stim channel Status\n",
            "Event IDs: [1 2 3 4 5 7]\n",
            "Error processing ECG for Subject 2: picks ('ecg') could not be interpreted as channel names (no channel \"['ecg']\"), channel types (no type \"['ecg']\" present), or a generic type (just \"all\" or \"data\")\n",
            "Processing ECG for Subject 3...\n",
            "Loading data for Subject 3 from /content/MHyEEG/data/DEAP/data_original/s03.bdf\n",
            "Extracting EDF parameters from /content/MHyEEG/data/DEAP/data_original/s03.bdf...\n",
            "BDF file detected\n",
            "Setting channel info structure...\n",
            "Creating raw.info structure...\n",
            "Reading 0 ... 1989119  =      0.000 ...  3884.998 secs...\n"
          ]
        },
        {
          "output_type": "stream",
          "name": "stderr",
          "text": [
            "<ipython-input-7-8196ae832099>:28: RuntimeWarning: Resampling of the stim channels caused event information to become unreliable. Consider finding events on the original data and passing the event matrix as a parameter.\n",
            "  raw.resample(128)\n"
          ]
        },
        {
          "output_type": "stream",
          "name": "stdout",
          "text": [
            "NOTE: pick_channels() is a legacy function. New code should use inst.pick(...).\n",
            "Filtering raw data in 1 contiguous segment\n",
            "Setting up band-pass filter from 0.5 - 45 Hz\n",
            "\n",
            "FIR filter parameters\n",
            "---------------------\n",
            "Designing a one-pass, zero-phase, non-causal bandpass filter:\n",
            "- Windowed time-domain design (firwin) method\n",
            "- Hamming window with 0.0194 passband ripple and 53 dB stopband attenuation\n",
            "- Lower passband edge: 0.50\n",
            "- Lower transition bandwidth: 0.50 Hz (-6 dB cutoff frequency: 0.25 Hz)\n",
            "- Upper passband edge: 45.00 Hz\n",
            "- Upper transition bandwidth: 11.25 Hz (-6 dB cutoff frequency: 50.62 Hz)\n",
            "- Filter length: 3381 samples (6.604 s)\n",
            "\n"
          ]
        },
        {
          "output_type": "stream",
          "name": "stderr",
          "text": [
            "[Parallel(n_jobs=1)]: Done  17 tasks      | elapsed:    1.2s\n"
          ]
        },
        {
          "output_type": "stream",
          "name": "stdout",
          "text": [
            "Filtering raw data in 1 contiguous segment\n",
            "Setting up band-stop filter from 49 - 51 Hz\n",
            "\n",
            "FIR filter parameters\n",
            "---------------------\n",
            "Designing a one-pass, zero-phase, non-causal bandstop filter:\n",
            "- Windowed time-domain design (firwin) method\n",
            "- Hamming window with 0.0194 passband ripple and 53 dB stopband attenuation\n",
            "- Lower passband edge: 49.38\n",
            "- Lower transition bandwidth: 0.50 Hz (-6 dB cutoff frequency: 49.12 Hz)\n",
            "- Upper passband edge: 50.62 Hz\n",
            "- Upper transition bandwidth: 0.50 Hz (-6 dB cutoff frequency: 50.88 Hz)\n",
            "- Filter length: 3381 samples (6.604 s)\n",
            "\n"
          ]
        },
        {
          "output_type": "stream",
          "name": "stderr",
          "text": [
            "[Parallel(n_jobs=1)]: Done  17 tasks      | elapsed:    1.2s\n"
          ]
        },
        {
          "output_type": "stream",
          "name": "stdout",
          "text": [
            "Trigger channel Status has a non-zero initial value of 65536 (consider using initial_event=True to detect this event)\n",
            "Removing orphaned offset at the beginning of the file.\n",
            "284 events found on stim channel Status\n",
            "Event IDs: [1 2 3 4 5 7]\n",
            "Trigger channel Status has a non-zero initial value of 65536 (consider using initial_event=True to detect this event)\n",
            "Removing orphaned offset at the beginning of the file.\n",
            "284 events found on stim channel Status\n",
            "Event IDs: [1 2 3 4 5 7]\n",
            "Error processing ECG for Subject 3: picks ('ecg') could not be interpreted as channel names (no channel \"['ecg']\"), channel types (no type \"['ecg']\" present), or a generic type (just \"all\" or \"data\")\n",
            "Processing ECG for Subject 4...\n",
            "Loading data for Subject 4 from /content/MHyEEG/data/DEAP/data_original/s04.bdf\n",
            "Extracting EDF parameters from /content/MHyEEG/data/DEAP/data_original/s04.bdf...\n",
            "BDF file detected\n",
            "Setting channel info structure...\n",
            "Creating raw.info structure...\n",
            "Reading 0 ... 1690111  =      0.000 ...  3300.998 secs...\n",
            "NOTE: pick_channels() is a legacy function. New code should use inst.pick(...).\n",
            "Filtering raw data in 1 contiguous segment\n",
            "Setting up band-pass filter from 0.5 - 45 Hz\n",
            "\n",
            "FIR filter parameters\n",
            "---------------------\n",
            "Designing a one-pass, zero-phase, non-causal bandpass filter:\n",
            "- Windowed time-domain design (firwin) method\n",
            "- Hamming window with 0.0194 passband ripple and 53 dB stopband attenuation\n",
            "- Lower passband edge: 0.50\n",
            "- Lower transition bandwidth: 0.50 Hz (-6 dB cutoff frequency: 0.25 Hz)\n",
            "- Upper passband edge: 45.00 Hz\n",
            "- Upper transition bandwidth: 11.25 Hz (-6 dB cutoff frequency: 50.62 Hz)\n",
            "- Filter length: 3381 samples (6.604 s)\n",
            "\n"
          ]
        },
        {
          "output_type": "stream",
          "name": "stderr",
          "text": [
            "[Parallel(n_jobs=1)]: Done  17 tasks      | elapsed:    1.0s\n"
          ]
        },
        {
          "output_type": "stream",
          "name": "stdout",
          "text": [
            "Filtering raw data in 1 contiguous segment\n",
            "Setting up band-stop filter from 49 - 51 Hz\n",
            "\n",
            "FIR filter parameters\n",
            "---------------------\n",
            "Designing a one-pass, zero-phase, non-causal bandstop filter:\n",
            "- Windowed time-domain design (firwin) method\n",
            "- Hamming window with 0.0194 passband ripple and 53 dB stopband attenuation\n",
            "- Lower passband edge: 49.38\n",
            "- Lower transition bandwidth: 0.50 Hz (-6 dB cutoff frequency: 49.12 Hz)\n",
            "- Upper passband edge: 50.62 Hz\n",
            "- Upper transition bandwidth: 0.50 Hz (-6 dB cutoff frequency: 50.88 Hz)\n",
            "- Filter length: 3381 samples (6.604 s)\n",
            "\n"
          ]
        },
        {
          "output_type": "stream",
          "name": "stderr",
          "text": [
            "[Parallel(n_jobs=1)]: Done  17 tasks      | elapsed:    1.0s\n"
          ]
        },
        {
          "output_type": "stream",
          "name": "stdout",
          "text": [
            "Trigger channel Status has a non-zero initial value of 65536 (consider using initial_event=True to detect this event)\n",
            "Removing orphaned offset at the beginning of the file.\n",
            "286 events found on stim channel Status\n",
            "Event IDs: [1 2 3 4 5 7]\n",
            "Trigger channel Status has a non-zero initial value of 65536 (consider using initial_event=True to detect this event)\n",
            "Removing orphaned offset at the beginning of the file.\n",
            "285 events found on stim channel Status\n",
            "Event IDs: [1 2 3 4 5 7]\n",
            "Error processing ECG for Subject 4: picks ('ecg') could not be interpreted as channel names (no channel \"['ecg']\"), channel types (no type \"['ecg']\" present), or a generic type (just \"all\" or \"data\")\n",
            "Processing ECG for Subject 5...\n",
            "Loading data for Subject 5 from /content/MHyEEG/data/DEAP/data_original/s05.bdf\n",
            "Extracting EDF parameters from /content/MHyEEG/data/DEAP/data_original/s05.bdf...\n",
            "BDF file detected\n",
            "Setting channel info structure...\n",
            "Creating raw.info structure...\n",
            "Reading 0 ... 2004991  =      0.000 ...  3915.998 secs...\n"
          ]
        },
        {
          "output_type": "stream",
          "name": "stderr",
          "text": [
            "<ipython-input-7-8196ae832099>:28: RuntimeWarning: Resampling of the stim channels caused event information to become unreliable. Consider finding events on the original data and passing the event matrix as a parameter.\n",
            "  raw.resample(128)\n"
          ]
        },
        {
          "output_type": "stream",
          "name": "stdout",
          "text": [
            "NOTE: pick_channels() is a legacy function. New code should use inst.pick(...).\n",
            "Filtering raw data in 1 contiguous segment\n",
            "Setting up band-pass filter from 0.5 - 45 Hz\n",
            "\n",
            "FIR filter parameters\n",
            "---------------------\n",
            "Designing a one-pass, zero-phase, non-causal bandpass filter:\n",
            "- Windowed time-domain design (firwin) method\n",
            "- Hamming window with 0.0194 passband ripple and 53 dB stopband attenuation\n",
            "- Lower passband edge: 0.50\n",
            "- Lower transition bandwidth: 0.50 Hz (-6 dB cutoff frequency: 0.25 Hz)\n",
            "- Upper passband edge: 45.00 Hz\n",
            "- Upper transition bandwidth: 11.25 Hz (-6 dB cutoff frequency: 50.62 Hz)\n",
            "- Filter length: 3381 samples (6.604 s)\n",
            "\n"
          ]
        },
        {
          "output_type": "stream",
          "name": "stderr",
          "text": [
            "[Parallel(n_jobs=1)]: Done  17 tasks      | elapsed:    1.3s\n"
          ]
        },
        {
          "output_type": "stream",
          "name": "stdout",
          "text": [
            "Filtering raw data in 1 contiguous segment\n",
            "Setting up band-stop filter from 49 - 51 Hz\n",
            "\n",
            "FIR filter parameters\n",
            "---------------------\n",
            "Designing a one-pass, zero-phase, non-causal bandstop filter:\n",
            "- Windowed time-domain design (firwin) method\n",
            "- Hamming window with 0.0194 passband ripple and 53 dB stopband attenuation\n",
            "- Lower passband edge: 49.38\n",
            "- Lower transition bandwidth: 0.50 Hz (-6 dB cutoff frequency: 49.12 Hz)\n",
            "- Upper passband edge: 50.62 Hz\n",
            "- Upper transition bandwidth: 0.50 Hz (-6 dB cutoff frequency: 50.88 Hz)\n",
            "- Filter length: 3381 samples (6.604 s)\n",
            "\n"
          ]
        },
        {
          "output_type": "stream",
          "name": "stderr",
          "text": [
            "[Parallel(n_jobs=1)]: Done  17 tasks      | elapsed:    1.8s\n"
          ]
        },
        {
          "output_type": "stream",
          "name": "stdout",
          "text": [
            "Trigger channel Status has a non-zero initial value of 65536 (consider using initial_event=True to detect this event)\n",
            "Removing orphaned offset at the beginning of the file.\n",
            "288 events found on stim channel Status\n",
            "Event IDs: [1 2 3 4 5 7]\n",
            "Trigger channel Status has a non-zero initial value of 65536 (consider using initial_event=True to detect this event)\n",
            "Removing orphaned offset at the beginning of the file.\n",
            "288 events found on stim channel Status\n",
            "Event IDs: [1 2 3 4 5 7]\n",
            "Error processing ECG for Subject 5: picks ('ecg') could not be interpreted as channel names (no channel \"['ecg']\"), channel types (no type \"['ecg']\" present), or a generic type (just \"all\" or \"data\")\n",
            "Processing ECG for Subject 6...\n",
            "Loading data for Subject 6 from /content/MHyEEG/data/DEAP/data_original/s06.bdf\n",
            "Extracting EDF parameters from /content/MHyEEG/data/DEAP/data_original/s06.bdf...\n",
            "BDF file detected\n",
            "Setting channel info structure...\n",
            "Creating raw.info structure...\n",
            "Reading 0 ... 1836031  =      0.000 ...  3585.998 secs...\n",
            "NOTE: pick_channels() is a legacy function. New code should use inst.pick(...).\n",
            "Filtering raw data in 1 contiguous segment\n",
            "Setting up band-pass filter from 0.5 - 45 Hz\n",
            "\n",
            "FIR filter parameters\n",
            "---------------------\n",
            "Designing a one-pass, zero-phase, non-causal bandpass filter:\n",
            "- Windowed time-domain design (firwin) method\n",
            "- Hamming window with 0.0194 passband ripple and 53 dB stopband attenuation\n",
            "- Lower passband edge: 0.50\n",
            "- Lower transition bandwidth: 0.50 Hz (-6 dB cutoff frequency: 0.25 Hz)\n",
            "- Upper passband edge: 45.00 Hz\n",
            "- Upper transition bandwidth: 11.25 Hz (-6 dB cutoff frequency: 50.62 Hz)\n",
            "- Filter length: 3381 samples (6.604 s)\n",
            "\n"
          ]
        },
        {
          "output_type": "stream",
          "name": "stderr",
          "text": [
            "[Parallel(n_jobs=1)]: Done  17 tasks      | elapsed:    2.7s\n"
          ]
        },
        {
          "output_type": "stream",
          "name": "stdout",
          "text": [
            "Filtering raw data in 1 contiguous segment\n",
            "Setting up band-stop filter from 49 - 51 Hz\n",
            "\n",
            "FIR filter parameters\n",
            "---------------------\n",
            "Designing a one-pass, zero-phase, non-causal bandstop filter:\n",
            "- Windowed time-domain design (firwin) method\n",
            "- Hamming window with 0.0194 passband ripple and 53 dB stopband attenuation\n",
            "- Lower passband edge: 49.38\n",
            "- Lower transition bandwidth: 0.50 Hz (-6 dB cutoff frequency: 49.12 Hz)\n",
            "- Upper passband edge: 50.62 Hz\n",
            "- Upper transition bandwidth: 0.50 Hz (-6 dB cutoff frequency: 50.88 Hz)\n",
            "- Filter length: 3381 samples (6.604 s)\n",
            "\n"
          ]
        },
        {
          "output_type": "stream",
          "name": "stderr",
          "text": [
            "[Parallel(n_jobs=1)]: Done  17 tasks      | elapsed:    1.1s\n"
          ]
        },
        {
          "output_type": "stream",
          "name": "stdout",
          "text": [
            "Trigger channel Status has a non-zero initial value of 65536 (consider using initial_event=True to detect this event)\n",
            "Removing orphaned offset at the beginning of the file.\n",
            "288 events found on stim channel Status\n",
            "Event IDs: [1 2 3 4 5 7]\n",
            "Trigger channel Status has a non-zero initial value of 65536 (consider using initial_event=True to detect this event)\n",
            "Removing orphaned offset at the beginning of the file.\n",
            "287 events found on stim channel Status\n",
            "Event IDs: [1 2 3 4 5 7]\n",
            "Error processing ECG for Subject 6: picks ('ecg') could not be interpreted as channel names (no channel \"['ecg']\"), channel types (no type \"['ecg']\" present), or a generic type (just \"all\" or \"data\")\n",
            "Processing ECG for Subject 7...\n",
            "Loading data for Subject 7 from /content/MHyEEG/data/DEAP/data_original/s07.bdf\n",
            "Extracting EDF parameters from /content/MHyEEG/data/DEAP/data_original/s07.bdf...\n",
            "BDF file detected\n",
            "Setting channel info structure...\n",
            "Creating raw.info structure...\n",
            "Reading 0 ... 1828351  =      0.000 ...  3570.998 secs...\n"
          ]
        },
        {
          "output_type": "stream",
          "name": "stderr",
          "text": [
            "<ipython-input-7-8196ae832099>:28: RuntimeWarning: Resampling of the stim channels caused event information to become unreliable. Consider finding events on the original data and passing the event matrix as a parameter.\n",
            "  raw.resample(128)\n"
          ]
        },
        {
          "output_type": "stream",
          "name": "stdout",
          "text": [
            "NOTE: pick_channels() is a legacy function. New code should use inst.pick(...).\n",
            "Filtering raw data in 1 contiguous segment\n",
            "Setting up band-pass filter from 0.5 - 45 Hz\n",
            "\n",
            "FIR filter parameters\n",
            "---------------------\n",
            "Designing a one-pass, zero-phase, non-causal bandpass filter:\n",
            "- Windowed time-domain design (firwin) method\n",
            "- Hamming window with 0.0194 passband ripple and 53 dB stopband attenuation\n",
            "- Lower passband edge: 0.50\n",
            "- Lower transition bandwidth: 0.50 Hz (-6 dB cutoff frequency: 0.25 Hz)\n",
            "- Upper passband edge: 45.00 Hz\n",
            "- Upper transition bandwidth: 11.25 Hz (-6 dB cutoff frequency: 50.62 Hz)\n",
            "- Filter length: 3381 samples (6.604 s)\n",
            "\n"
          ]
        },
        {
          "output_type": "stream",
          "name": "stderr",
          "text": [
            "[Parallel(n_jobs=1)]: Done  17 tasks      | elapsed:    1.1s\n"
          ]
        },
        {
          "output_type": "stream",
          "name": "stdout",
          "text": [
            "Filtering raw data in 1 contiguous segment\n",
            "Setting up band-stop filter from 49 - 51 Hz\n",
            "\n",
            "FIR filter parameters\n",
            "---------------------\n",
            "Designing a one-pass, zero-phase, non-causal bandstop filter:\n",
            "- Windowed time-domain design (firwin) method\n",
            "- Hamming window with 0.0194 passband ripple and 53 dB stopband attenuation\n",
            "- Lower passband edge: 49.38\n",
            "- Lower transition bandwidth: 0.50 Hz (-6 dB cutoff frequency: 49.12 Hz)\n",
            "- Upper passband edge: 50.62 Hz\n",
            "- Upper transition bandwidth: 0.50 Hz (-6 dB cutoff frequency: 50.88 Hz)\n",
            "- Filter length: 3381 samples (6.604 s)\n",
            "\n"
          ]
        },
        {
          "output_type": "stream",
          "name": "stderr",
          "text": [
            "[Parallel(n_jobs=1)]: Done  17 tasks      | elapsed:    1.1s\n"
          ]
        },
        {
          "output_type": "stream",
          "name": "stdout",
          "text": [
            "Trigger channel Status has a non-zero initial value of 65536 (consider using initial_event=True to detect this event)\n",
            "Removing orphaned offset at the beginning of the file.\n",
            "288 events found on stim channel Status\n",
            "Event IDs: [1 2 3 4 5 7]\n",
            "Trigger channel Status has a non-zero initial value of 65536 (consider using initial_event=True to detect this event)\n",
            "Removing orphaned offset at the beginning of the file.\n",
            "287 events found on stim channel Status\n",
            "Event IDs: [1 2 3 4 5 7]\n",
            "Error processing ECG for Subject 7: picks ('ecg') could not be interpreted as channel names (no channel \"['ecg']\"), channel types (no type \"['ecg']\" present), or a generic type (just \"all\" or \"data\")\n",
            "Processing ECG for Subject 8...\n",
            "Loading data for Subject 8 from /content/MHyEEG/data/DEAP/data_original/s08.bdf\n",
            "Extracting EDF parameters from /content/MHyEEG/data/DEAP/data_original/s08.bdf...\n",
            "BDF file detected\n",
            "Setting channel info structure...\n",
            "Creating raw.info structure...\n",
            "Reading 0 ... 1800703  =      0.000 ...  3516.998 secs...\n"
          ]
        },
        {
          "output_type": "stream",
          "name": "stderr",
          "text": [
            "<ipython-input-7-8196ae832099>:28: RuntimeWarning: Resampling of the stim channels caused event information to become unreliable. Consider finding events on the original data and passing the event matrix as a parameter.\n",
            "  raw.resample(128)\n"
          ]
        },
        {
          "output_type": "stream",
          "name": "stdout",
          "text": [
            "NOTE: pick_channels() is a legacy function. New code should use inst.pick(...).\n",
            "Filtering raw data in 1 contiguous segment\n",
            "Setting up band-pass filter from 0.5 - 45 Hz\n",
            "\n",
            "FIR filter parameters\n",
            "---------------------\n",
            "Designing a one-pass, zero-phase, non-causal bandpass filter:\n",
            "- Windowed time-domain design (firwin) method\n",
            "- Hamming window with 0.0194 passband ripple and 53 dB stopband attenuation\n",
            "- Lower passband edge: 0.50\n",
            "- Lower transition bandwidth: 0.50 Hz (-6 dB cutoff frequency: 0.25 Hz)\n",
            "- Upper passband edge: 45.00 Hz\n",
            "- Upper transition bandwidth: 11.25 Hz (-6 dB cutoff frequency: 50.62 Hz)\n",
            "- Filter length: 3381 samples (6.604 s)\n",
            "\n"
          ]
        },
        {
          "output_type": "stream",
          "name": "stderr",
          "text": [
            "[Parallel(n_jobs=1)]: Done  17 tasks      | elapsed:    1.0s\n"
          ]
        },
        {
          "output_type": "stream",
          "name": "stdout",
          "text": [
            "Filtering raw data in 1 contiguous segment\n",
            "Setting up band-stop filter from 49 - 51 Hz\n",
            "\n",
            "FIR filter parameters\n",
            "---------------------\n",
            "Designing a one-pass, zero-phase, non-causal bandstop filter:\n",
            "- Windowed time-domain design (firwin) method\n",
            "- Hamming window with 0.0194 passband ripple and 53 dB stopband attenuation\n",
            "- Lower passband edge: 49.38\n",
            "- Lower transition bandwidth: 0.50 Hz (-6 dB cutoff frequency: 49.12 Hz)\n",
            "- Upper passband edge: 50.62 Hz\n",
            "- Upper transition bandwidth: 0.50 Hz (-6 dB cutoff frequency: 50.88 Hz)\n",
            "- Filter length: 3381 samples (6.604 s)\n",
            "\n"
          ]
        },
        {
          "output_type": "stream",
          "name": "stderr",
          "text": [
            "[Parallel(n_jobs=1)]: Done  17 tasks      | elapsed:    1.1s\n"
          ]
        },
        {
          "output_type": "stream",
          "name": "stdout",
          "text": [
            "Trigger channel Status has a non-zero initial value of 65536 (consider using initial_event=True to detect this event)\n",
            "Removing orphaned offset at the beginning of the file.\n",
            "288 events found on stim channel Status\n",
            "Event IDs: [1 2 3 4 5 7]\n",
            "Trigger channel Status has a non-zero initial value of 65536 (consider using initial_event=True to detect this event)\n",
            "Removing orphaned offset at the beginning of the file.\n",
            "287 events found on stim channel Status\n",
            "Event IDs: [1 2 3 4 5 7]\n",
            "Error processing ECG for Subject 8: picks ('ecg') could not be interpreted as channel names (no channel \"['ecg']\"), channel types (no type \"['ecg']\" present), or a generic type (just \"all\" or \"data\")\n",
            "Processing ECG for Subject 9...\n",
            "Loading data for Subject 9 from /content/MHyEEG/data/DEAP/data_original/s09.bdf\n",
            "Extracting EDF parameters from /content/MHyEEG/data/DEAP/data_original/s09.bdf...\n",
            "BDF file detected\n",
            "Setting channel info structure...\n",
            "Creating raw.info structure...\n",
            "Reading 0 ... 1928703  =      0.000 ...  3766.998 secs...\n"
          ]
        },
        {
          "output_type": "stream",
          "name": "stderr",
          "text": [
            "<ipython-input-7-8196ae832099>:28: RuntimeWarning: Resampling of the stim channels caused event information to become unreliable. Consider finding events on the original data and passing the event matrix as a parameter.\n",
            "  raw.resample(128)\n"
          ]
        },
        {
          "output_type": "stream",
          "name": "stdout",
          "text": [
            "NOTE: pick_channels() is a legacy function. New code should use inst.pick(...).\n",
            "Filtering raw data in 1 contiguous segment\n",
            "Setting up band-pass filter from 0.5 - 45 Hz\n",
            "\n",
            "FIR filter parameters\n",
            "---------------------\n",
            "Designing a one-pass, zero-phase, non-causal bandpass filter:\n",
            "- Windowed time-domain design (firwin) method\n",
            "- Hamming window with 0.0194 passband ripple and 53 dB stopband attenuation\n",
            "- Lower passband edge: 0.50\n",
            "- Lower transition bandwidth: 0.50 Hz (-6 dB cutoff frequency: 0.25 Hz)\n",
            "- Upper passband edge: 45.00 Hz\n",
            "- Upper transition bandwidth: 11.25 Hz (-6 dB cutoff frequency: 50.62 Hz)\n",
            "- Filter length: 3381 samples (6.604 s)\n",
            "\n"
          ]
        },
        {
          "output_type": "stream",
          "name": "stderr",
          "text": [
            "[Parallel(n_jobs=1)]: Done  17 tasks      | elapsed:    1.1s\n"
          ]
        },
        {
          "output_type": "stream",
          "name": "stdout",
          "text": [
            "Filtering raw data in 1 contiguous segment\n",
            "Setting up band-stop filter from 49 - 51 Hz\n",
            "\n",
            "FIR filter parameters\n",
            "---------------------\n",
            "Designing a one-pass, zero-phase, non-causal bandstop filter:\n",
            "- Windowed time-domain design (firwin) method\n",
            "- Hamming window with 0.0194 passband ripple and 53 dB stopband attenuation\n",
            "- Lower passband edge: 49.38\n",
            "- Lower transition bandwidth: 0.50 Hz (-6 dB cutoff frequency: 49.12 Hz)\n",
            "- Upper passband edge: 50.62 Hz\n",
            "- Upper transition bandwidth: 0.50 Hz (-6 dB cutoff frequency: 50.88 Hz)\n",
            "- Filter length: 3381 samples (6.604 s)\n",
            "\n"
          ]
        },
        {
          "output_type": "stream",
          "name": "stderr",
          "text": [
            "[Parallel(n_jobs=1)]: Done  17 tasks      | elapsed:    1.7s\n"
          ]
        },
        {
          "output_type": "stream",
          "name": "stdout",
          "text": [
            "Trigger channel Status has a non-zero initial value of 65536 (consider using initial_event=True to detect this event)\n",
            "Removing orphaned offset at the beginning of the file.\n",
            "288 events found on stim channel Status\n",
            "Event IDs: [1 2 3 4 5 7]\n",
            "Trigger channel Status has a non-zero initial value of 65536 (consider using initial_event=True to detect this event)\n",
            "Removing orphaned offset at the beginning of the file.\n",
            "287 events found on stim channel Status\n",
            "Event IDs: [1 2 3 4 5 7]\n",
            "Error processing ECG for Subject 9: picks ('ecg') could not be interpreted as channel names (no channel \"['ecg']\"), channel types (no type \"['ecg']\" present), or a generic type (just \"all\" or \"data\")\n",
            "Processing ECG for Subject 10...\n",
            "Loading data for Subject 10 from /content/MHyEEG/data/DEAP/data_original/s10.bdf\n",
            "Extracting EDF parameters from /content/MHyEEG/data/DEAP/data_original/s10.bdf...\n",
            "BDF file detected\n",
            "Setting channel info structure...\n",
            "Creating raw.info structure...\n",
            "Reading 0 ... 1798143  =      0.000 ...  3511.998 secs...\n"
          ]
        },
        {
          "output_type": "stream",
          "name": "stderr",
          "text": [
            "<ipython-input-7-8196ae832099>:28: RuntimeWarning: Resampling of the stim channels caused event information to become unreliable. Consider finding events on the original data and passing the event matrix as a parameter.\n",
            "  raw.resample(128)\n"
          ]
        },
        {
          "output_type": "stream",
          "name": "stdout",
          "text": [
            "NOTE: pick_channels() is a legacy function. New code should use inst.pick(...).\n",
            "Filtering raw data in 1 contiguous segment\n",
            "Setting up band-pass filter from 0.5 - 45 Hz\n",
            "\n",
            "FIR filter parameters\n",
            "---------------------\n",
            "Designing a one-pass, zero-phase, non-causal bandpass filter:\n",
            "- Windowed time-domain design (firwin) method\n",
            "- Hamming window with 0.0194 passband ripple and 53 dB stopband attenuation\n",
            "- Lower passband edge: 0.50\n",
            "- Lower transition bandwidth: 0.50 Hz (-6 dB cutoff frequency: 0.25 Hz)\n",
            "- Upper passband edge: 45.00 Hz\n",
            "- Upper transition bandwidth: 11.25 Hz (-6 dB cutoff frequency: 50.62 Hz)\n",
            "- Filter length: 3381 samples (6.604 s)\n",
            "\n"
          ]
        },
        {
          "output_type": "stream",
          "name": "stderr",
          "text": [
            "[Parallel(n_jobs=1)]: Done  17 tasks      | elapsed:    1.6s\n"
          ]
        },
        {
          "output_type": "stream",
          "name": "stdout",
          "text": [
            "Filtering raw data in 1 contiguous segment\n",
            "Setting up band-stop filter from 49 - 51 Hz\n",
            "\n",
            "FIR filter parameters\n",
            "---------------------\n",
            "Designing a one-pass, zero-phase, non-causal bandstop filter:\n",
            "- Windowed time-domain design (firwin) method\n",
            "- Hamming window with 0.0194 passband ripple and 53 dB stopband attenuation\n",
            "- Lower passband edge: 49.38\n",
            "- Lower transition bandwidth: 0.50 Hz (-6 dB cutoff frequency: 49.12 Hz)\n",
            "- Upper passband edge: 50.62 Hz\n",
            "- Upper transition bandwidth: 0.50 Hz (-6 dB cutoff frequency: 50.88 Hz)\n",
            "- Filter length: 3381 samples (6.604 s)\n",
            "\n"
          ]
        },
        {
          "output_type": "stream",
          "name": "stderr",
          "text": [
            "[Parallel(n_jobs=1)]: Done  17 tasks      | elapsed:    1.1s\n"
          ]
        },
        {
          "output_type": "stream",
          "name": "stdout",
          "text": [
            "Trigger channel Status has a non-zero initial value of 65536 (consider using initial_event=True to detect this event)\n",
            "Removing orphaned offset at the beginning of the file.\n",
            "288 events found on stim channel Status\n",
            "Event IDs: [1 2 3 4 5 7]\n",
            "Trigger channel Status has a non-zero initial value of 65536 (consider using initial_event=True to detect this event)\n",
            "Removing orphaned offset at the beginning of the file.\n",
            "288 events found on stim channel Status\n",
            "Event IDs: [1 2 3 4 5 7]\n",
            "Error processing ECG for Subject 10: picks ('ecg') could not be interpreted as channel names (no channel \"['ecg']\"), channel types (no type \"['ecg']\" present), or a generic type (just \"all\" or \"data\")\n",
            "Processing ECG for Subject 11...\n",
            "Loading data for Subject 11 from /content/MHyEEG/data/DEAP/data_original/s11.bdf\n",
            "Extracting EDF parameters from /content/MHyEEG/data/DEAP/data_original/s11.bdf...\n",
            "BDF file detected\n",
            "Setting channel info structure...\n",
            "Creating raw.info structure...\n",
            "Reading 0 ... 2130431  =      0.000 ...  4160.998 secs...\n",
            "NOTE: pick_channels() is a legacy function. New code should use inst.pick(...).\n",
            "Filtering raw data in 1 contiguous segment\n",
            "Setting up band-pass filter from 0.5 - 45 Hz\n",
            "\n",
            "FIR filter parameters\n",
            "---------------------\n",
            "Designing a one-pass, zero-phase, non-causal bandpass filter:\n",
            "- Windowed time-domain design (firwin) method\n",
            "- Hamming window with 0.0194 passband ripple and 53 dB stopband attenuation\n",
            "- Lower passband edge: 0.50\n",
            "- Lower transition bandwidth: 0.50 Hz (-6 dB cutoff frequency: 0.25 Hz)\n",
            "- Upper passband edge: 45.00 Hz\n",
            "- Upper transition bandwidth: 11.25 Hz (-6 dB cutoff frequency: 50.62 Hz)\n",
            "- Filter length: 3381 samples (6.604 s)\n",
            "\n"
          ]
        },
        {
          "output_type": "stream",
          "name": "stderr",
          "text": [
            "[Parallel(n_jobs=1)]: Done  17 tasks      | elapsed:    1.3s\n"
          ]
        },
        {
          "output_type": "stream",
          "name": "stdout",
          "text": [
            "Filtering raw data in 1 contiguous segment\n",
            "Setting up band-stop filter from 49 - 51 Hz\n",
            "\n",
            "FIR filter parameters\n",
            "---------------------\n",
            "Designing a one-pass, zero-phase, non-causal bandstop filter:\n",
            "- Windowed time-domain design (firwin) method\n",
            "- Hamming window with 0.0194 passband ripple and 53 dB stopband attenuation\n",
            "- Lower passband edge: 49.38\n",
            "- Lower transition bandwidth: 0.50 Hz (-6 dB cutoff frequency: 49.12 Hz)\n",
            "- Upper passband edge: 50.62 Hz\n",
            "- Upper transition bandwidth: 0.50 Hz (-6 dB cutoff frequency: 50.88 Hz)\n",
            "- Filter length: 3381 samples (6.604 s)\n",
            "\n"
          ]
        },
        {
          "output_type": "stream",
          "name": "stderr",
          "text": [
            "[Parallel(n_jobs=1)]: Done  17 tasks      | elapsed:    1.2s\n"
          ]
        },
        {
          "output_type": "stream",
          "name": "stdout",
          "text": [
            "Trigger channel Status has a non-zero initial value of 65536 (consider using initial_event=True to detect this event)\n",
            "Removing orphaned offset at the beginning of the file.\n",
            "288 events found on stim channel Status\n",
            "Event IDs: [1 2 3 4 5 7]\n",
            "Trigger channel Status has a non-zero initial value of 65536 (consider using initial_event=True to detect this event)\n",
            "Removing orphaned offset at the beginning of the file.\n",
            "287 events found on stim channel Status\n",
            "Event IDs: [1 2 3 4 5 7]\n",
            "Error processing ECG for Subject 11: picks ('ecg') could not be interpreted as channel names (no channel \"['ecg']\"), channel types (no type \"['ecg']\" present), or a generic type (just \"all\" or \"data\")\n",
            "Processing ECG for Subject 12...\n",
            "Loading data for Subject 12 from /content/MHyEEG/data/DEAP/data_original/s12.bdf\n",
            "Extracting EDF parameters from /content/MHyEEG/data/DEAP/data_original/s12.bdf...\n",
            "BDF file detected\n",
            "Setting channel info structure...\n",
            "Creating raw.info structure...\n",
            "Reading 0 ... 1790975  =      0.000 ...  3497.998 secs...\n"
          ]
        },
        {
          "output_type": "stream",
          "name": "stderr",
          "text": [
            "<ipython-input-7-8196ae832099>:28: RuntimeWarning: Resampling of the stim channels caused event information to become unreliable. Consider finding events on the original data and passing the event matrix as a parameter.\n",
            "  raw.resample(128)\n"
          ]
        },
        {
          "output_type": "stream",
          "name": "stdout",
          "text": [
            "NOTE: pick_channels() is a legacy function. New code should use inst.pick(...).\n",
            "Filtering raw data in 1 contiguous segment\n",
            "Setting up band-pass filter from 0.5 - 45 Hz\n",
            "\n",
            "FIR filter parameters\n",
            "---------------------\n",
            "Designing a one-pass, zero-phase, non-causal bandpass filter:\n",
            "- Windowed time-domain design (firwin) method\n",
            "- Hamming window with 0.0194 passband ripple and 53 dB stopband attenuation\n",
            "- Lower passband edge: 0.50\n",
            "- Lower transition bandwidth: 0.50 Hz (-6 dB cutoff frequency: 0.25 Hz)\n",
            "- Upper passband edge: 45.00 Hz\n",
            "- Upper transition bandwidth: 11.25 Hz (-6 dB cutoff frequency: 50.62 Hz)\n",
            "- Filter length: 3381 samples (6.604 s)\n",
            "\n"
          ]
        },
        {
          "output_type": "stream",
          "name": "stderr",
          "text": [
            "[Parallel(n_jobs=1)]: Done  17 tasks      | elapsed:    1.6s\n"
          ]
        },
        {
          "output_type": "stream",
          "name": "stdout",
          "text": [
            "Filtering raw data in 1 contiguous segment\n",
            "Setting up band-stop filter from 49 - 51 Hz\n",
            "\n",
            "FIR filter parameters\n",
            "---------------------\n",
            "Designing a one-pass, zero-phase, non-causal bandstop filter:\n",
            "- Windowed time-domain design (firwin) method\n",
            "- Hamming window with 0.0194 passband ripple and 53 dB stopband attenuation\n",
            "- Lower passband edge: 49.38\n",
            "- Lower transition bandwidth: 0.50 Hz (-6 dB cutoff frequency: 49.12 Hz)\n",
            "- Upper passband edge: 50.62 Hz\n",
            "- Upper transition bandwidth: 0.50 Hz (-6 dB cutoff frequency: 50.88 Hz)\n",
            "- Filter length: 3381 samples (6.604 s)\n",
            "\n"
          ]
        },
        {
          "output_type": "stream",
          "name": "stderr",
          "text": [
            "[Parallel(n_jobs=1)]: Done  17 tasks      | elapsed:    1.0s\n"
          ]
        }
      ]
    },
    {
      "cell_type": "markdown",
      "source": [
        "#### 1.3: DEAP(GSR) PRE-PROCESSING"
      ],
      "metadata": {
        "id": "IdPz03PWGGj1"
      }
    },
    {
      "cell_type": "code",
      "source": [
        "def preprocess_gsr(raw):\n",
        "    \"\"\"\n",
        "    Preprocess GSR data.\n",
        "    Steps:\n",
        "    - Low-pass filter at 60 Hz.\n",
        "    - Notch filter at 50 Hz.\n",
        "    - Downsample to 128 Hz.\n",
        "    - Baseline correction (200 ms before each trial).\n",
        "    Args:\n",
        "        raw (mne.io.Raw): Raw data object.\n",
        "    Returns:\n",
        "        np.ndarray: Preprocessed GSR data.\n",
        "    \"\"\"\n",
        "    # Select GSR channels\n",
        "    gsr_channels = [ch for ch in raw.info['ch_names'] if 'GSR' in ch]\n",
        "    raw.pick_channels(gsr_channels)\n",
        "\n",
        "    # Low-pass filter at 60 Hz\n",
        "    raw.filter(l_freq=None, h_freq=60.0)\n",
        "\n",
        "    # Notch filter at 50 Hz\n",
        "    raw.notch_filter(freqs=50.0)\n",
        "\n",
        "    # Downsample to 128 Hz\n",
        "    raw.resample(128)\n",
        "\n",
        "    # Baseline correction (adjust to the mean of the preceding 200 ms)\n",
        "    raw.apply_function(lambda x: x - x.mean(axis=-1, keepdims=True), picks=\"misc\")\n",
        "\n",
        "    return raw.get_data()\n",
        "\n",
        "def save_preprocessed_gsr(data, output_dir, subject_id):\n",
        "    \"\"\"\n",
        "    Save preprocessed GSR data as NumPy array.\n",
        "    Args:\n",
        "        data (np.ndarray): Preprocessed GSR data.\n",
        "        output_dir (str): Directory to save processed data.\n",
        "        subject_id (int): Subject ID (1-32).\n",
        "    \"\"\"\n",
        "    os.makedirs(output_dir, exist_ok=True)\n",
        "    file_path = os.path.join(output_dir, f\"subject_{subject_id:02d}_gsr.npy\")\n",
        "    np.save(file_path, data)\n",
        "    print(f\"Saved preprocessed GSR data for Subject {subject_id} to {file_path}\")\n",
        "\n",
        "if __name__ == \"__main__\":\n",
        "    data_dir = \"/content/MHyEEG/data/DEAP/data_original\"\n",
        "    output_dir = \"/content/MHyEEG/data/DEAP/data_preprocessed/GSR\"\n",
        "\n",
        "    for subject_id in range(1, 33):\n",
        "        print(f\"Processing GSR for Subject {subject_id}...\")\n",
        "        try:\n",
        "            raw = load_raw_data(data_dir, subject_id)\n",
        "            preprocessed_gsr = preprocess_gsr(raw)\n",
        "            save_preprocessed_gsr(preprocessed_gsr, output_dir, subject_id)\n",
        "        except Exception as e:\n",
        "            print(f\"Error processing GSR for Subject {subject_id}: {e}\")\n"
      ],
      "metadata": {
        "id": "iqwjwqWmGr0U"
      },
      "execution_count": null,
      "outputs": []
    },
    {
      "cell_type": "markdown",
      "source": [
        "#### 1.4: DEAP(EOG) PRE-PROCESSING"
      ],
      "metadata": {
        "id": "zVQjAOC1GRIB"
      }
    },
    {
      "cell_type": "code",
      "source": [
        "def preprocess_eog(raw):\n",
        "    \"\"\"\n",
        "    Preprocess EOG (Eye Movement) data.\n",
        "    Steps:\n",
        "    - Average the left and right eye measurements.\n",
        "    - Retain -1 values (indicating blinks or rapid movements).\n",
        "    - Downsample to 128 Hz.\n",
        "    Args:\n",
        "        raw (mne.io.Raw): Raw data object.\n",
        "    Returns:\n",
        "        np.ndarray: Preprocessed EOG data.\n",
        "    \"\"\"\n",
        "    # Select EOG channels (assuming channel names include 'EXG')\n",
        "    eog_channels = ['EXG1', 'EXG2']  # Adjust these based on your dataset's naming\n",
        "    raw.pick_channels(eog_channels)\n",
        "\n",
        "    # Average the left (EXG1) and right (EXG2) eye channels\n",
        "    eog_data = raw.get_data()\n",
        "    averaged_eog = eog_data.mean(axis=0, keepdims=True)\n",
        "\n",
        "    # Downsample to 128 Hz\n",
        "    raw.resample(128)\n",
        "\n",
        "    # Retain -1 values to indicate blinks or rapid movements\n",
        "    averaged_eog[averaged_eog == -1] = -1\n",
        "\n",
        "    return averaged_eog\n",
        "\n",
        "def save_preprocessed_eog(data, output_dir, subject_id):\n",
        "    \"\"\"\n",
        "    Save preprocessed EOG data as NumPy array.\n",
        "    Args:\n",
        "        data (np.ndarray): Preprocessed EOG data.\n",
        "        output_dir (str): Directory to save processed data.\n",
        "        subject_id (int): Subject ID (1-32).\n",
        "    \"\"\"\n",
        "    os.makedirs(output_dir, exist_ok=True)\n",
        "    file_path = os.path.join(output_dir, f\"subject_{subject_id:02d}_eog.npy\")\n",
        "    np.save(file_path, data)\n",
        "    print(f\"Saved preprocessed EOG data for Subject {subject_id} to {file_path}\")\n",
        "\n",
        "if __name__ == \"__main__\":\n",
        "    data_dir = \"/content/MHyEEG/data/DEAP/data_original\"\n",
        "    output_dir = \"/content/MHyEEG/data/DEAP/preprocessed_eog\"\n",
        "\n",
        "    for subject_id in range(1, 33):\n",
        "        print(f\"Processing EOG for Subject {subject_id}...\")\n",
        "        try:\n",
        "            raw = load_raw_data(data_dir, subject_id)\n",
        "            preprocessed_eog = preprocess_eog(raw)\n",
        "            save_preprocessed_eog(preprocessed_eog, output_dir, subject_id)\n",
        "        except Exception as e:\n",
        "            print(f\"Error processing EOG for Subject {subject_id}: {e}\")\n"
      ],
      "metadata": {
        "id": "KKy6nbXuG54a"
      },
      "execution_count": null,
      "outputs": []
    }
  ],
  "metadata": {
    "language_info": {
      "name": "python"
    },
    "colab": {
      "provenance": []
    },
    "kernelspec": {
      "name": "python3",
      "display_name": "Python 3"
    }
  },
  "nbformat": 4,
  "nbformat_minor": 0
}